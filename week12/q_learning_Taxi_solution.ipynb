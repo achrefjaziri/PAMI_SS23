{
 "nbformat": 4,
 "nbformat_minor": 0,
 "metadata": {
  "colab": {
   "provenance": []
  },
  "kernelspec": {
   "name": "python3",
   "language": "python",
   "display_name": "Python 3 (ipykernel)"
  }
 },
 "cells": [
  {
   "cell_type": "markdown",
   "metadata": {
    "id": "view-in-github"
   },
   "source": [
    "<a href=\"https://colab.research.google.com/github/ccc-frankfurt/Practical_ML_SS21/blob/main/week10/q_learning_Taxi_solution.ipynb\" target=\"_parent\"><img src=\"https://colab.research.google.com/assets/colab-badge.svg\" alt=\"Open In Colab\"/></a>"
   ]
  },
  {
   "cell_type": "markdown",
   "metadata": {
    "id": "gRyizSSW2LDA"
   },
   "source": [
    "This notebook is based on coursera's Practical RL course by National Research University Higher School of Economics, https://www.coursera.org/learn/practical-rl/home/welcome\n",
    "\n",
    "We will make a Q-Learning agent to solve OpenAI Gym's Taxi problem.\n",
    "\n",
    "Q-Learning update equation:\n",
    "\n",
    "\n",
    "*   tabular: $$ Q(s,a) := (1 - \\alpha) \\cdot Q(s,a) + \\alpha \\cdot (r(s,a) + \\gamma \\cdot V(s')) \\\\ = Q(s,a) + \\alpha \\cdot (r(s,a) + \\gamma \\cdot V(s') - Q(s,a))$$\n",
    "\n",
    "For more definitions, see also https://towardsdatascience.com/the-complete-reinforcement-learning-dictionary-e16230b7d24e"
   ]
  },
  {
   "cell_type": "code",
   "metadata": {
    "id": "KdVjjTaIlms4",
    "ExecuteTime": {
     "end_time": "2023-06-29T08:05:52.261839044Z",
     "start_time": "2023-06-29T08:05:51.894113630Z"
    }
   },
   "source": [
    "from collections import defaultdict\n",
    "import random, math\n",
    "import numpy as np\n",
    "import matplotlib.pyplot as plt\n",
    "from matplotlib import animation\n",
    "from IPython.display import HTML"
   ],
   "execution_count": 1,
   "outputs": []
  },
  {
   "cell_type": "markdown",
   "metadata": {
    "id": "dZQyTVzLTJva"
   },
   "source": [
    "We pick a simple test environment for q-learning: picking up and dropping off customers.\n",
    "\n",
    "Note that for the Taxi environment your reward can be negative, see link for details: https://gym.openai.com/envs/Taxi-v3/"
   ]
  },
  {
   "cell_type": "code",
   "metadata": {
    "id": "iRp87KGKu8Ia",
    "colab": {
     "base_uri": "https://localhost:8080/"
    },
    "outputId": "cd4c7b47-31da-48aa-867c-89bc5da42ee1",
    "ExecuteTime": {
     "end_time": "2023-06-29T08:08:41.790725058Z",
     "start_time": "2023-06-29T08:08:41.782545137Z"
    }
   },
   "source": [
    "import gym\n",
    "\n",
    "env = gym.make(\"Taxi-v3\", render_mode=\"ansi\")\n",
    "env.reset()\n",
    "\n",
    "n_actions = env.action_space.n\n",
    "\n",
    "print('Number of discrete actions:', n_actions, ' - pick up, drop off, up, down, left, right')\n",
    "# observations\n",
    "print(env.observation_space)"
   ],
   "execution_count": 11,
   "outputs": [
    {
     "output_type": "stream",
     "name": "stdout",
     "text": [
      "Number of discrete actions: 6  - pick up, drop off, up, down, left, right\n",
      "Discrete(500)\n"
     ]
    },
    {
     "output_type": "stream",
     "name": "stderr",
     "text": [
      "/usr/local/lib/python3.10/dist-packages/ipykernel/ipkernel.py:283: DeprecationWarning: `should_run_async` will not call `transform_cell` automatically in the future. Please pass the result to `transformed_cell` argument and any exception that happen during thetransform in `preprocessing_exc_tuple` in IPython 7.17 and above.\n",
      "  and should_run_async(code)\n",
      "/usr/local/lib/python3.10/dist-packages/gym/core.py:317: DeprecationWarning: \u001B[33mWARN: Initializing wrapper in old step API which returns one bool instead of two. It is recommended to set `new_step_api=True` to use new step API. This will be the default behaviour in future.\u001B[0m\n",
      "  deprecation(\n",
      "/usr/local/lib/python3.10/dist-packages/gym/wrappers/step_api_compatibility.py:39: DeprecationWarning: \u001B[33mWARN: Initializing environment in old step API which returns one bool instead of two. It is recommended to set `new_step_api=True` to use new step API. This will be the default behaviour in future.\u001B[0m\n",
      "  deprecation(\n"
     ]
    }
   ]
  },
  {
   "cell_type": "markdown",
   "metadata": {
    "id": "1AruLHu_TYi4"
   },
   "source": [
    "Let's play a game (pick-up and drop off a customer) and see what happens if actions are just randomly sampled."
   ]
  },
  {
   "cell_type": "code",
   "metadata": {
    "id": "l5JI_2WR1cSE",
    "colab": {
     "base_uri": "https://localhost:8080/"
    },
    "outputId": "352bb0cf-bc3c-4280-813c-8c0b172bb23b",
    "ExecuteTime": {
     "end_time": "2023-06-29T08:08:43.358482113Z",
     "start_time": "2023-06-29T08:08:43.275186931Z"
    }
   },
   "source": [
    "# render the observations to see how your taxi navigates through the maze\n",
    "s = env.reset()\n",
    "for _ in range(30):\n",
    "    # sample an action\n",
    "    a = env.action_space.sample()\n",
    "    print('Action', a)\n",
    "    # get the reward and the next state and whether the game has finished\n",
    "    next_s, r, done, _ = env.step(a)\n",
    "    # set the state to the next one\n",
    "    s = next_s\n",
    "\n",
    "    print('reward: ',r)\n",
    "\n",
    "    rendered_env = env.render()\n",
    "    print(rendered_env) # to watch the environment in the console\n",
    "\n",
    "    if done:\n",
    "      break"
   ],
   "execution_count": 12,
   "outputs": [
    {
     "output_type": "stream",
     "name": "stdout",
     "text": [
      "Action 4\n",
      "reward:  -10\n",
      "['+---------+\\n|R: | : :\\x1b[35mG\\x1b[0m|\\n| : | : :\\x1b[43m \\x1b[0m|\\n| : : : : |\\n| | : | : |\\n|\\x1b[34;1mY\\x1b[0m| : |B: |\\n+---------+\\n\\n', '+---------+\\n|R: | : :\\x1b[35mG\\x1b[0m|\\n| : | : :\\x1b[43m \\x1b[0m|\\n| : : : : |\\n| | : | : |\\n|\\x1b[34;1mY\\x1b[0m| : |B: |\\n+---------+\\n  (Pickup)\\n']\n",
      "Action 0\n",
      "reward:  -1\n",
      "['+---------+\\n|R: | : :\\x1b[35mG\\x1b[0m|\\n| : | : : |\\n| : : : :\\x1b[43m \\x1b[0m|\\n| | : | : |\\n|\\x1b[34;1mY\\x1b[0m| : |B: |\\n+---------+\\n  (South)\\n']\n",
      "Action 1\n",
      "reward:  -1\n",
      "['+---------+\\n|R: | : :\\x1b[35mG\\x1b[0m|\\n| : | : :\\x1b[43m \\x1b[0m|\\n| : : : : |\\n| | : | : |\\n|\\x1b[34;1mY\\x1b[0m| : |B: |\\n+---------+\\n  (North)\\n']\n",
      "Action 0\n",
      "reward:  -1\n",
      "['+---------+\\n|R: | : :\\x1b[35mG\\x1b[0m|\\n| : | : : |\\n| : : : :\\x1b[43m \\x1b[0m|\\n| | : | : |\\n|\\x1b[34;1mY\\x1b[0m| : |B: |\\n+---------+\\n  (South)\\n']\n",
      "Action 3\n",
      "reward:  -1\n",
      "['+---------+\\n|R: | : :\\x1b[35mG\\x1b[0m|\\n| : | : : |\\n| : : :\\x1b[43m \\x1b[0m: |\\n| | : | : |\\n|\\x1b[34;1mY\\x1b[0m| : |B: |\\n+---------+\\n  (West)\\n']\n",
      "Action 2\n",
      "reward:  -1\n",
      "['+---------+\\n|R: | : :\\x1b[35mG\\x1b[0m|\\n| : | : : |\\n| : : : :\\x1b[43m \\x1b[0m|\\n| | : | : |\\n|\\x1b[34;1mY\\x1b[0m| : |B: |\\n+---------+\\n  (East)\\n']\n",
      "Action 1\n",
      "reward:  -1\n",
      "['+---------+\\n|R: | : :\\x1b[35mG\\x1b[0m|\\n| : | : :\\x1b[43m \\x1b[0m|\\n| : : : : |\\n| | : | : |\\n|\\x1b[34;1mY\\x1b[0m| : |B: |\\n+---------+\\n  (North)\\n']\n",
      "Action 1\n",
      "reward:  -1\n",
      "['+---------+\\n|R: | : :\\x1b[35m\\x1b[43mG\\x1b[0m\\x1b[0m|\\n| : | : : |\\n| : : : : |\\n| | : | : |\\n|\\x1b[34;1mY\\x1b[0m| : |B: |\\n+---------+\\n  (North)\\n']\n",
      "Action 2\n",
      "reward:  -1\n",
      "['+---------+\\n|R: | : :\\x1b[35m\\x1b[43mG\\x1b[0m\\x1b[0m|\\n| : | : : |\\n| : : : : |\\n| | : | : |\\n|\\x1b[34;1mY\\x1b[0m| : |B: |\\n+---------+\\n  (East)\\n']\n",
      "Action 2\n",
      "reward:  -1\n",
      "['+---------+\\n|R: | : :\\x1b[35m\\x1b[43mG\\x1b[0m\\x1b[0m|\\n| : | : : |\\n| : : : : |\\n| | : | : |\\n|\\x1b[34;1mY\\x1b[0m| : |B: |\\n+---------+\\n  (East)\\n']\n",
      "Action 2\n",
      "reward:  -1\n",
      "['+---------+\\n|R: | : :\\x1b[35m\\x1b[43mG\\x1b[0m\\x1b[0m|\\n| : | : : |\\n| : : : : |\\n| | : | : |\\n|\\x1b[34;1mY\\x1b[0m| : |B: |\\n+---------+\\n  (East)\\n']\n",
      "Action 2\n",
      "reward:  -1\n",
      "['+---------+\\n|R: | : :\\x1b[35m\\x1b[43mG\\x1b[0m\\x1b[0m|\\n| : | : : |\\n| : : : : |\\n| | : | : |\\n|\\x1b[34;1mY\\x1b[0m| : |B: |\\n+---------+\\n  (East)\\n']\n",
      "Action 1\n",
      "reward:  -1\n",
      "['+---------+\\n|R: | : :\\x1b[35m\\x1b[43mG\\x1b[0m\\x1b[0m|\\n| : | : : |\\n| : : : : |\\n| | : | : |\\n|\\x1b[34;1mY\\x1b[0m| : |B: |\\n+---------+\\n  (North)\\n']\n",
      "Action 5\n",
      "reward:  -10\n",
      "['+---------+\\n|R: | : :\\x1b[35m\\x1b[43mG\\x1b[0m\\x1b[0m|\\n| : | : : |\\n| : : : : |\\n| | : | : |\\n|\\x1b[34;1mY\\x1b[0m| : |B: |\\n+---------+\\n  (Dropoff)\\n']\n",
      "Action 2\n",
      "reward:  -1\n",
      "['+---------+\\n|R: | : :\\x1b[35m\\x1b[43mG\\x1b[0m\\x1b[0m|\\n| : | : : |\\n| : : : : |\\n| | : | : |\\n|\\x1b[34;1mY\\x1b[0m| : |B: |\\n+---------+\\n  (East)\\n']\n",
      "Action 4\n",
      "reward:  -10\n",
      "['+---------+\\n|R: | : :\\x1b[35m\\x1b[43mG\\x1b[0m\\x1b[0m|\\n| : | : : |\\n| : : : : |\\n| | : | : |\\n|\\x1b[34;1mY\\x1b[0m| : |B: |\\n+---------+\\n  (Pickup)\\n']\n",
      "Action 4\n",
      "reward:  -10\n",
      "['+---------+\\n|R: | : :\\x1b[35m\\x1b[43mG\\x1b[0m\\x1b[0m|\\n| : | : : |\\n| : : : : |\\n| | : | : |\\n|\\x1b[34;1mY\\x1b[0m| : |B: |\\n+---------+\\n  (Pickup)\\n']\n",
      "Action 0\n",
      "reward:  -1\n",
      "['+---------+\\n|R: | : :\\x1b[35mG\\x1b[0m|\\n| : | : :\\x1b[43m \\x1b[0m|\\n| : : : : |\\n| | : | : |\\n|\\x1b[34;1mY\\x1b[0m| : |B: |\\n+---------+\\n  (South)\\n']\n",
      "Action 3\n",
      "reward:  -1\n",
      "['+---------+\\n|R: | : :\\x1b[35mG\\x1b[0m|\\n| : | :\\x1b[43m \\x1b[0m: |\\n| : : : : |\\n| | : | : |\\n|\\x1b[34;1mY\\x1b[0m| : |B: |\\n+---------+\\n  (West)\\n']\n",
      "Action 4\n",
      "reward:  -10\n",
      "['+---------+\\n|R: | : :\\x1b[35mG\\x1b[0m|\\n| : | :\\x1b[43m \\x1b[0m: |\\n| : : : : |\\n| | : | : |\\n|\\x1b[34;1mY\\x1b[0m| : |B: |\\n+---------+\\n  (Pickup)\\n']\n",
      "Action 4\n",
      "reward:  -10\n",
      "['+---------+\\n|R: | : :\\x1b[35mG\\x1b[0m|\\n| : | :\\x1b[43m \\x1b[0m: |\\n| : : : : |\\n| | : | : |\\n|\\x1b[34;1mY\\x1b[0m| : |B: |\\n+---------+\\n  (Pickup)\\n']\n",
      "Action 0\n",
      "reward:  -1\n",
      "['+---------+\\n|R: | : :\\x1b[35mG\\x1b[0m|\\n| : | : : |\\n| : : :\\x1b[43m \\x1b[0m: |\\n| | : | : |\\n|\\x1b[34;1mY\\x1b[0m| : |B: |\\n+---------+\\n  (South)\\n']\n",
      "Action 4\n",
      "reward:  -10\n",
      "['+---------+\\n|R: | : :\\x1b[35mG\\x1b[0m|\\n| : | : : |\\n| : : :\\x1b[43m \\x1b[0m: |\\n| | : | : |\\n|\\x1b[34;1mY\\x1b[0m| : |B: |\\n+---------+\\n  (Pickup)\\n']\n",
      "Action 4\n",
      "reward:  -10\n",
      "['+---------+\\n|R: | : :\\x1b[35mG\\x1b[0m|\\n| : | : : |\\n| : : :\\x1b[43m \\x1b[0m: |\\n| | : | : |\\n|\\x1b[34;1mY\\x1b[0m| : |B: |\\n+---------+\\n  (Pickup)\\n']\n",
      "Action 4\n",
      "reward:  -10\n",
      "['+---------+\\n|R: | : :\\x1b[35mG\\x1b[0m|\\n| : | : : |\\n| : : :\\x1b[43m \\x1b[0m: |\\n| | : | : |\\n|\\x1b[34;1mY\\x1b[0m| : |B: |\\n+---------+\\n  (Pickup)\\n']\n",
      "Action 4\n",
      "reward:  -10\n",
      "['+---------+\\n|R: | : :\\x1b[35mG\\x1b[0m|\\n| : | : : |\\n| : : :\\x1b[43m \\x1b[0m: |\\n| | : | : |\\n|\\x1b[34;1mY\\x1b[0m| : |B: |\\n+---------+\\n  (Pickup)\\n']\n",
      "Action 5\n",
      "reward:  -10\n",
      "['+---------+\\n|R: | : :\\x1b[35mG\\x1b[0m|\\n| : | : : |\\n| : : :\\x1b[43m \\x1b[0m: |\\n| | : | : |\\n|\\x1b[34;1mY\\x1b[0m| : |B: |\\n+---------+\\n  (Dropoff)\\n']\n",
      "Action 0\n",
      "reward:  -1\n",
      "['+---------+\\n|R: | : :\\x1b[35mG\\x1b[0m|\\n| : | : : |\\n| : : : : |\\n| | : |\\x1b[43m \\x1b[0m: |\\n|\\x1b[34;1mY\\x1b[0m| : |B: |\\n+---------+\\n  (South)\\n']\n",
      "Action 2\n",
      "reward:  -1\n",
      "['+---------+\\n|R: | : :\\x1b[35mG\\x1b[0m|\\n| : | : : |\\n| : : : : |\\n| | : | :\\x1b[43m \\x1b[0m|\\n|\\x1b[34;1mY\\x1b[0m| : |B: |\\n+---------+\\n  (East)\\n']\n",
      "Action 4\n",
      "reward:  -10\n",
      "['+---------+\\n|R: | : :\\x1b[35mG\\x1b[0m|\\n| : | : : |\\n| : : : : |\\n| | : | :\\x1b[43m \\x1b[0m|\\n|\\x1b[34;1mY\\x1b[0m| : |B: |\\n+---------+\\n  (Pickup)\\n']\n"
     ]
    }
   ]
  },
  {
   "cell_type": "markdown",
   "metadata": {
    "id": "fprOgg9ZTnd4"
   },
   "source": [
    "Let's now build an agent which will learn a better policy to pick up customers.\n"
   ]
  },
  {
   "cell_type": "code",
   "metadata": {
    "id": "D1nsw7Ex0Kuf"
   },
   "source": [
    "class QLearningAgent:\n",
    "    def __init__(self, alpha, epsilon, discount, get_legal_actions):\n",
    "        \"\"\"\n",
    "        Q-Learning Agent\n",
    "        based on http://ai.berkeley.edu/projects/release/reinforcement/v1/001/docs/qlearningAgents.html\n",
    "\n",
    "        \"\"\"\n",
    "\n",
    "        self.get_legal_actions = get_legal_actions\n",
    "        # dictionary of expected rewards for (state,action) pairs\n",
    "        # it is a dictionary of dictionaries, because for every state,\n",
    "        # there could be multiple actions, each of which has qvalue\n",
    "        self._qvalues = defaultdict(lambda: defaultdict(lambda: 0))\n",
    "        # learning rate\n",
    "        self.alpha = alpha\n",
    "        # exploration-exploitation trade-off\n",
    "        self.epsilon = epsilon\n",
    "        # gamma - the future reward discount factor\n",
    "        self.discount = discount\n",
    "\n",
    "    def get_qvalue(self, state, action):\n",
    "        \"\"\" Returns Q(state,action) \"\"\"\n",
    "        return self._qvalues[state][action]\n",
    "\n",
    "    def set_qvalue(self,state,action,value):\n",
    "        \"\"\" Sets the Qvalue for [state,action] to the given value \"\"\"\n",
    "        self._qvalues[state][action] = value\n",
    "\n",
    "    def get_value(self, state):\n",
    "        \"\"\"\n",
    "        Compute your agent's estimate of V(s) using current q-values\n",
    "        V(s) = max_over_action Q(state,action) over possible actions.\n",
    "        Note: please take into account that q-values can be negative.\n",
    "        \"\"\"\n",
    "        possible_actions = self.get_legal_actions(state)\n",
    "\n",
    "        #If there are no legal actions, return 0.0\n",
    "        if len(possible_actions) == 0:\n",
    "            return 0.0\n",
    "\n",
    "        # go through all possible actions, check the qvalue and return the max\n",
    "\n",
    "        value = -np.inf\n",
    "\n",
    "        for action in possible_actions:\n",
    "            tmp_val = self.get_qvalue(state, action)\n",
    "            if value < tmp_val:\n",
    "                value = tmp_val\n",
    "\n",
    "        return value\n",
    "\n",
    "    def get_best_action(self, state):\n",
    "        \"\"\"\n",
    "        Compute the best action to take in a state (using current q-values).\n",
    "        \"\"\"\n",
    "        possible_actions = self.get_legal_actions(state)\n",
    "\n",
    "        #If there are no legal actions, return None\n",
    "        if len(possible_actions) == 0:\n",
    "            return None\n",
    "\n",
    "        # analog to the get_value method, with a different return\n",
    "\n",
    "        value = -np.inf\n",
    "        best_action = None\n",
    "\n",
    "        for action in possible_actions:\n",
    "            tmp_val =self. get_qvalue(state, action)\n",
    "            if value < tmp_val:\n",
    "                value = tmp_val\n",
    "                best_action = action\n",
    "\n",
    "        return best_action\n",
    "\n",
    "    def get_action(self, state):\n",
    "        \"\"\"\n",
    "        Compute the action to take in the current state, including exploration.\n",
    "        With probability self.epsilon, we should take a random action.\n",
    "            otherwise - the best policy action.\n",
    "\n",
    "        Note: To pick randomly from a list, use random.choice(list).\n",
    "              To pick True or False with a given probablity, generate uniform number in [0, 1]\n",
    "              and compare it with your probability.\n",
    "        \"\"\"\n",
    "\n",
    "        # Pick Action\n",
    "        possible_actions = self.get_legal_actions(state)\n",
    "\n",
    "        # If there are no legal actions, return None\n",
    "        if len(possible_actions) == 0:\n",
    "            return None\n",
    "\n",
    "        # agent parameters:\n",
    "        epsilon = self.epsilon\n",
    "        pick_best = np.random.rand() >= epsilon\n",
    "\n",
    "        if pick_best:\n",
    "            chosen_action = self.get_best_action(state)\n",
    "        else:\n",
    "            chosen_action = np.random.choice(possible_actions)\n",
    "\n",
    "        return chosen_action\n",
    "\n",
    "    def update(self, state, action, reward, next_state, done):\n",
    "        \"\"\"\n",
    "        You should do your Q-Value update here:\n",
    "           Q(s,a) := (1 - alpha) * Q(s,a) + alpha * (r + gamma * V(s'))\n",
    "\n",
    "        Hint: use get_value method\n",
    "        \"\"\"\n",
    "\n",
    "        #agent parameters\n",
    "        gamma = self.discount\n",
    "        learning_rate = self.alpha\n",
    "\n",
    "        value = (1 - learning_rate) * self.get_qvalue(state, action)\n",
    "        value += learning_rate * (reward + gamma * self.get_value(next_state))\n",
    "\n",
    "        self.set_qvalue(state, action, value)"
   ],
   "execution_count": 13,
   "outputs": []
  },
  {
   "cell_type": "code",
   "metadata": {
    "id": "v0sBB3ZbsSqQ"
   },
   "source": [
    "# initialize a new agent\n",
    "agent = QLearningAgent(alpha=0.5, epsilon=0.25, discount=0.99,\n",
    "                       get_legal_actions = lambda s: range(n_actions))"
   ],
   "execution_count": 14,
   "outputs": []
  },
  {
   "cell_type": "code",
   "metadata": {
    "id": "l7AysnffDtLF",
    "colab": {
     "base_uri": "https://localhost:8080/"
    },
    "outputId": "46ca1bc9-b28d-43ae-83da-bcfc8d132522"
   },
   "source": [
    "# update at each train step\n",
    "def play_and_train(env,agent,t_max=10**4):\n",
    "    \"\"\"\n",
    "    This function should\n",
    "    - run a full game, actions given by agent's e-greedy policy\n",
    "    - train agent using agent.update(...) whenever it is possible\n",
    "    - return total reward\n",
    "    \"\"\"\n",
    "    total_reward = 0.0\n",
    "    s  = env.reset()\n",
    "\n",
    "    for t in range(t_max):\n",
    "        # get agent to pick action given state s, get new state and reward, then update your agent\n",
    "        a = agent.get_action(s)\n",
    "\n",
    "        next_s, r, done, _ = env.step(a)\n",
    "\n",
    "        # train (update) agent for state s\n",
    "        agent.update(s, a, r, next_s, done)\n",
    "\n",
    "        s = next_s\n",
    "        total_reward +=r\n",
    "        if done:\n",
    "            break\n",
    "\n",
    "    return total_reward"
   ],
   "execution_count": 19,
   "outputs": [
    {
     "output_type": "stream",
     "name": "stderr",
     "text": [
      "/usr/local/lib/python3.10/dist-packages/ipykernel/ipkernel.py:283: DeprecationWarning: `should_run_async` will not call `transform_cell` automatically in the future. Please pass the result to `transformed_cell` argument and any exception that happen during thetransform in `preprocessing_exc_tuple` in IPython 7.17 and above.\n",
      "  and should_run_async(code)\n"
     ]
    }
   ]
  },
  {
   "cell_type": "markdown",
   "metadata": {
    "id": "Yb5lHa_KZybJ"
   },
   "source": [
    "Let us visualize the reward: play a game and update the agent, dicrease exploration (since the agent has already learned something) and plot the mean reward over the last ones."
   ]
  },
  {
   "cell_type": "code",
   "metadata": {
    "id": "jJeVP7SoVguN",
    "colab": {
     "base_uri": "https://localhost:8080/",
     "height": 447
    },
    "outputId": "229382e2-a8c3-4e87-8e38-ee77adb12d19"
   },
   "source": [
    "from IPython.display import clear_output\n",
    "\n",
    "rewards = []\n",
    "for i in range(1000):\n",
    "    rewards.append(play_and_train(env, agent))\n",
    "    # we are making epsilon smaller\n",
    "    agent.epsilon *= 0.99\n",
    "\n",
    "    if i %100 ==0:\n",
    "        clear_output(True)\n",
    "        print('eps =', agent.epsilon, 'mean reward =', np.mean(rewards[-10:]))\n",
    "        plt.plot(rewards)\n",
    "        plt.show()"
   ],
   "execution_count": 20,
   "outputs": [
    {
     "output_type": "stream",
     "name": "stdout",
     "text": [
      "eps = 2.9191091959171894e-05 mean reward = 7.6\n"
     ]
    },
    {
     "output_type": "display_data",
     "data": {
      "text/plain": [
       "<Figure size 640x480 with 1 Axes>"
      ],
      "image/png": "[encoded data removed]"
     },
     "metadata": {}
    }
   ]
  },
  {
   "cell_type": "code",
   "metadata": {
    "id": "fgw17Mw2Wcya",
    "colab": {
     "base_uri": "https://localhost:8080/"
    },
    "outputId": "88767d22-fbb3-4b35-dfa6-99e254ec1f76"
   },
   "source": [
    "# render the observations to see how your taxi navigates through the maze\n",
    "s = env.reset()\n",
    "for _ in range(30):\n",
    "    a = agent.get_best_action(s)\n",
    "\n",
    "    next_s, r, done, _ = env.step(a)\n",
    "\n",
    "    s = next_s\n",
    "\n",
    "    rendered_env = env.render()\n",
    "    print(rendered_env) # to watch the environment in the console\n",
    "\n",
    "    if done:\n",
    "      break"
   ],
   "execution_count": 22,
   "outputs": [
    {
     "output_type": "stream",
     "name": "stdout",
     "text": [
      "['+---------+\\n|\\x1b[34;1mR\\x1b[0m: | : :\\x1b[35mG\\x1b[0m|\\n| : | : : |\\n| : : : : |\\n| | : | : |\\n|Y| : |\\x1b[43mB\\x1b[0m: |\\n+---------+\\n\\n', '+---------+\\n|\\x1b[34;1mR\\x1b[0m: | : :\\x1b[35mG\\x1b[0m|\\n| : | : : |\\n| : : : : |\\n| | : |\\x1b[43m \\x1b[0m: |\\n|Y| : |B: |\\n+---------+\\n  (North)\\n']\n",
      "['+---------+\\n|\\x1b[34;1mR\\x1b[0m: | : :\\x1b[35mG\\x1b[0m|\\n| : | : : |\\n| : : :\\x1b[43m \\x1b[0m: |\\n| | : | : |\\n|Y| : |B: |\\n+---------+\\n  (North)\\n']\n",
      "['+---------+\\n|\\x1b[34;1mR\\x1b[0m: | : :\\x1b[35mG\\x1b[0m|\\n| : | : : |\\n| : :\\x1b[43m \\x1b[0m: : |\\n| | : | : |\\n|Y| : |B: |\\n+---------+\\n  (West)\\n']\n",
      "['+---------+\\n|\\x1b[34;1mR\\x1b[0m: | : :\\x1b[35mG\\x1b[0m|\\n| : | : : |\\n| :\\x1b[43m \\x1b[0m: : : |\\n| | : | : |\\n|Y| : |B: |\\n+---------+\\n  (West)\\n']\n",
      "['+---------+\\n|\\x1b[34;1mR\\x1b[0m: | : :\\x1b[35mG\\x1b[0m|\\n| :\\x1b[43m \\x1b[0m| : : |\\n| : : : : |\\n| | : | : |\\n|Y| : |B: |\\n+---------+\\n  (North)\\n']\n",
      "['+---------+\\n|\\x1b[34;1mR\\x1b[0m:\\x1b[43m \\x1b[0m| : :\\x1b[35mG\\x1b[0m|\\n| : | : : |\\n| : : : : |\\n| | : | : |\\n|Y| : |B: |\\n+---------+\\n  (North)\\n']\n",
      "['+---------+\\n|\\x1b[34;1m\\x1b[43mR\\x1b[0m\\x1b[0m: | : :\\x1b[35mG\\x1b[0m|\\n| : | : : |\\n| : : : : |\\n| | : | : |\\n|Y| : |B: |\\n+---------+\\n  (West)\\n']\n",
      "['+---------+\\n|\\x1b[42mR\\x1b[0m: | : :\\x1b[35mG\\x1b[0m|\\n| : | : : |\\n| : : : : |\\n| | : | : |\\n|Y| : |B: |\\n+---------+\\n  (Pickup)\\n']\n",
      "['+---------+\\n|R: | : :\\x1b[35mG\\x1b[0m|\\n|\\x1b[42m_\\x1b[0m: | : : |\\n| : : : : |\\n| | : | : |\\n|Y| : |B: |\\n+---------+\\n  (South)\\n']\n",
      "['+---------+\\n|R: | : :\\x1b[35mG\\x1b[0m|\\n| :\\x1b[42m_\\x1b[0m| : : |\\n| : : : : |\\n| | : | : |\\n|Y| : |B: |\\n+---------+\\n  (East)\\n']\n",
      "['+---------+\\n|R: | : :\\x1b[35mG\\x1b[0m|\\n| : | : : |\\n| :\\x1b[42m_\\x1b[0m: : : |\\n| | : | : |\\n|Y| : |B: |\\n+---------+\\n  (South)\\n']\n",
      "['+---------+\\n|R: | : :\\x1b[35mG\\x1b[0m|\\n| : | : : |\\n| : :\\x1b[42m_\\x1b[0m: : |\\n| | : | : |\\n|Y| : |B: |\\n+---------+\\n  (East)\\n']\n",
      "['+---------+\\n|R: | : :\\x1b[35mG\\x1b[0m|\\n| : | : : |\\n| : : :\\x1b[42m_\\x1b[0m: |\\n| | : | : |\\n|Y| : |B: |\\n+---------+\\n  (East)\\n']\n",
      "['+---------+\\n|R: | : :\\x1b[35mG\\x1b[0m|\\n| : | :\\x1b[42m_\\x1b[0m: |\\n| : : : : |\\n| | : | : |\\n|Y| : |B: |\\n+---------+\\n  (North)\\n']\n",
      "['+---------+\\n|R: | : :\\x1b[35mG\\x1b[0m|\\n| : | : :\\x1b[42m_\\x1b[0m|\\n| : : : : |\\n| | : | : |\\n|Y| : |B: |\\n+---------+\\n  (East)\\n']\n",
      "['+---------+\\n|R: | : :\\x1b[35m\\x1b[42mG\\x1b[0m\\x1b[0m|\\n| : | : : |\\n| : : : : |\\n| | : | : |\\n|Y| : |B: |\\n+---------+\\n  (North)\\n']\n",
      "['+---------+\\n|R: | : :\\x1b[35m\\x1b[34;1m\\x1b[43mG\\x1b[0m\\x1b[0m\\x1b[0m|\\n| : | : : |\\n| : : : : |\\n| | : | : |\\n|Y| : |B: |\\n+---------+\\n  (Dropoff)\\n']\n"
     ]
    }
   ]
  },
  {
   "cell_type": "code",
   "source": [],
   "metadata": {
    "id": "Q_UIy9OANLar"
   },
   "execution_count": null,
   "outputs": []
  }
 ]
}
