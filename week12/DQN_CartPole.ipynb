{
  "nbformat": 4,
  "nbformat_minor": 0,
  "metadata": {
    "colab": {
      "name": "DQN-CartPole.ipynb",
      "provenance": [],
      "collapsed_sections": [],
      "include_colab_link": true
    },
    "kernelspec": {
      "name": "python3",
      "display_name": "Python 3"
    },
    "accelerator": "GPU"
  },
  "cells": [
    {
      "cell_type": "markdown",
      "metadata": {
        "id": "view-in-github",
        "colab_type": "text"
      },
      "source": [
        "<a href=\"https://colab.research.google.com/github/ccc-frankfurt/Practical_ML_SS21/blob/main/week11/DQN_CartPole.ipynb\" target=\"_parent\"><img src=\"https://colab.research.google.com/assets/colab-badge.svg\" alt=\"Open In Colab\"/></a>"
      ]
    },
    {
      "cell_type": "markdown",
      "metadata": {
        "id": "gRyizSSW2LDA"
      },
      "source": [
        "This notebook is based on coursera's Practical RL course by National Research University Higher School of Economics, https://www.coursera.org/learn/practical-rl/home/welcome\n",
        "\n",
        "We will make a DQN-Learning agent to solve OpenAI Gym's CartPole problem.\n",
        "\n",
        "Q-Learning update equations:\n",
        "\n",
        "\n",
        "*   tabular: $$ Q(s,a) := (1 - \\alpha) \\cdot Q(s,a) + \\alpha \\cdot (r(s,a) + \\gamma \\cdot V(s')) \\\\ = Q(s,a) + \\alpha \\cdot (r(s,a) + \\gamma \\cdot V(s') - Q(s,a))$$\n",
        "*    DQN: $$ L = { 1 \\over N} \\sum_i (Q_{\\theta}(s,a) - [r(s,a) + \\gamma \\cdot max_{a'} Q_{-}(s', a')]) ^2 $$"
      ]
    },
    {
      "cell_type": "code",
      "metadata": {
        "id": "KdVjjTaIlms4"
      },
      "source": [
        "from collections import defaultdict\n",
        "import random, math\n",
        "import numpy as np\n",
        "import matplotlib.pyplot as plt\n",
        "from matplotlib import animation\n",
        "from IPython.display import HTML\n",
        "\n",
        "import torch\n",
        "import torch.nn as nn\n",
        "import torch.optim as optim\n",
        "\n",
        "manualSeed = 999\n",
        "print(\"Random Seed: \", manualSeed)\n",
        "random.seed(manualSeed)\n",
        "torch.manual_seed(manualSeed)"
      ],
      "execution_count": null,
      "outputs": []
    },
    {
      "cell_type": "code",
      "metadata": {
        "id": "tqWiwab7tuP8",
        "colab": {
          "base_uri": "https://localhost:8080/",
          "height": 34
        },
        "outputId": "2ba02c0b-44c1-4c23-b8ee-02245c4f996c"
      },
      "source": [
        "#XVFB will be launched if you run on a server\n",
        "import os\n",
        "if os.environ.get(\"DISPLAY\") is not str or len(os.environ.get(\"DISPLAY\"))==0:\n",
        "    #!bash ../xvfb start\n",
        "    %env DISPLAY=:1"
      ],
      "execution_count": null,
      "outputs": [
        {
          "output_type": "stream",
          "text": [
            "env: DISPLAY=:1\n"
          ],
          "name": "stdout"
        }
      ]
    },
    {
      "cell_type": "code",
      "metadata": {
        "id": "ZsTERNDJnN4g",
        "colab": {
          "base_uri": "https://localhost:8080/",
          "height": 161
        },
        "outputId": "a43c8b2e-78b4-418c-8243-825bbd61525d"
      },
      "source": [
        "!apt-get -qq -y install xvfb freeglut3-dev cmake swig ffmpeg> /dev/null 2>&1\n",
        "!pip install pyvirtualdisplay\n",
        "\n",
        "from pyvirtualdisplay import Display\n",
        "display = Display(visible=0, size=(400, 300))\n",
        "display.start()\n",
        "%matplotlib inline"
      ],
      "execution_count": null,
      "outputs": [
        {
          "output_type": "stream",
          "text": [
            "Collecting pyvirtualdisplay\n",
            "  Downloading https://files.pythonhosted.org/packages/cf/ad/b15f252bfb0f1693ad3150b55a44a674f3cba711cacdbb9ae2f03f143d19/PyVirtualDisplay-0.2.4-py2.py3-none-any.whl\n",
            "Collecting EasyProcess (from pyvirtualdisplay)\n",
            "  Downloading https://files.pythonhosted.org/packages/fa/29/40040d1d64a224a5e44df9572794a66494618ffe5c77199214aeceedb8a7/EasyProcess-0.2.7-py2.py3-none-any.whl\n",
            "Installing collected packages: EasyProcess, pyvirtualdisplay\n",
            "Successfully installed EasyProcess-0.2.7 pyvirtualdisplay-0.2.4\n"
          ],
          "name": "stdout"
        },
        {
          "output_type": "stream",
          "text": [
            "xdpyinfo was not found, X start can not be checked! Please install xdpyinfo!\n"
          ],
          "name": "stderr"
        }
      ]
    },
    {
      "cell_type": "code",
      "metadata": {
        "id": "iRp87KGKu8Ia",
        "colab": {
          "base_uri": "https://localhost:8080/",
          "height": 392
        },
        "outputId": "ec864916-9903-41dd-b827-4bbfb3861bfb"
      },
      "source": [
        "import gym\n",
        "\n",
        "env = gym.make(\"CartPole-v0\").env\n",
        "s = env.reset()\n",
        "\n",
        "n_actions = env.action_space.n\n",
        "state_dim = env.observation_space.shape[0]\n",
        "\n",
        "print(n_actions)\n",
        "print(env.action_space.sample())\n",
        "# continuous (!) valued observations: Cart Position, Cart Velocity, Pole Angle, Pole Velocity at Tip\n",
        "print(env.observation_space)\n",
        "print('state:')\n",
        "print(s)\n",
        "print(state_dim)\n",
        "plt.imshow(env.render('rgb_array'))"
      ],
      "execution_count": null,
      "outputs": [
        {
          "output_type": "stream",
          "text": [
            "2\n",
            "1\n",
            "Box(4,)\n",
            "state:\n",
            "[-0.01130247 -0.03074488 -0.02707483 -0.00317015]\n",
            "4\n"
          ],
          "name": "stdout"
        },
        {
          "output_type": "execute_result",
          "data": {
            "text/plain": [
              "<matplotlib.image.AxesImage at 0x7ffa25549240>"
            ]
          },
          "metadata": {
            "tags": []
          },
          "execution_count": 11
        },
        {
          "output_type": "display_data",
          "data": {
            "image/png": "[encoded data removed]",
            "text/plain": [
              "<Figure size 432x288 with 1 Axes>"
            ]
          },
          "metadata": {
            "tags": []
          }
        }
      ]
    },
    {
      "cell_type": "code",
      "metadata": {
        "id": "H51R6ZQXglwK"
      },
      "source": [
        "class DQNAgent:\n",
        "    def __init__(self, state_dim, n_actions, epsilon=0, device='cuda'):\n",
        "        \"\"\"A simple DQN agent\"\"\"\n",
        "        \n",
        "                         \n",
        "        # Create a network for approximate q-learning:\n",
        "        # what is the input dimension?\n",
        "        # Linear(128), followed by RELU activation\n",
        "        # Linear(128), followed by RELU activation\n",
        "        # Last linear output layer: what should be the number of units?\n",
        "        self.network = nn.Sequential(//TODO).to(device)\n",
        "            \n",
        "        self.epsilon = epsilon\n",
        "        self.device = device\n",
        "        \n",
        "    def get_qvalues(self, state_t):\n",
        "        return self.network(state_t)\n",
        "    \n",
        "    def sample_action(self, qvalues):\n",
        "        \"\"\"Pick actions given qvalues. Uses epsilon-greedy exploration strategy. \"\"\"\n",
        "        epsilon = self.epsilon\n",
        "        batch_size, n_actions = qvalues.shape\n",
        "        # choose random actions with np.random.choice\n",
        "        # there have to be batch_size of them - one for every batch instance\n",
        "        random_actions = //TODO\n",
        "        # for every batch instance calculate the index of the maximum qvalue\n",
        "        # hint: use the axis\n",
        "        best_actions = //TODO\n",
        "        # with probability epsilon should explore is 1 and else 0 for every batch instance\n",
        "        # this is a mask we will use in np.where to select\n",
        "        should_explore = //TODO\n",
        "        # take random_actions is should_explore is 1 and best_actions else\n",
        "        return np.where(should_explore, random_actions, best_actions)\n",
        "    \n",
        "    def get_action(self, state_t):\n",
        "        # since in our case we learn on 1 sample only, we put the state into list to make batch_size=1\n",
        "        state_pt = torch.Tensor([state_t]).float().to(self.device)\n",
        "        qvalues = self.get_qvalues(state_pt).cpu().detach().numpy()\n",
        "        \n",
        "        # sample an action for the qvalues\n",
        "        # sample_action returns a list, so we take the first element, because our batch_size=1\n",
        "        return //TODO\n",
        "    \n",
        "    def update(self, s, a, r, next_s, done):\n",
        "        self.optimizer.zero_grad()\n",
        "        \n",
        "        loss = self.loss_function([s],[a],[r],[next_s],[done])\n",
        "        \n",
        "        # backpropagate the loss and make an optimizer step\n",
        "        //TODO\n",
        "        \n",
        "    def loss_function(self, states, actions, rewards, next_states, is_done):\n",
        "        states_tmp = torch.Tensor(states).float().to(self.device)\n",
        "        actions_tmp = np.array(actions) # assure its an array and not a list\n",
        "        rewards_tmp = torch.Tensor(rewards).float().to(self.device)\n",
        "        next_states_tmp = torch.Tensor(next_states).float().to(self.device)\n",
        "        is_done_tmp = torch.Tensor(is_done).float().to(self.device)\n",
        "        \n",
        "        is_not_done = 1. - is_done_tmp\n",
        "        gamma = 0.99\n",
        "\n",
        "        \"\"\"Take q-values for actions agent just took\"\"\"\n",
        "        # get agent's qvalues for the states\n",
        "        current_qvalues = //TODO\n",
        "        \n",
        "        # Create a one-hot target encoding\n",
        "        # 1. use numpy tp create an empty one-hot matrix of dimensions (batch_size, n_actions)\n",
        "        one_hot_actions = //TODO\n",
        "\n",
        "        # 2. set target idx to 1\n",
        "        //TODO\n",
        "        # 3. convert to torch.Tensor\n",
        "        one_hot_actions = torch.Tensor(one_hot_actions).float().to(self.device)\n",
        "        \n",
        "        # for every batch instance, get the qvalue for the chosen action\n",
        "        # hint: use one_hot_actions and current_q_values, do not forget to set keepdim=True\n",
        "        current_action_qvalues = //TODO\n",
        "\n",
        "        # compute q-values for NEXT states\n",
        "        # hint: use next_states_ph\n",
        "        next_qvalues_target = //TODO\n",
        "\n",
        "        # compute state values by taking max over next_qvalues_target for all actions\n",
        "        # hint: use next_qvalues_target and do not forget to set keepdim=True\n",
        "        next_state_values_target,_ = //TODO\n",
        "\n",
        "        # compute Q_reference(s,a) as per r + gamma*v_next*is_not_done\n",
        "        # ATTENTION: think about what v_next is\n",
        "        reference_qvalues = //TODO\n",
        "        # stop gradients of reference_qvalues\n",
        "        reference_qvalues = reference_qvalues.detach()\n",
        "\n",
        "        # Define loss function for sgd.\n",
        "        td_loss = //TODO\n",
        "        td_loss = torch.mean(td_loss)\n",
        "        \n",
        "        return td_loss\n",
        "        \n",
        "    def set_optimizer(self):\n",
        "        \n",
        "        self.optimizer = optim.Adam(self.network.parameters(), lr=1e-4)"
      ],
      "execution_count": null,
      "outputs": []
    },
    {
      "cell_type": "code",
      "metadata": {
        "id": "v0sBB3ZbsSqQ",
        "colab": {
          "base_uri": "https://localhost:8080/",
          "height": 141
        },
        "outputId": "1f8314b7-ba61-4e39-cc4b-eb87c2bad837"
      },
      "source": [
        "agent = DQNAgent(state_dim, n_actions, epsilon=0.5, device='cuda')\n",
        "print(agent.network)"
      ],
      "execution_count": null,
      "outputs": [
        {
          "output_type": "stream",
          "text": [
            "Sequential(\n",
            "  (0): Linear(in_features=4, out_features=128, bias=True)\n",
            "  (1): ReLU()\n",
            "  (2): Linear(in_features=128, out_features=128, bias=True)\n",
            "  (3): ReLU()\n",
            "  (4): Linear(in_features=128, out_features=2, bias=True)\n",
            ")\n"
          ],
          "name": "stdout"
        }
      ]
    },
    {
      "cell_type": "code",
      "metadata": {
        "id": "qRsZdbgFhK5O"
      },
      "source": [
        "# since it is an NN agent, we need to set an optimizer\n",
        "agent.set_optimizer()"
      ],
      "execution_count": null,
      "outputs": []
    },
    {
      "cell_type": "code",
      "metadata": {
        "id": "l7AysnffDtLF"
      },
      "source": [
        "# update at each train step\n",
        "def play_and_train(env,agent,t_max=1000, train=True):\n",
        "    \"\"\"\n",
        "    This function should \n",
        "    - run a full game, actions given by agent's e-greedy policy\n",
        "    - train agent using agent.update(...) whenever it is possible\n",
        "    - return total reward\n",
        "    \"\"\"\n",
        "    total_reward = 0.0\n",
        "    s = env.reset()\n",
        "    \n",
        "    for t in range(t_max):\n",
        "        # get agent to pick action given state s.\n",
        "        //TODO\n",
        "        \n",
        "        # get next_state, reward etc.\n",
        "        //TODO\n",
        "        \n",
        "        if train:\n",
        "            # train (update) agent for state s\n",
        "            //TODO\n",
        "        \n",
        "        s = next_s\n",
        "        total_reward +=r\n",
        "        if done: break\n",
        "        \n",
        "    return total_reward"
      ],
      "execution_count": null,
      "outputs": []
    },
    {
      "cell_type": "markdown",
      "metadata": {
        "id": "08joimEEytgF"
      },
      "source": [
        "* __ mean reward__ is the average reward per game. For a correct implementation it may stay low for some 10 epochs, then start growing while oscilating insanely and converges by ~50-100 steps depending on the network architecture. \n",
        "* If it never reaches target score by the end of for loop, try increasing the number of hidden neurons or look at the epsilon.\n",
        "* __ epsilon__ - agent's willingness to explore. If you see that agent's already at < 0.01 epsilon before it's is at least 200, just reset it back to 0.1 - 0.5.\n",
        "* you may also try to tweak the learning rate of your optimizer"
      ]
    },
    {
      "cell_type": "code",
      "metadata": {
        "id": "jJeVP7SoVguN",
        "colab": {
          "base_uri": "https://localhost:8080/",
          "height": 424
        },
        "outputId": "fc8ed987-2978-4675-cc74-40fc7d8d36b1"
      },
      "source": [
        "for i in range(100):\n",
        "    session_rewards = [play_and_train(env, agent, train=True) for _ in range(100)]\n",
        "    print(\"epoch #{}\\tmean reward = {:.3f}\\tepsilon = {:.3f}\".format(i, np.mean(session_rewards), agent.epsilon))\n",
        "    \n",
        "    agent.epsilon *= 0.99\n",
        "    assert agent.epsilon >= 1e-4, \"Make sure epsilon is always nonzero during training\"\n",
        "    \n",
        "    if np.mean(session_rewards) > 300:\n",
        "        print (\"You Win!\")\n",
        "        break"
      ],
      "execution_count": null,
      "outputs": [
        {
          "output_type": "stream",
          "text": [
            "epoch #0\tmean reward = 13.170\tepsilon = 0.500\n",
            "epoch #1\tmean reward = 15.110\tepsilon = 0.495\n",
            "epoch #2\tmean reward = 13.610\tepsilon = 0.490\n",
            "epoch #3\tmean reward = 15.310\tepsilon = 0.485\n",
            "epoch #4\tmean reward = 14.400\tepsilon = 0.480\n",
            "epoch #5\tmean reward = 26.970\tepsilon = 0.475\n",
            "epoch #6\tmean reward = 36.060\tepsilon = 0.471\n",
            "epoch #7\tmean reward = 43.330\tepsilon = 0.466\n",
            "epoch #8\tmean reward = 49.570\tepsilon = 0.461\n",
            "epoch #9\tmean reward = 51.350\tepsilon = 0.457\n",
            "epoch #10\tmean reward = 68.270\tepsilon = 0.452\n",
            "epoch #11\tmean reward = 100.800\tepsilon = 0.448\n",
            "epoch #12\tmean reward = 117.500\tepsilon = 0.443\n",
            "epoch #13\tmean reward = 140.780\tepsilon = 0.439\n",
            "epoch #14\tmean reward = 166.930\tepsilon = 0.434\n",
            "epoch #15\tmean reward = 165.140\tepsilon = 0.430\n",
            "epoch #16\tmean reward = 211.530\tepsilon = 0.426\n",
            "epoch #17\tmean reward = 195.120\tepsilon = 0.421\n",
            "epoch #18\tmean reward = 228.830\tepsilon = 0.417\n",
            "epoch #19\tmean reward = 251.080\tepsilon = 0.413\n",
            "epoch #20\tmean reward = 259.030\tepsilon = 0.409\n",
            "epoch #21\tmean reward = 340.380\tepsilon = 0.405\n",
            "You Win!\n"
          ],
          "name": "stdout"
        }
      ]
    },
    {
      "cell_type": "code",
      "metadata": {
        "id": "GeFzEp4tuDMj"
      },
      "source": [
        "# record sessions\n",
        "import gym.wrappers\n",
        "env = gym.wrappers.Monitor(gym.make(\"CartPole-v0\"),directory=\"videos\",force=True)\n",
        "# set epsilon to 0, since for testing no exploration is needed\n",
        "agent.epsilon = 0\n",
        "sessions = [play_and_train(env, agent, train=False) for _ in range(1)]\n",
        "env.close()"
      ],
      "execution_count": null,
      "outputs": []
    },
    {
      "cell_type": "code",
      "metadata": {
        "id": "fgw17Mw2Wcya",
        "colab": {
          "base_uri": "https://localhost:8080/",
          "height": 420
        },
        "outputId": "1c216478-47b0-46f1-ec79-4af0f56668a8"
      },
      "source": [
        "# show video\n",
        "# the visualization function from \n",
        "# https://star-ai.github.io/Rendering-OpenAi-Gym-in-Colaboratory/\n",
        "\n",
        "from IPython.display import HTML\n",
        "from IPython import display as ipythondisplay\n",
        "import io\n",
        "import base64\n",
        "\n",
        "video_names = list(filter(lambda s:s.endswith(\".mp4\"),os.listdir(\"./videos/\")))\n",
        "\n",
        "video = io.open(\"./videos/\"+video_names[-1], 'r+b').read()\n",
        "encoded = base64.b64encode(video)\n",
        "ipythondisplay.display(HTML(data='''<video alt=\"test\" autoplay \n",
        "                loop controls style=\"height: 400px;\">\n",
        "                <source src=\"data:video/mp4;base64,{0}\" type=\"video/mp4\" />\n",
        "             </video>'''.format(encoded.decode('ascii'))))"
      ],
      "execution_count": null,
      "outputs": [
        {
          "output_type": "display_data",
          "data": {
            "text/html": [
              "<video alt=\"test\" autoplay \n",
              "                loop controls style=\"height: 400px;\">\n",
              "                <source src=\"data:video/mp4;base64,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\" type=\"video/mp4\" />\n",
              "             </video>"
            ],
            "text/plain": [
              "<IPython.core.display.HTML object>"
            ]
          },
          "metadata": {
            "tags": []
          }
        }
      ]
    }
  ]
}