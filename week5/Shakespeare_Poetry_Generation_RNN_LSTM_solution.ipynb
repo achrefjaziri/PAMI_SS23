{
 "nbformat": 4,
 "nbformat_minor": 0,
 "metadata": {
  "colab": {
   "name": "Shakespeare_Poetry_Generation_RNN_LSTM_solution.ipynb",
   "version": "0.3.2",
   "provenance": [],
   "collapsed_sections": []
  },
  "kernelspec": {
   "name": "python3",
   "language": "python",
   "display_name": "Python 3"
  },
  "accelerator": "GPU"
 },
 "cells": [
  {
   "cell_type": "markdown",
   "metadata": {
    "id": "1BlaZc1G5m04",
    "colab_type": "text"
   },
   "source": [
    "# Shakespeare poetry generation with recurrent neural networks (RNNs)\n",
    "\n",
    "In this notebook we will take Shakespeares sonnets and train a recurrent neural network to generate poetry in a similar style. We will do so by training a character based simple RNN that takes in one character and learns to predict the likelihood of the next one. \n",
    "During inference we can use this trained network to give a random character to the model and let it sample an entire poem based on the previously sampled character (the network output) as input to the network's next time step.\n",
    "\n",
    "\n",
    "This notebook is loosely based on the following towards data science post: https://towardsdatascience.com/writing-like-shakespeare-with-machine-learning-in-pytorch-d77f851d910c . Here the author uses a PyTorch LSTM to do poetry generation and we have taken the liberty to use the author's data preprocessing steps in this notebook for convenience and have added a RNN from scratch implementation together with the PyTorch LSTM model for the later part in this notebook. \n",
    "\n",
    "After data loading, we will thus first learn how to implement a recurrent neural network in PyTorch, but with the equations written from scratch similar to our previous Numpy implementations. However, adding this custom math to the PyTorch neural network model will allow us to nevertheless leverage PyTorch's backward and automatic gradient methods so that we do not need to implement this ourselves anymore. This is very helpful if we ever plan on implementing custom functions/layers in the future. \n",
    "\n",
    "If you feel like you first want to implement both RNNs and LSTMs from scratch entirely using Numpy, including forward and gradient calculations, Andrew Ng's deeplearning.ai deep learning specialization on coursera has a sequence model course (course 5) with an excellent first notebook on this: https://www.coursera.org/learn/nlp-sequence-models\n"
   ]
  },
  {
   "cell_type": "code",
   "metadata": {
    "id": "kinYD3010vdt",
    "colab_type": "code",
    "colab": {},
    "ExecuteTime": {
     "end_time": "2023-05-12T10:37:28.627212400Z",
     "start_time": "2023-05-12T10:37:25.286305800Z"
    }
   },
   "source": [
    "import math\n",
    "import numpy as np\n",
    "import torch\n",
    "import torch.nn as nn\n",
    "import torch.nn.functional as F\n",
    "from torch.nn import Parameter\n",
    "\n",
    "# Check whether GPU is available and can be used\n",
    "# if CUDA is found then device is set accordingly\n",
    "device = torch.device(\"cuda\" if torch.cuda.is_available() else \"cpu\")\n",
    "\n",
    "if not torch.cuda.is_available():\n",
    "    print(\"Consider changing your run-time to GPU or training will be slow.\")"
   ],
   "execution_count": 1,
   "outputs": []
  },
  {
   "cell_type": "markdown",
   "metadata": {
    "id": "stneSw5L77Ln",
    "colab_type": "text"
   },
   "source": [
    "## The data: Shakespeare's sonnets \n",
    "\n",
    "Shakespeare's sonnets can be found at the following URL featuring all of his works: http://shakespeare.mit.edu/\n",
    "\n",
    "For convenience reasons we have extracted all the plain text of the sonnets: https://ocw.mit.edu/ans7870/6/6.006/s08/lecturenotes/files/t8.shakespeare.txt into a separate textfile and have added it to the class' repository. We will thus download it from there:"
   ]
  },
  {
   "cell_type": "code",
   "metadata": {
    "id": "eTxp46sNyKNQ",
    "colab_type": "code",
    "outputId": "8e41362d-7624-4612-eb33-552a695be8f5",
    "colab": {
     "base_uri": "https://localhost:8080/",
     "height": 204
    },
    "ExecuteTime": {
     "end_time": "2023-05-12T10:37:36.982886500Z",
     "start_time": "2023-05-12T10:37:32.774786900Z"
    }
   },
   "source": [
    "!pip install wget\n",
    "import wget\n",
    "\n",
    "# download the data\n",
    "data = wget.download('https://raw.githubusercontent.com/ccc-frankfurt/Practical_ML_SS21/main/week06/sonnets.txt')"
   ],
   "execution_count": 2,
   "outputs": [
    {
     "name": "stdout",
     "output_type": "stream",
     "text": [
      "Defaulting to user installation because normal site-packages is not writeable\n",
      "Requirement already satisfied: wget in c:\\program files\\python38\\lib\\site-packages (3.2)\n"
     ]
    }
   ]
  },
  {
   "cell_type": "markdown",
   "metadata": {
    "id": "wzimDdxq8oXk",
    "colab_type": "text"
   },
   "source": [
    "We can open the text file and print an excerpt."
   ]
  },
  {
   "cell_type": "code",
   "metadata": {
    "id": "fdSreQlxy11g",
    "colab_type": "code",
    "outputId": "c808aa5d-3ce9-423c-ef23-8fbbfe1c15c9",
    "colab": {
     "base_uri": "https://localhost:8080/",
     "height": 102
    },
    "ExecuteTime": {
     "end_time": "2023-05-12T10:37:37.073888200Z",
     "start_time": "2023-05-12T10:37:36.955702100Z"
    }
   },
   "source": [
    "# Open shakespeare text file and read the data\n",
    "with open('sonnets.txt', 'r') as f:\n",
    "    text = f.read()\n",
    "    \n",
    "# print an excerpt of the text \n",
    "print(text[:200])"
   ],
   "execution_count": 3,
   "outputs": [
    {
     "name": "stdout",
     "output_type": "stream",
     "text": [
      "From fairest creatures we desire increase,\n",
      "That thereby beauty's rose might never die,\n",
      "But as the riper should by time decease,\n",
      "His tender heir might bear his memory:\n",
      "But thou contracted to thine own \n"
     ]
    }
   ]
  },
  {
   "cell_type": "markdown",
   "metadata": {
    "id": "CqofvzDN8u6Z",
    "colab_type": "text"
   },
   "source": [
    "As we are interested in a character based neural network, we will now create a mapping from the characters to numbers so that we can do our matrix calculations with numerical data. One such way is to simply replace every character with the corresponding integer in an alphabetical sequence. If we print our excerpt, we can now see the corresponding numerical values of each character."
   ]
  },
  {
   "cell_type": "code",
   "metadata": {
    "id": "rS8C0ndK0tce",
    "colab_type": "code",
    "outputId": "30e83edd-f077-44fb-f752-f123ad942e03",
    "colab": {
     "base_uri": "https://localhost:8080/",
     "height": 221
    },
    "ExecuteTime": {
     "end_time": "2023-05-12T10:37:40.238429500Z",
     "start_time": "2023-05-12T10:37:40.175423700Z"
    }
   },
   "source": [
    "# We create two dictionaries:\n",
    "# 1. int2char, which maps integers to characters\n",
    "# 2. char2int, which maps characters to integers\n",
    "chars = tuple(set(text))\n",
    "int2char = dict(enumerate(chars))\n",
    "char2int = {ch: ii for ii, ch in int2char.items()}\n",
    "\n",
    "# Encode the text\n",
    "encoded = np.array([char2int[ch] for ch in text])\n",
    "\n",
    "# Again showing the excerpt, but this time as integers \n",
    "encoded[:200]"
   ],
   "execution_count": 4,
   "outputs": [
    {
     "data": {
      "text/plain": "array([22, 55, 39,  6, 36, 19, 43, 18, 55, 45, 33, 25, 36, 30, 55, 45, 43,\n       25, 58, 55, 45, 33, 36,  3, 45, 36, 54, 45, 33, 18, 55, 45, 36, 18,\n       23, 30, 55, 45, 43, 33, 45, 47, 46, 11, 56, 43, 25, 36, 25, 56, 45,\n       55, 45,  5, 38, 36,  5, 45, 43, 58, 25, 38, 41, 33, 36, 55, 39, 33,\n       45, 36,  6, 18,  2, 56, 25, 36, 23, 45, 24, 45, 55, 36, 54, 18, 45,\n       47, 46, 12, 58, 25, 36, 43, 33, 36, 25, 56, 45, 36, 55, 18,  8, 45,\n       55, 36, 33, 56, 39, 58, 50, 54, 36,  5, 38, 36, 25, 18,  6, 45, 36,\n       54, 45, 30, 45, 43, 33, 45, 47, 46, 13, 18, 33, 36, 25, 45, 23, 54,\n       45, 55, 36, 56, 45, 18, 55, 36,  6, 18,  2, 56, 25, 36,  5, 45, 43,\n       55, 36, 56, 18, 33, 36,  6, 45,  6, 39, 55, 38, 20, 46, 12, 58, 25,\n       36, 25, 56, 39, 58, 36, 30, 39, 23, 25, 55, 43, 30, 25, 45, 54, 36,\n       25, 39, 36, 25, 56, 18, 23, 45, 36, 39,  3, 23, 36])"
     },
     "execution_count": 4,
     "metadata": {},
     "output_type": "execute_result"
    }
   ]
  },
  {
   "cell_type": "markdown",
   "metadata": {
    "id": "dZCdTzB39dNl",
    "colab_type": "text"
   },
   "source": [
    "### Data loader: batching\n",
    "\n",
    "We now have our entire text file encoded as integers, which serves as our dataset. Next, we will need to define our data loader, mainly the part that is missing, the random sampling of batches. Let us define this method:"
   ]
  },
  {
   "cell_type": "code",
   "metadata": {
    "id": "ZWq80TVX1DNo",
    "colab_type": "code",
    "colab": {},
    "ExecuteTime": {
     "end_time": "2023-05-12T10:37:43.885606300Z",
     "start_time": "2023-05-12T10:37:43.862597900Z"
    }
   },
   "source": [
    "# Defining method to make mini-batches for training\n",
    "def get_batches(arr, batch_size, seq_length):\n",
    "    # determine the flattened batch size, i.e. sequence length times batch size\n",
    "    batch_size_total = batch_size * seq_length\n",
    "    # total number of batches we can make\n",
    "    n_batches = len(arr)//batch_size_total\n",
    "    \n",
    "    # Keep only enough characters to make full batches\n",
    "    arr = arr[:n_batches * batch_size_total]\n",
    "    # Reshape into batch_size rows\n",
    "    arr = arr.reshape((batch_size, -1))\n",
    "    \n",
    "    # iterate through the array, one sequence at a time\n",
    "    for n in range(0, arr.shape[1], seq_length):\n",
    "        # The features\n",
    "        x = arr[:, n:n+seq_length]\n",
    "        # The targets\n",
    "        y = np.zeros_like(x)\n",
    "        try:\n",
    "            y[:, :-1], y[:, -1] = x[:, 1:], arr[:, n+seq_length]\n",
    "        except IndexError:\n",
    "            y[:, :-1], y[:, -1] = x[:, 1:], arr[:, 0]\n",
    "        yield x, y"
   ],
   "execution_count": 5,
   "outputs": []
  },
  {
   "cell_type": "markdown",
   "metadata": {
    "id": "FWDjvcQW92ze",
    "colab_type": "text"
   },
   "source": [
    "### Targets/Labels\n",
    "\n",
    "We will be treating our problem as a classification task, where given an input the task is to predict the likelihood of the next character, i.e. we choose the class/character with the highest probability of a SoftMax output. Our model's output is thus a vector containing a probability for each unique character.\n",
    "\n",
    "Since we want to be able to feed our model's output back as input for the next time step, we should also give the network a one-hot encoded character as the input instead of just an integer, similar to what we have seen on our lecture's last slide. \n",
    "This way the network gets as input a one-hot vector of length corresponding to the number of total unique characters and predicts the likelihood for each character as output (for the next character in the sequence). We will thus write a function that converts our encoded characters from integers to one-hot vectors."
   ]
  },
  {
   "cell_type": "code",
   "metadata": {
    "id": "6l9QohlqnU-B",
    "colab_type": "code",
    "colab": {},
    "ExecuteTime": {
     "end_time": "2023-05-12T10:37:47.054013100Z",
     "start_time": "2023-05-12T10:37:47.020016100Z"
    }
   },
   "source": [
    "def one_hot_encode(arr, n_labels):\n",
    "    \n",
    "    # Initialize the the encoded array\n",
    "    one_hot = np.zeros((np.multiply(*arr.shape), n_labels), dtype=np.float32)\n",
    "    \n",
    "    # Fill the appropriate elements with ones\n",
    "    one_hot[np.arange(one_hot.shape[0]), arr.flatten()] = 1.\n",
    "    \n",
    "    # Finally reshape it to get back to the original array\n",
    "    one_hot = one_hot.reshape((*arr.shape, n_labels))\n",
    "    \n",
    "    return one_hot"
   ],
   "execution_count": 6,
   "outputs": []
  },
  {
   "cell_type": "markdown",
   "metadata": {
    "id": "0GHm8hBaALrD",
    "colab_type": "text"
   },
   "source": [
    "## A simple RNN\n",
    "\n",
    "We will start with writing a simple RNN in PyTorch. To get a better understanding of how the RNN model works, we will not be using PyTorch's convenience RNN implementation, but write the main portion by hand ourselves. We will later use the convenience functions for the much more complicated LSTMs. \n",
    "\n",
    "Note that we could in principle do the same thing in pure Numpy but the advantage of implementing the forward logic in PyTorch is that we can use the automatic differentation for our backward pass and we do not need to implement the backpropagation through time ourselves. \n",
    "\n",
    "What we will learn here is:\n",
    "1. How to write a recurrent neural network (the forward pass)\n",
    "2. How to implement custom mathematical equations in the forward pass of a PyTorch model and leverage the automatic backward. "
   ]
  },
  {
   "cell_type": "code",
   "metadata": {
    "id": "Cgkv_TmovgBY",
    "colab_type": "code",
    "colab": {},
    "ExecuteTime": {
     "end_time": "2023-05-12T10:37:48.564996200Z",
     "start_time": "2023-05-12T10:37:48.503011900Z"
    }
   },
   "source": [
    "class RNN(nn.Module):\n",
    "    def __init__(self, chars, device, hidden_sz, drop_prob=0.5):\n",
    "        super().__init__()\n",
    "        \n",
    "        self.device = device\n",
    "        \n",
    "        # creating character dictionaries\n",
    "        # we already have this code on the top, but giving it to our model \n",
    "        # will be convenient for doing predictions later\n",
    "        # i.e. doing conversions from text to integers to one-hot & vice-versa\n",
    "        self.n_chars = len(chars)\n",
    "        self.int2char = dict(enumerate(chars))\n",
    "        self.char2int = {ch: ii for ii, ch in self.int2char.items()}\n",
    "        \n",
    "        self.hidden_sz = hidden_sz\n",
    "        \n",
    "        # Note that this class inherits from the torch neural network class\n",
    "        # Instead of using a pre-built function we will write the math ourselves\n",
    "        # For this reason we will first need to define \"Parameters()\", that \n",
    "        # the PyTorch graph keeps track of and can optimize. In other words,\n",
    "        # let's give our class the weights & the bias that the RNN will need. \n",
    "        self.weight_ih = Parameter(torch.zeros(self.n_chars, self.hidden_sz))\n",
    "        self.weight_hh = Parameter(torch.zeros(self.hidden_sz, self.hidden_sz))\n",
    "        self.bias_hh = Parameter(torch.zeros(self.hidden_sz))\n",
    "        \n",
    "        # Now that we have defined the RNN cell, let us define the output layer\n",
    "        # We will use a dropout layer to prevent overfitting and then \n",
    "        # follow with a conventional linear layer (matrix multiplication) that \n",
    "        # maps the RNN cell's output (the hidden state of the network) to the \n",
    "        # class output. Remembert that the class output corresponds to a \n",
    "        # vector of length of unique characters. \n",
    "        \n",
    "        # define a dropout layer\n",
    "        self.dropout = nn.Dropout(drop_prob)\n",
    "        \n",
    "        # define the final, fully-connected output layer. We can use a \n",
    "        # PyTorch nn function here (or you could add the corresponding math\n",
    "        # below and assign an additional weight & bias at the top). \n",
    "        # We can see that we can create very custom models this way\n",
    "        self.fc = nn.Linear(self.hidden_sz, self.n_chars)\n",
    "        \n",
    "        # We have assigned the Parameters above, but we will need to also \n",
    "        # initialize them. Let's write a function for that and initialize\n",
    "        # our weights and bias. \n",
    "        self.init_weights()\n",
    "\n",
    "    def init_weights(self):\n",
    "        nn.init.xavier_uniform_(self.weight_ih)\n",
    "        nn.init.xavier_uniform_(self.weight_hh)\n",
    "        nn.init.zeros_(self.bias_hh)\n",
    "    \n",
    "    def forward(self, x, h_t):\n",
    "        \"\"\"Assumes x is of shape (batch, sequence, feature)\"\"\"\n",
    "        bs, seq_sz, _ = x.size()\n",
    "        hidden_seq = []\n",
    "        \n",
    "        # Given an input and an initial hidden state, calculate the next hidden\n",
    "        # state for each sequence element.\n",
    "        # We append all the hidden states to a list (similar to a batch size)\n",
    "        # so that we can concatenate them in the batch and feed them to our\n",
    "        # last linear layer all in parallel to avoid looping through the final\n",
    "        # output layer as there is no more dependence on other time steps. \n",
    "        for t in range(seq_sz):\n",
    "            x_t = x[:, t, :]\n",
    "            h_t = torch.tanh(x_t @ self.weight_ih + h_t @ self.weight_hh + self.bias_hh)\n",
    "            hidden_seq.append(h_t.unsqueeze(0))\n",
    "            \n",
    "        # Do the concatenation and reshaping for convenience\n",
    "        hidden_seq = torch.cat(hidden_seq, dim=0)\n",
    "        # reshape from shape (sequence, batch, feature) to (batch, sequence, feature)\n",
    "        hidden_seq = hidden_seq.transpose(0, 1).contiguous()\n",
    "        \n",
    "        # Stack up the RNN outputs using view so that we can process the last \n",
    "        # layer in parallel\n",
    "        r_output = hidden_seq.contiguous().view(-1, self.hidden_sz)\n",
    "        \n",
    "        # pass through a dropout layer\n",
    "        out = self.dropout(r_output)\n",
    "        \n",
    "        # Calculate fully connected layer output that yields our class vector\n",
    "        out = self.fc(out)\n",
    "        \n",
    "        return out, h_t\n",
    "    \n",
    "    def init_hidden(self, batch_size=1):\n",
    "        ''' Initializes hidden state '''\n",
    "        # This is a convenience function so that we can initialize a hidden\n",
    "        # state to zero when we start prediction on a sequence. Every further\n",
    "        # step will then depend on the previous hidden state. \n",
    "        \n",
    "        # Create two new tensors with sizes batch_size x n_hidden,\n",
    "        # initialized to zero for hidden the RNN's hidden state.\n",
    "        weight = next(self.parameters()).data\n",
    "        h_t = weight.new(batch_size, self.hidden_sz).zero_().to(device)\n",
    "        \n",
    "        return h_t\n"
   ],
   "execution_count": 7,
   "outputs": []
  },
  {
   "cell_type": "markdown",
   "metadata": {
    "id": "UhNyXgWuFK2T",
    "colab_type": "text"
   },
   "source": [
    "The only thing missing is our training loop. It will look very similar to everything we have previously written, with two main differences:\n",
    "\n",
    "1. Our model is now also dependent on the hidden state and thus takes it as input and returns it as an additional output. \n",
    "2. Because we are using a recurrent neural network we will need to give our \"loss.backward()\" a \"retain_graph=True\" flag in order for it to log the history and be able to compute the backpropagation through time"
   ]
  },
  {
   "cell_type": "code",
   "metadata": {
    "id": "LSrhA4lR2EaP",
    "colab_type": "code",
    "colab": {},
    "ExecuteTime": {
     "end_time": "2023-05-12T10:50:08.749349100Z",
     "start_time": "2023-05-12T10:50:08.732240600Z"
    }
   },
   "source": [
    "# Declaring the train method\n",
    "def train(model, data, device, optimizer, criterion, epochs=10, batch_size=10,\n",
    "          seq_length=50, clip=5):\n",
    "    model.train()\n",
    "    \n",
    "    for epoch in range(epochs):\n",
    "        # initialize first hidden states with zeros\n",
    "        h = model.init_hidden(batch_size)\n",
    "        \n",
    "        for x, y in get_batches(data, batch_size, seq_length):\n",
    "            # One-hot encode our data, make them torch tensors & cast to device\n",
    "            x = one_hot_encode(x, model.n_chars)\n",
    "            inputs, targets = torch.from_numpy(x), torch.from_numpy(y)\n",
    "            inputs, targets = inputs.to(device), targets.to(device)\n",
    "\n",
    "            # zero accumulated gradients\n",
    "            model.zero_grad()\n",
    "            \n",
    "            # get the output and hidden state from the model\n",
    "            output, h = model(inputs, h)\n",
    "            \n",
    "            # calculate the loss and perform backprop\n",
    "            # because we have flattened our batch and sequence in the model to \n",
    "            # be able to speed up the connection of the last fully-connected \n",
    "            # layer we now also need to view/flatten our target here\n",
    "            loss = criterion(output, targets.view(batch_size*seq_length).long())\n",
    "            loss.backward(retain_graph=True)\n",
    "            \n",
    "            # we use an additional trick of clipping gradients to avoid \n",
    "            # exploding gradients, which is a prominent problem in RNNs, just\n",
    "            # as the opposite problem of vanishing gradients.\n",
    "            nn.utils.clip_grad_norm_(model.parameters(), clip)\n",
    "            optimizer.step()\n",
    "            \n",
    "            \n",
    "        print(\"Epoch: {}/{}:\".format(epoch + 1, epochs),\n",
    "              \"Loss: {:.4f}:\".format(loss.item()))"
   ],
   "execution_count": 23,
   "outputs": []
  },
  {
   "cell_type": "code",
   "metadata": {
    "id": "FFKl2jWi2GeC",
    "colab_type": "code",
    "colab": {
     "base_uri": "https://localhost:8080/",
     "height": 1000
    },
    "outputId": "61599887-12f7-4e68-d10f-f75051aaa5ad",
    "ExecuteTime": {
     "end_time": "2023-05-12T10:50:48.565572400Z",
     "start_time": "2023-05-12T10:50:17.861878Z"
    }
   },
   "source": [
    "# Define the model\n",
    "n_hidden=512\n",
    "model = RNN(chars, device, n_hidden).to(device)\n",
    "\n",
    "# Hyperparameters\n",
    "batch_size = 128\n",
    "seq_length = 100\n",
    "epochs = 50 # start with 50 or similar if you are debugging \n",
    "# train much longer if you want good results\n",
    "\n",
    "optimizer = torch.optim.Adam(model.parameters(), lr=0.001)\n",
    "criterion = nn.CrossEntropyLoss()\n",
    "\n",
    "# train the model\n",
    "train(model, encoded, device, optimizer, criterion, epochs=epochs, batch_size=batch_size, seq_length=seq_length)"
   ],
   "execution_count": 25,
   "outputs": [
    {
     "name": "stdout",
     "output_type": "stream",
     "text": [
      "Epoch: 1/50: Loss: 3.4927:\n",
      "Epoch: 2/50: Loss: 3.2178:\n",
      "Epoch: 3/50: Loss: 4.0180:\n",
      "Epoch: 4/50: Loss: 3.1491:\n",
      "Epoch: 5/50: Loss: 3.1104:\n",
      "Epoch: 6/50: Loss: 3.0808:\n",
      "Epoch: 7/50: Loss: 3.0363:\n",
      "Epoch: 8/50: Loss: 2.9851:\n",
      "Epoch: 9/50: Loss: 2.9306:\n",
      "Epoch: 10/50: Loss: 2.8701:\n",
      "Epoch: 11/50: Loss: 2.8354:\n",
      "Epoch: 12/50: Loss: 2.7683:\n",
      "Epoch: 13/50: Loss: 2.7216:\n",
      "Epoch: 14/50: Loss: 2.6628:\n",
      "Epoch: 15/50: Loss: 2.6241:\n",
      "Epoch: 16/50: Loss: 2.6069:\n",
      "Epoch: 17/50: Loss: 2.5456:\n",
      "Epoch: 18/50: Loss: 2.5050:\n",
      "Epoch: 19/50: Loss: 2.4839:\n",
      "Epoch: 20/50: Loss: 2.4512:\n",
      "Epoch: 21/50: Loss: 2.4642:\n",
      "Epoch: 22/50: Loss: 2.4384:\n",
      "Epoch: 23/50: Loss: 2.3827:\n",
      "Epoch: 24/50: Loss: 2.3635:\n",
      "Epoch: 25/50: Loss: 2.3318:\n",
      "Epoch: 26/50: Loss: 2.3131:\n",
      "Epoch: 27/50: Loss: 2.2947:\n",
      "Epoch: 28/50: Loss: 2.2846:\n",
      "Epoch: 29/50: Loss: 2.2637:\n",
      "Epoch: 30/50: Loss: 2.2831:\n",
      "Epoch: 31/50: Loss: 2.2630:\n",
      "Epoch: 32/50: Loss: 2.2349:\n",
      "Epoch: 33/50: Loss: 2.2171:\n",
      "Epoch: 34/50: Loss: 2.2077:\n",
      "Epoch: 35/50: Loss: 2.1960:\n",
      "Epoch: 36/50: Loss: 2.1865:\n",
      "Epoch: 37/50: Loss: 2.1773:\n",
      "Epoch: 38/50: Loss: 2.1685:\n",
      "Epoch: 39/50: Loss: 2.1639:\n",
      "Epoch: 40/50: Loss: 2.1560:\n",
      "Epoch: 41/50: Loss: 2.1509:\n",
      "Epoch: 42/50: Loss: 2.1465:\n",
      "Epoch: 43/50: Loss: 2.1330:\n",
      "Epoch: 44/50: Loss: 2.1298:\n",
      "Epoch: 45/50: Loss: 2.1781:\n",
      "Epoch: 46/50: Loss: 2.1842:\n",
      "Epoch: 47/50: Loss: 2.1585:\n",
      "Epoch: 48/50: Loss: 2.1374:\n",
      "Epoch: 49/50: Loss: 2.1174:\n",
      "Epoch: 50/50: Loss: 2.1125:\n"
     ]
    }
   ]
  },
  {
   "cell_type": "markdown",
   "metadata": {
    "id": "vIndlrMSGMmZ",
    "colab_type": "text"
   },
   "source": [
    "You should observe the loss sinking consistently. In fact you can observe that the model training hasn't fully converged yet. If you feel like you want to spend the time later to see how \n",
    "well you can get your RNN to perform, try training it for longer/until convergence. \n",
    "\n",
    "Once we have trained the model it will be interesting to use it for prediction. To generate new content we would like to feed in an initial sequence or even just a single character and see what the model generates for the rest of the sequence conditioned on our input. \n",
    "\n",
    "Let us write the logic for that:"
   ]
  },
  {
   "cell_type": "code",
   "metadata": {
    "id": "A53V0aKj2IfT",
    "colab_type": "code",
    "colab": {},
    "ExecuteTime": {
     "end_time": "2023-05-12T10:50:52.940910900Z",
     "start_time": "2023-05-12T10:50:52.927907200Z"
    }
   },
   "source": [
    "def predict(model, char, device, h=None, top_k=5):\n",
    "        ''' Given a character & hidden state, predict the next character.\n",
    "            Returns the predicted character and the hidden state.\n",
    "        '''\n",
    "        \n",
    "        # tensor inputs\n",
    "        x = np.array([[model.char2int[char]]])\n",
    "        x = one_hot_encode(x, model.n_chars)\n",
    "        inputs = torch.from_numpy(x).to(device)\n",
    "        \n",
    "        with torch.no_grad():\n",
    "            # get the output of the model\n",
    "            out, h = model(inputs, h)\n",
    "\n",
    "            # get the character probabilities\n",
    "            # move to cpu for further processing with numpy etc. \n",
    "            p = F.softmax(out, dim=1).data.cpu()\n",
    "\n",
    "            # get the top characters with highest likelihood\n",
    "            p, top_ch = p.topk(top_k)\n",
    "            top_ch = top_ch.numpy().squeeze()\n",
    "\n",
    "            # select the likely next character with some element of randomness\n",
    "            # for more variability\n",
    "            p = p.numpy().squeeze()\n",
    "            char = np.random.choice(top_ch, p=p/p.sum())\n",
    "        \n",
    "        # return the encoded value of the predicted char and the hidden state\n",
    "        return model.int2char[char], h"
   ],
   "execution_count": 26,
   "outputs": []
  },
  {
   "cell_type": "code",
   "metadata": {
    "id": "wHAMT5xTlYY0",
    "colab_type": "code",
    "colab": {},
    "ExecuteTime": {
     "end_time": "2023-05-12T10:50:54.915864400Z",
     "start_time": "2023-05-12T10:50:54.902869Z"
    }
   },
   "source": [
    "def sample(model, size, device, prime='A', top_k=None):\n",
    "    # method to generate new text based on a \"prime\"/initial sequence. \n",
    "    # Basically, the outer loop convenience function that calls the above\n",
    "    # defined predict method. \n",
    "    model.eval() # eval mode\n",
    "    \n",
    "    # Calculate model for the initial prime characters\n",
    "    chars = [ch for ch in prime]\n",
    "    with torch.no_grad():\n",
    "        # initialize hidden with 0 in the beginning. Set our batch size to 1 \n",
    "        # as we wish to generate one sequence only. \n",
    "        h = model.init_hidden(batch_size=1)\n",
    "        for ch in prime:\n",
    "            char, h = predict(model, ch, device, h=h, top_k=top_k)\n",
    "\n",
    "        # append the characters to the sequence\n",
    "        chars.append(char)\n",
    "\n",
    "        # Now pass in the previous/last character and get a new one\n",
    "        # Repeat this process for the desired length of the sequence to be \n",
    "        # generated\n",
    "        for ii in range(size):\n",
    "            char, h = predict(model, chars[-1], device, h=h, top_k=top_k)\n",
    "            chars.append(char)\n",
    "\n",
    "    return ''.join(chars)"
   ],
   "execution_count": 27,
   "outputs": []
  },
  {
   "cell_type": "markdown",
   "metadata": {
    "id": "1wgYQs7FH2wo",
    "colab_type": "text"
   },
   "source": [
    "### Generating poems\n",
    "\n",
    "We are now set to call our sample method with our trained model, a prime sequence and a desired sequence length to be generated. "
   ]
  },
  {
   "cell_type": "code",
   "metadata": {
    "id": "HClso847laed",
    "colab_type": "code",
    "colab": {},
    "ExecuteTime": {
     "end_time": "2023-05-12T10:50:57.388023700Z",
     "start_time": "2023-05-12T10:50:56.594020Z"
    }
   },
   "source": [
    "print(sample(model, 1000, device, prime='A', top_k=5))"
   ],
   "execution_count": 28,
   "outputs": [
    {
     "name": "stdout",
     "output_type": "stream",
     "text": [
      "And buther theres an werig to buest be thy batere wile,\n",
      "Whe wathis the sund whe de sute wouch alderows lfarlo thy min tom sh tho stall stoun what  tou do s athet,\n",
      "Bot seat ye with my tinte be migher fel ther what me fanthend wile d yove te tor sed,\n",
      "And thouss lo turen bind, ald wirt he menourending, by uras, beto grees, are ming thess more pate,\n",
      "So thes thes in the whes, ant bith mishend walded.\n",
      "Then the thin mine s ar miges\n",
      "The seare some bee th the pors ant of re blacking ars thes tart be ure thous nomessend;\n",
      "Bet mare fours bate my min tor bitu ne peache s blinges ar weene, tore tous ald mesere shing tho gove whats doundesting theer,\n",
      "This withe wored, ald theee dithes af ay trone,\n",
      "And withe thime thath thar watt medere to lese,,\n",
      "Sint, beruthe farles of ar whet In arlessensed,\n",
      "Sa thee faclle mon se the thet,\n",
      "Southot to lin mine d mire the sere mingte,\n",
      "And suma nte s all torede,\n",
      "And with n mes ill tin mess my love seere dan me thes sorthen therisg that sour dast me time singo ton dishe d\n"
     ]
    }
   ]
  },
  {
   "cell_type": "markdown",
   "metadata": {
    "id": "Rjkj103bICMs",
    "colab_type": "text"
   },
   "source": [
    "We can see that our RNN typically starts out correctly and sometimes is able to generate correct words but quickly goes on to generate junk as there is no long term dependencies. \n",
    "\n",
    "We will now implement a PyTorch LSTM to see how to improve upon this."
   ]
  },
  {
   "cell_type": "markdown",
   "metadata": {
    "id": "NPG6v0M7IVOB",
    "colab_type": "text"
   },
   "source": [
    "## Long Short Term Memory (LSTM)\n",
    "\n",
    "Let's take our recurrent neural network class that we have defined above and replace the simple RNN cell with one or even multiple stacked LSTM cells. \n",
    "\n",
    "If you want to go for the challenge you can try implementing this by hand similarly to the RNN cell we have defined. However, if you don't want to go through the tour-de-force exercise, you can go on ahead and use PyTorch's \"nn.LSTM()\" convenience method: https://pytorch.org/docs/stable/nn.html#torch.nn.LSTM \n",
    "\n",
    "You can try using a stack of 2 LSTM hidden layers to simply replace the RNN cell."
   ]
  },
  {
   "cell_type": "code",
   "metadata": {
    "id": "1dIQmxMEDs41",
    "colab_type": "code",
    "colab": {},
    "ExecuteTime": {
     "end_time": "2023-05-12T10:39:37.521379900Z",
     "start_time": "2023-05-12T10:39:37.506381200Z"
    }
   },
   "source": [
    "class LSTM(nn.Module):\n",
    "    \n",
    "    def __init__(self, chars, device, n_hidden=256, n_layers=2, drop_prob=0.5):\n",
    "        super().__init__()\n",
    "        \n",
    "        self.device = device\n",
    "        \n",
    "        self.drop_prob = drop_prob\n",
    "        self.n_layers = n_layers\n",
    "        self.n_hidden = n_hidden\n",
    "        \n",
    "        # creating character dictionaries\n",
    "        # we already have this code on the top, but giving it to our model \n",
    "        # will be convenient for doing predictions later\n",
    "        # i.e. doing conversions from text to integers to one-hot & vice-versa\n",
    "        self.n_chars = len(chars)\n",
    "        self.int2char = dict(enumerate(chars))\n",
    "        self.char2int = {ch: ii for ii, ch in self.int2char.items()}\n",
    "        \n",
    "        # define the LSTM\n",
    "        # we no longer need to care about wieght initialization as PyTorch\n",
    "        # will handle this for us now. \n",
    "        # When defining PyTorch's nn.LSTM() set \"batch_first=True\" to assign\n",
    "        # the batch size to the first dimension (instead of the sequence) to\n",
    "        # stay consistent with our RNN implementation and re-use our code. \n",
    "        self.lstm = nn.LSTM(self.n_chars, n_hidden, n_layers, \n",
    "                            dropout=drop_prob, batch_first=True)\n",
    "        \n",
    "        # define a dropout layer\n",
    "        self.dropout = nn.Dropout(drop_prob)\n",
    "        \n",
    "        # define the final, fully-connected output layer\n",
    "        self.fc = nn.Linear(n_hidden, self.n_chars)\n",
    "        \n",
    "    def forward(self, x, hidden):\n",
    "        ''' Forward pass through the network. \n",
    "            The inputs are x, and the hidden & cell state in a tuple. '''\n",
    "        \n",
    "        # get the outputs and the new hidden states from the LSTM. \n",
    "        # Note that the hidden variable now is a tuple of hidden and cell state\n",
    "        # in contrast to the RNN that just had the hidden state. \n",
    "        # Because we are using the PyTorch LSTM we do not need to implement\n",
    "        # the loop anymore as the sequence will be handled internally. \n",
    "        r_output, hidden = self.lstm(x, hidden)\n",
    "        \n",
    "        # pass through a dropout layer\n",
    "        out = self.dropout(r_output)\n",
    "        \n",
    "        # Stack up the LSTM outputs using view so that we can process the last \n",
    "        # layer in parallel\n",
    "        out = out.contiguous().view(-1, self.n_hidden)\n",
    "        \n",
    "        # Calculate fully connected layer output that yields our class vector\n",
    "        out = self.fc(out)\n",
    "        \n",
    "        return out, hidden\n",
    "    \n",
    "    def init_hidden(self, batch_size=1):\n",
    "        ''' Initializes hidden state '''\n",
    "        # This is a convenience function so that we can initialize the hidden\n",
    "        # states to zero when we start prediction on a sequence. Every further\n",
    "        # step will then depend on the previous hidden states (c and h). \n",
    "        \n",
    "        # Create a tuple of two new tensors with sizes\n",
    "        # n_layers x batch_size x n_hidden, initialized to zero for the\n",
    "        # LSTM hidden and cell states. \n",
    "        weight = next(self.parameters()).data\n",
    "\n",
    "        hidden = (weight.new(self.n_layers, batch_size, self.n_hidden).zero_().to(device),\n",
    "                  weight.new(self.n_layers, batch_size, self.n_hidden).zero_().to(device))\n",
    "        \n",
    "        return hidden"
   ],
   "execution_count": 13,
   "outputs": []
  },
  {
   "cell_type": "markdown",
   "metadata": {
    "id": "GL9kCT6TK2QT",
    "colab_type": "text"
   },
   "source": [
    "We can use the exact same code to train our newly defined LSTM model. Let's try with the same amount of hidden units and 2 LSTM cells. "
   ]
  },
  {
   "cell_type": "code",
   "metadata": {
    "id": "cW70FQwT2g_h",
    "colab_type": "code",
    "colab": {},
    "ExecuteTime": {
     "end_time": "2023-05-12T10:47:17.301227600Z",
     "start_time": "2023-05-12T10:39:39.522832800Z"
    }
   },
   "source": [
    "# Define the model\n",
    "n_hidden=512\n",
    "n_layers=2\n",
    "\n",
    "model = LSTM(chars, device, n_hidden, n_layers).to(device)\n",
    "\n",
    "# Declaring the hyperparameters\n",
    "batch_size = 128\n",
    "seq_length = 100\n",
    "epochs = 50 # start with 50 or similar if you are debugging \n",
    "# train much longer if you want good results\n",
    "\n",
    "optimizer = torch.optim.Adam(model.parameters(), lr=0.001)\n",
    "criterion = nn.CrossEntropyLoss()\n",
    "\n",
    "# train the model\n",
    "train(model, encoded, device, optimizer, criterion, epochs=epochs,\n",
    "      batch_size=batch_size, seq_length=seq_length)"
   ],
   "execution_count": 14,
   "outputs": [
    {
     "name": "stdout",
     "output_type": "stream",
     "text": [
      "Epoch: 1/300: Loss: 3.3875:\n",
      "Epoch: 2/300: Loss: 3.1951:\n",
      "Epoch: 3/300: Loss: 3.1352:\n",
      "Epoch: 4/300: Loss: 3.1223:\n",
      "Epoch: 5/300: Loss: 3.1185:\n",
      "Epoch: 6/300: Loss: 3.1082:\n",
      "Epoch: 7/300: Loss: 3.1042:\n",
      "Epoch: 8/300: Loss: 3.1019:\n",
      "Epoch: 9/300: Loss: 3.0989:\n",
      "Epoch: 10/300: Loss: 3.0949:\n",
      "Epoch: 11/300: Loss: 3.0911:\n",
      "Epoch: 12/300: Loss: 3.0838:\n",
      "Epoch: 13/300: Loss: 3.0676:\n",
      "Epoch: 14/300: Loss: 3.0343:\n",
      "Epoch: 15/300: Loss: 3.0039:\n",
      "Epoch: 16/300: Loss: 2.9707:\n",
      "Epoch: 17/300: Loss: 2.8737:\n",
      "Epoch: 18/300: Loss: 2.8410:\n",
      "Epoch: 19/300: Loss: 2.7457:\n",
      "Epoch: 20/300: Loss: 2.6561:\n",
      "Epoch: 21/300: Loss: 2.5831:\n",
      "Epoch: 22/300: Loss: 2.5132:\n",
      "Epoch: 23/300: Loss: 2.4582:\n",
      "Epoch: 24/300: Loss: 2.4232:\n",
      "Epoch: 25/300: Loss: 2.3914:\n",
      "Epoch: 26/300: Loss: 2.3639:\n",
      "Epoch: 27/300: Loss: 2.3372:\n",
      "Epoch: 28/300: Loss: 2.3152:\n",
      "Epoch: 29/300: Loss: 2.3061:\n",
      "Epoch: 30/300: Loss: 2.2890:\n",
      "Epoch: 31/300: Loss: 2.2685:\n",
      "Epoch: 32/300: Loss: 2.2509:\n",
      "Epoch: 33/300: Loss: 2.2301:\n",
      "Epoch: 34/300: Loss: 2.2061:\n",
      "Epoch: 35/300: Loss: 2.1840:\n",
      "Epoch: 36/300: Loss: 2.1620:\n",
      "Epoch: 37/300: Loss: 2.1462:\n",
      "Epoch: 38/300: Loss: 2.1275:\n",
      "Epoch: 39/300: Loss: 2.1134:\n",
      "Epoch: 40/300: Loss: 2.0902:\n",
      "Epoch: 41/300: Loss: 2.0720:\n",
      "Epoch: 42/300: Loss: 2.0556:\n",
      "Epoch: 43/300: Loss: 2.0378:\n",
      "Epoch: 44/300: Loss: 2.0205:\n",
      "Epoch: 45/300: Loss: 2.0224:\n",
      "Epoch: 46/300: Loss: 1.9938:\n",
      "Epoch: 47/300: Loss: 1.9844:\n",
      "Epoch: 48/300: Loss: 1.9763:\n",
      "Epoch: 49/300: Loss: 1.9485:\n",
      "Epoch: 50/300: Loss: 1.9428:\n",
      "Epoch: 51/300: Loss: 1.9264:\n",
      "Epoch: 52/300: Loss: 1.9182:\n",
      "Epoch: 53/300: Loss: 1.9016:\n",
      "Epoch: 54/300: Loss: 1.8978:\n",
      "Epoch: 55/300: Loss: 1.8941:\n",
      "Epoch: 56/300: Loss: 1.8761:\n",
      "Epoch: 57/300: Loss: 1.8699:\n",
      "Epoch: 58/300: Loss: 1.8617:\n",
      "Epoch: 59/300: Loss: 1.8510:\n",
      "Epoch: 60/300: Loss: 1.8364:\n",
      "Epoch: 61/300: Loss: 1.8255:\n",
      "Epoch: 62/300: Loss: 1.8230:\n",
      "Epoch: 63/300: Loss: 1.8117:\n",
      "Epoch: 64/300: Loss: 1.7981:\n",
      "Epoch: 65/300: Loss: 1.8054:\n",
      "Epoch: 66/300: Loss: 1.7930:\n",
      "Epoch: 67/300: Loss: 1.7830:\n",
      "Epoch: 68/300: Loss: 1.7721:\n",
      "Epoch: 69/300: Loss: 1.7668:\n",
      "Epoch: 70/300: Loss: 1.7522:\n",
      "Epoch: 71/300: Loss: 1.7428:\n",
      "Epoch: 72/300: Loss: 1.7430:\n",
      "Epoch: 73/300: Loss: 1.7300:\n",
      "Epoch: 74/300: Loss: 1.7235:\n",
      "Epoch: 75/300: Loss: 1.7138:\n",
      "Epoch: 76/300: Loss: 1.7027:\n",
      "Epoch: 77/300: Loss: 1.6944:\n",
      "Epoch: 78/300: Loss: 1.6913:\n",
      "Epoch: 79/300: Loss: 1.6932:\n",
      "Epoch: 80/300: Loss: 1.6790:\n",
      "Epoch: 81/300: Loss: 1.6716:\n",
      "Epoch: 82/300: Loss: 1.6628:\n",
      "Epoch: 83/300: Loss: 1.6604:\n",
      "Epoch: 84/300: Loss: 1.6534:\n",
      "Epoch: 85/300: Loss: 1.6564:\n",
      "Epoch: 86/300: Loss: 1.6364:\n",
      "Epoch: 87/300: Loss: 1.6374:\n",
      "Epoch: 88/300: Loss: 1.6253:\n",
      "Epoch: 89/300: Loss: 1.6155:\n",
      "Epoch: 90/300: Loss: 1.6161:\n",
      "Epoch: 91/300: Loss: 1.6040:\n",
      "Epoch: 92/300: Loss: 1.6176:\n",
      "Epoch: 93/300: Loss: 1.6012:\n",
      "Epoch: 94/300: Loss: 1.5965:\n",
      "Epoch: 95/300: Loss: 1.5855:\n",
      "Epoch: 96/300: Loss: 1.5797:\n",
      "Epoch: 97/300: Loss: 1.5590:\n",
      "Epoch: 98/300: Loss: 1.5559:\n",
      "Epoch: 99/300: Loss: 1.5465:\n",
      "Epoch: 100/300: Loss: 1.5444:\n",
      "Epoch: 101/300: Loss: 1.5358:\n",
      "Epoch: 102/300: Loss: 1.5292:\n",
      "Epoch: 103/300: Loss: 1.5173:\n",
      "Epoch: 104/300: Loss: 1.5221:\n",
      "Epoch: 105/300: Loss: 1.5170:\n",
      "Epoch: 106/300: Loss: 1.5054:\n",
      "Epoch: 107/300: Loss: 1.5048:\n",
      "Epoch: 108/300: Loss: 1.4868:\n",
      "Epoch: 109/300: Loss: 1.4779:\n",
      "Epoch: 110/300: Loss: 1.4842:\n",
      "Epoch: 111/300: Loss: 1.4609:\n",
      "Epoch: 112/300: Loss: 1.4721:\n",
      "Epoch: 113/300: Loss: 1.4613:\n",
      "Epoch: 114/300: Loss: 1.4448:\n",
      "Epoch: 115/300: Loss: 1.4322:\n",
      "Epoch: 116/300: Loss: 1.4340:\n",
      "Epoch: 117/300: Loss: 1.4374:\n",
      "Epoch: 118/300: Loss: 1.4096:\n",
      "Epoch: 119/300: Loss: 1.4132:\n",
      "Epoch: 120/300: Loss: 1.4098:\n",
      "Epoch: 121/300: Loss: 1.3867:\n",
      "Epoch: 122/300: Loss: 1.3900:\n",
      "Epoch: 123/300: Loss: 1.3809:\n",
      "Epoch: 124/300: Loss: 1.3687:\n",
      "Epoch: 125/300: Loss: 1.3597:\n",
      "Epoch: 126/300: Loss: 1.3535:\n",
      "Epoch: 127/300: Loss: 1.3551:\n",
      "Epoch: 128/300: Loss: 1.3547:\n",
      "Epoch: 129/300: Loss: 1.3331:\n",
      "Epoch: 130/300: Loss: 1.3255:\n",
      "Epoch: 131/300: Loss: 1.3156:\n",
      "Epoch: 132/300: Loss: 1.3166:\n",
      "Epoch: 133/300: Loss: 1.2927:\n",
      "Epoch: 134/300: Loss: 1.2898:\n",
      "Epoch: 135/300: Loss: 1.2865:\n",
      "Epoch: 136/300: Loss: 1.2690:\n",
      "Epoch: 137/300: Loss: 1.2722:\n",
      "Epoch: 138/300: Loss: 1.2638:\n",
      "Epoch: 139/300: Loss: 1.2480:\n",
      "Epoch: 140/300: Loss: 1.2387:\n",
      "Epoch: 141/300: Loss: 1.2497:\n",
      "Epoch: 142/300: Loss: 1.2339:\n",
      "Epoch: 143/300: Loss: 1.2329:\n",
      "Epoch: 144/300: Loss: 1.2277:\n",
      "Epoch: 145/300: Loss: 1.2084:\n",
      "Epoch: 146/300: Loss: 1.2027:\n",
      "Epoch: 147/300: Loss: 1.1998:\n",
      "Epoch: 148/300: Loss: 1.1768:\n",
      "Epoch: 149/300: Loss: 1.1842:\n",
      "Epoch: 150/300: Loss: 1.1868:\n",
      "Epoch: 151/300: Loss: 1.1533:\n",
      "Epoch: 152/300: Loss: 1.1485:\n",
      "Epoch: 153/300: Loss: 1.1330:\n",
      "Epoch: 154/300: Loss: 1.1368:\n",
      "Epoch: 155/300: Loss: 1.1340:\n",
      "Epoch: 156/300: Loss: 1.1373:\n",
      "Epoch: 157/300: Loss: 1.0963:\n",
      "Epoch: 158/300: Loss: 1.0891:\n",
      "Epoch: 159/300: Loss: 1.0655:\n",
      "Epoch: 160/300: Loss: 1.0766:\n",
      "Epoch: 161/300: Loss: 1.0583:\n",
      "Epoch: 162/300: Loss: 1.0428:\n",
      "Epoch: 163/300: Loss: 1.0370:\n",
      "Epoch: 164/300: Loss: 1.0264:\n",
      "Epoch: 165/300: Loss: 1.0232:\n",
      "Epoch: 166/300: Loss: 1.0023:\n",
      "Epoch: 167/300: Loss: 1.0011:\n",
      "Epoch: 168/300: Loss: 0.9853:\n",
      "Epoch: 169/300: Loss: 0.9794:\n",
      "Epoch: 170/300: Loss: 0.9554:\n",
      "Epoch: 171/300: Loss: 0.9522:\n",
      "Epoch: 172/300: Loss: 0.9441:\n",
      "Epoch: 173/300: Loss: 0.9223:\n",
      "Epoch: 174/300: Loss: 0.9384:\n",
      "Epoch: 175/300: Loss: 0.8979:\n",
      "Epoch: 176/300: Loss: 0.8912:\n",
      "Epoch: 177/300: Loss: 0.8831:\n",
      "Epoch: 178/300: Loss: 0.8734:\n",
      "Epoch: 179/300: Loss: 0.8626:\n",
      "Epoch: 180/300: Loss: 0.8513:\n",
      "Epoch: 181/300: Loss: 0.8428:\n",
      "Epoch: 182/300: Loss: 0.8416:\n",
      "Epoch: 183/300: Loss: 0.8180:\n",
      "Epoch: 184/300: Loss: 0.8334:\n",
      "Epoch: 185/300: Loss: 0.8105:\n",
      "Epoch: 186/300: Loss: 0.8094:\n",
      "Epoch: 187/300: Loss: 0.8023:\n",
      "Epoch: 188/300: Loss: 0.7888:\n",
      "Epoch: 189/300: Loss: 0.7726:\n",
      "Epoch: 190/300: Loss: 0.7618:\n",
      "Epoch: 191/300: Loss: 0.7351:\n",
      "Epoch: 192/300: Loss: 0.7395:\n",
      "Epoch: 193/300: Loss: 0.7332:\n",
      "Epoch: 194/300: Loss: 0.7401:\n",
      "Epoch: 195/300: Loss: 0.7397:\n",
      "Epoch: 196/300: Loss: 0.7416:\n",
      "Epoch: 197/300: Loss: 0.7154:\n",
      "Epoch: 198/300: Loss: 0.7068:\n",
      "Epoch: 199/300: Loss: 0.7043:\n",
      "Epoch: 200/300: Loss: 0.6906:\n",
      "Epoch: 201/300: Loss: 0.6841:\n",
      "Epoch: 202/300: Loss: 0.6728:\n",
      "Epoch: 203/300: Loss: 0.6493:\n",
      "Epoch: 204/300: Loss: 0.6463:\n",
      "Epoch: 205/300: Loss: 0.6414:\n",
      "Epoch: 206/300: Loss: 0.6327:\n",
      "Epoch: 207/300: Loss: 0.6282:\n",
      "Epoch: 208/300: Loss: 0.6280:\n",
      "Epoch: 209/300: Loss: 0.6197:\n",
      "Epoch: 210/300: Loss: 0.6022:\n",
      "Epoch: 211/300: Loss: 0.5928:\n",
      "Epoch: 212/300: Loss: 0.6159:\n",
      "Epoch: 213/300: Loss: 0.5820:\n",
      "Epoch: 214/300: Loss: 0.5824:\n",
      "Epoch: 215/300: Loss: 0.5819:\n",
      "Epoch: 216/300: Loss: 0.5931:\n",
      "Epoch: 217/300: Loss: 0.5853:\n",
      "Epoch: 218/300: Loss: 0.5838:\n",
      "Epoch: 219/300: Loss: 0.5860:\n",
      "Epoch: 220/300: Loss: 0.5783:\n",
      "Epoch: 221/300: Loss: 0.5578:\n",
      "Epoch: 222/300: Loss: 0.5508:\n",
      "Epoch: 223/300: Loss: 0.5416:\n",
      "Epoch: 224/300: Loss: 0.5156:\n",
      "Epoch: 225/300: Loss: 0.4857:\n",
      "Epoch: 226/300: Loss: 0.4799:\n",
      "Epoch: 227/300: Loss: 0.4574:\n",
      "Epoch: 228/300: Loss: 0.4547:\n",
      "Epoch: 229/300: Loss: 0.4594:\n",
      "Epoch: 230/300: Loss: 0.4436:\n",
      "Epoch: 231/300: Loss: 0.4577:\n",
      "Epoch: 232/300: Loss: 0.4470:\n",
      "Epoch: 233/300: Loss: 0.4412:\n",
      "Epoch: 234/300: Loss: 0.4571:\n",
      "Epoch: 235/300: Loss: 0.4494:\n",
      "Epoch: 236/300: Loss: 0.4250:\n",
      "Epoch: 237/300: Loss: 0.4375:\n",
      "Epoch: 238/300: Loss: 0.4217:\n",
      "Epoch: 239/300: Loss: 0.4241:\n",
      "Epoch: 240/300: Loss: 0.4094:\n",
      "Epoch: 241/300: Loss: 0.4122:\n",
      "Epoch: 242/300: Loss: 0.3983:\n",
      "Epoch: 243/300: Loss: 0.4031:\n",
      "Epoch: 244/300: Loss: 0.3875:\n",
      "Epoch: 245/300: Loss: 0.3939:\n",
      "Epoch: 246/300: Loss: 0.3766:\n",
      "Epoch: 247/300: Loss: 0.3672:\n",
      "Epoch: 248/300: Loss: 0.3537:\n",
      "Epoch: 249/300: Loss: 0.3484:\n",
      "Epoch: 250/300: Loss: 0.3608:\n",
      "Epoch: 251/300: Loss: 0.3344:\n",
      "Epoch: 252/300: Loss: 0.3454:\n",
      "Epoch: 253/300: Loss: 0.3371:\n",
      "Epoch: 254/300: Loss: 0.3352:\n",
      "Epoch: 255/300: Loss: 0.3293:\n",
      "Epoch: 256/300: Loss: 0.3344:\n",
      "Epoch: 257/300: Loss: 0.3298:\n",
      "Epoch: 258/300: Loss: 0.3254:\n",
      "Epoch: 259/300: Loss: 0.3248:\n",
      "Epoch: 260/300: Loss: 0.3326:\n",
      "Epoch: 261/300: Loss: 0.3198:\n",
      "Epoch: 262/300: Loss: 0.3188:\n",
      "Epoch: 263/300: Loss: 0.3095:\n",
      "Epoch: 264/300: Loss: 0.3041:\n",
      "Epoch: 265/300: Loss: 0.3006:\n",
      "Epoch: 266/300: Loss: 0.2813:\n",
      "Epoch: 267/300: Loss: 0.2851:\n",
      "Epoch: 268/300: Loss: 0.2913:\n",
      "Epoch: 269/300: Loss: 0.2924:\n",
      "Epoch: 270/300: Loss: 0.2944:\n",
      "Epoch: 271/300: Loss: 0.2933:\n",
      "Epoch: 272/300: Loss: 0.2720:\n",
      "Epoch: 273/300: Loss: 0.2668:\n",
      "Epoch: 274/300: Loss: 0.2738:\n",
      "Epoch: 275/300: Loss: 0.2694:\n",
      "Epoch: 276/300: Loss: 0.2668:\n",
      "Epoch: 277/300: Loss: 0.2581:\n",
      "Epoch: 278/300: Loss: 0.2547:\n",
      "Epoch: 279/300: Loss: 0.2357:\n",
      "Epoch: 280/300: Loss: 0.2402:\n",
      "Epoch: 281/300: Loss: 0.2360:\n",
      "Epoch: 282/300: Loss: 0.2496:\n",
      "Epoch: 283/300: Loss: 0.2299:\n",
      "Epoch: 284/300: Loss: 0.2354:\n",
      "Epoch: 285/300: Loss: 0.2333:\n",
      "Epoch: 286/300: Loss: 0.2360:\n",
      "Epoch: 287/300: Loss: 0.2275:\n",
      "Epoch: 288/300: Loss: 0.2186:\n",
      "Epoch: 289/300: Loss: 0.2245:\n",
      "Epoch: 290/300: Loss: 0.2345:\n",
      "Epoch: 291/300: Loss: 0.2103:\n",
      "Epoch: 292/300: Loss: 0.2237:\n",
      "Epoch: 293/300: Loss: 0.2134:\n",
      "Epoch: 294/300: Loss: 0.2092:\n",
      "Epoch: 295/300: Loss: 0.2072:\n",
      "Epoch: 296/300: Loss: 0.2074:\n",
      "Epoch: 297/300: Loss: 0.1998:\n",
      "Epoch: 298/300: Loss: 0.1975:\n",
      "Epoch: 299/300: Loss: 0.2012:\n",
      "Epoch: 300/300: Loss: 0.1894:\n"
     ]
    }
   ]
  },
  {
   "cell_type": "markdown",
   "metadata": {
    "id": "OTznlDdJK81w",
    "colab_type": "text"
   },
   "source": [
    "We can observe that our model is able to achieve a much lower loss than before with our simple RNN implementation. This should now also be reflected when we generate/sample new sonnets. \n",
    "\n",
    "Again, you can observe that the loss still continues to improve, even after 300 epochs. For the best results, try training the model longer. "
   ]
  },
  {
   "cell_type": "code",
   "metadata": {
    "id": "m4pmGQ5J2lmJ",
    "colab_type": "code",
    "colab": {},
    "ExecuteTime": {
     "end_time": "2023-05-12T10:47:17.991776100Z",
     "start_time": "2023-05-12T10:47:17.300225700Z"
    }
   },
   "source": [
    "# Generating new text\n",
    "print(sample(model, 1000, device, prime='A', top_k=5))"
   ],
   "execution_count": 15,
   "outputs": [
    {
     "name": "stdout",
     "output_type": "stream",
     "text": [
      "And I not stall frime to be.\n",
      "If it were to be verse of with infection;\n",
      "When I same say mirth ind in enjuged conprolged.\n",
      "I lest thou be o't mine own dask engumbden That suble'd, sour life,\n",
      "To say I dirven to cenere the story\n",
      "Af one which rightlifselis am soterpedse\n",
      "The sun a doulloun pilt rich on thee,\n",
      "And fur my sleap on worth may earbremare.\n",
      "Yet do not for my beauties weeperods bar.\n",
      "As, do not brem that worft me wilt to head,\n",
      "Yet eyes have blood in the rancor eye,\n",
      "Then felthing might I see is in toet,\n",
      "That do pose sone and some in the bentor ore;\n",
      "Se forped for hop usouly and beries fore,\n",
      "When of the best with wanton out dis rape.\n",
      "Or shave whos formy timps my strong bedned.\n",
      "\n",
      "All date to stemp an wele to steel to deed,\n",
      "Not delore, the can be withing abustatce, Time,\n",
      "and in my thine in thine out difiget;\n",
      "Nor grace of sinks ecainted be times;\n",
      "Lote in my srould ank pears do not for ever,\n",
      "And she that beauty like a day ar fiess,\n",
      "Days an the praises of all in rosh of ole,\n",
      "That is a joy as punt\n"
     ]
    }
   ]
  },
  {
   "cell_type": "markdown",
   "metadata": {
    "id": "AXT-5Y-rLRKt",
    "colab_type": "text"
   },
   "source": [
    "Arguably there is still discrepancy to the original Shakespeare texts in our just generated examples. However, if we compare this output to our RNN's output, we can see that the LSTM is able to achieve much more consistency in generating proper words as well as sometimes portions of sentences that have improved in terms of grammar. There now seems to be more overall structure. "
   ]
  }
 ]
}
