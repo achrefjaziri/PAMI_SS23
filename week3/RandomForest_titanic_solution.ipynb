{
 "nbformat": 4,
 "nbformat_minor": 0,
 "metadata": {
  "colab": {
   "name": "RandomForest_san_francisco_crime_solution.ipynb",
   "provenance": [],
   "collapsed_sections": [],
   "include_colab_link": true
  },
  "kernelspec": {
   "name": "python3",
   "display_name": "Python 3"
  },
  "accelerator": "GPU"
 },
 "cells": [
  {
   "cell_type": "markdown",
   "metadata": {
    "id": "view-in-github",
    "colab_type": "text"
   },
   "source": [
    "<a href=\"https://colab.research.google.com/github/ccc-frankfurt/Practical_ML_WS19/blob/master/week3/RandomForest_san_francisco_crime_solution.ipynb\" target=\"_parent\"><img src=\"https://colab.research.google.com/assets/colab-badge.svg\" alt=\"Open In Colab\"/></a>"
   ]
  },
  {
   "cell_type": "code",
   "metadata": {
    "id": "-FHU8PmDf2Ja",
    "colab_type": "code",
    "outputId": "fbb214ad-877c-42a6-f779-a7a98f56d87d",
    "colab": {
     "base_uri": "https://localhost:8080/",
     "height": 391
    }
   },
   "source": [
    "!pip install seaborn --upgrade \n",
    "!pip install matplotlib --upgrade\n",
    "\n",
    "import time\n",
    "import pandas as pd\n",
    "import numpy as np\n",
    "import seaborn as sns\n",
    "import math\n",
    "\n",
    "from sklearn.model_selection import train_test_split\n",
    "from sklearn.metrics import log_loss\n",
    "from sklearn.model_selection import GridSearchCV, RandomizedSearchCV\n",
    "from sklearn import tree\n",
    "from sklearn.ensemble import RandomForestClassifier, RandomForestRegressor\n",
    "\n",
    "import graphviz "
   ],
   "execution_count": 0,
   "outputs": [
    {
     "output_type": "stream",
     "text": [
      "Requirement already up-to-date: seaborn in /usr/local/lib/python3.6/dist-packages (0.9.0)\n",
      "Requirement already satisfied, skipping upgrade: numpy>=1.9.3 in /usr/local/lib/python3.6/dist-packages (from seaborn) (1.17.3)\n",
      "Requirement already satisfied, skipping upgrade: matplotlib>=1.4.3 in /usr/local/lib/python3.6/dist-packages (from seaborn) (3.1.1)\n",
      "Requirement already satisfied, skipping upgrade: pandas>=0.15.2 in /usr/local/lib/python3.6/dist-packages (from seaborn) (0.25.2)\n",
      "Requirement already satisfied, skipping upgrade: scipy>=0.14.0 in /usr/local/lib/python3.6/dist-packages (from seaborn) (1.3.1)\n",
      "Requirement already satisfied, skipping upgrade: python-dateutil>=2.1 in /usr/local/lib/python3.6/dist-packages (from matplotlib>=1.4.3->seaborn) (2.6.1)\n",
      "Requirement already satisfied, skipping upgrade: cycler>=0.10 in /usr/local/lib/python3.6/dist-packages (from matplotlib>=1.4.3->seaborn) (0.10.0)\n",
      "Requirement already satisfied, skipping upgrade: pyparsing!=2.0.4,!=2.1.2,!=2.1.6,>=2.0.1 in /usr/local/lib/python3.6/dist-packages (from matplotlib>=1.4.3->seaborn) (2.4.2)\n",
      "Requirement already satisfied, skipping upgrade: kiwisolver>=1.0.1 in /usr/local/lib/python3.6/dist-packages (from matplotlib>=1.4.3->seaborn) (1.1.0)\n",
      "Requirement already satisfied, skipping upgrade: pytz>=2017.2 in /usr/local/lib/python3.6/dist-packages (from pandas>=0.15.2->seaborn) (2018.9)\n",
      "Requirement already satisfied, skipping upgrade: six>=1.5 in /usr/local/lib/python3.6/dist-packages (from python-dateutil>=2.1->matplotlib>=1.4.3->seaborn) (1.12.0)\n",
      "Requirement already satisfied, skipping upgrade: setuptools in /usr/local/lib/python3.6/dist-packages (from kiwisolver>=1.0.1->matplotlib>=1.4.3->seaborn) (41.4.0)\n",
      "Requirement already up-to-date: matplotlib in /usr/local/lib/python3.6/dist-packages (3.1.1)\n",
      "Requirement already satisfied, skipping upgrade: kiwisolver>=1.0.1 in /usr/local/lib/python3.6/dist-packages (from matplotlib) (1.1.0)\n",
      "Requirement already satisfied, skipping upgrade: pyparsing!=2.0.4,!=2.1.2,!=2.1.6,>=2.0.1 in /usr/local/lib/python3.6/dist-packages (from matplotlib) (2.4.2)\n",
      "Requirement already satisfied, skipping upgrade: python-dateutil>=2.1 in /usr/local/lib/python3.6/dist-packages (from matplotlib) (2.6.1)\n",
      "Requirement already satisfied, skipping upgrade: numpy>=1.11 in /usr/local/lib/python3.6/dist-packages (from matplotlib) (1.17.3)\n",
      "Requirement already satisfied, skipping upgrade: cycler>=0.10 in /usr/local/lib/python3.6/dist-packages (from matplotlib) (0.10.0)\n",
      "Requirement already satisfied, skipping upgrade: setuptools in /usr/local/lib/python3.6/dist-packages (from kiwisolver>=1.0.1->matplotlib) (41.4.0)\n",
      "Requirement already satisfied, skipping upgrade: six>=1.5 in /usr/local/lib/python3.6/dist-packages (from python-dateutil>=2.1->matplotlib) (1.12.0)\n"
     ],
     "name": "stdout"
    }
   ]
  },
  {
   "cell_type": "markdown",
   "metadata": {
    "id": "UIuitMDIYkn5",
    "colab_type": "text"
   },
   "source": [
    "## Revisiting the Titanic dataset \n",
    "Loading the Titanic dataset which you are already acquainted with."
   ]
  },
  {
   "cell_type": "code",
   "metadata": {
    "id": "LW4ffTwmburW",
    "colab_type": "code",
    "colab": {}
   },
   "source": [
    "sns.set()\n",
    "titanic = sns.load_dataset(\"titanic\")\n",
    "titanic = titanic.dropna(subset=[\"embarked\", \"embark_town\"])\n",
    "#print(titanic.info())\n",
    "#print(titanic.describe())"
   ],
   "execution_count": 0,
   "outputs": []
  },
  {
   "cell_type": "code",
   "metadata": {
    "id": "xExBRTYFcaTy",
    "colab_type": "code",
    "colab": {}
   },
   "source": [
    "sex = pd.get_dummies(titanic[\"sex\"], drop_first=True)\n",
    "fare = titanic[\"fare\"]\n",
    "parch = titanic[\"parch\"]\n",
    "pclass = titanic[\"pclass\"]\n",
    "sibsp = titanic[\"sibsp\"]\n",
    "\n",
    "x = pd.concat([sex, fare, parch, pclass, sibsp], axis=1)\n",
    "y = titanic[\"survived\"].values\n",
    "labels = ['not survived', 'survived']"
   ],
   "execution_count": 0,
   "outputs": []
  },
  {
   "cell_type": "markdown",
   "metadata": {
    "id": "SrpU_l0BvhQ1",
    "colab_type": "text"
   },
   "source": [
    "In contrast to last weeks exercise where we converted our tabular data to Numpy matrices, this is not necessary here. Instead we can use Pandas' data frame directly and index the needed data with the \"iloc\" function. "
   ]
  },
  {
   "cell_type": "code",
   "metadata": {
    "id": "Xi59pgXdh5W1",
    "colab_type": "code",
    "outputId": "d15b9aa2-8c85-480e-d758-ec9f6f47aed4",
    "colab": {
     "base_uri": "https://localhost:8080/",
     "height": 34
    }
   },
   "source": [
    "perm = np.random.permutation(len(x))\n",
    "\n",
    "split = 0.8\n",
    "\n",
    "x_train, x_test = x.iloc[perm[:int(split*len(x))]], x.iloc[perm[int(split*len(x)):]]\n",
    "y_train, y_test = y[perm[:int(split*len(y))]], y[perm[int(split*len(y)):]]\n",
    "\n",
    "print(x_train.shape, x_test.shape, y_train.shape, y_test.shape)"
   ],
   "execution_count": 0,
   "outputs": [
    {
     "output_type": "stream",
     "text": [
      "(711, 5) (178, 5) (711,) (178,)\n"
     ],
     "name": "stdout"
    }
   ]
  },
  {
   "cell_type": "markdown",
   "metadata": {
    "id": "-CqnjQEKxp5u",
    "colab_type": "text"
   },
   "source": [
    "Define a function to compute the accuracy of the prediction."
   ]
  },
  {
   "cell_type": "code",
   "metadata": {
    "id": "uPIwQYqNX2FS",
    "colab_type": "code",
    "colab": {}
   },
   "source": [
    "# this accuracy calculation will work only for 2 classes (!)\n",
    "def accuracy(pred, y_target):\n",
    "    threshold = 0.5\n",
    "    y_target = y_target.squeeze()\n",
    "    pred=pred.squeeze()\n",
    "    \n",
    "    # where boolean prediction mask and target match, there will be a 1, else 0\n",
    "    return ((pred>=threshold)*y_target+(pred < threshold)*(1-y_target)).sum()/float(len(y_target))"
   ],
   "execution_count": 0,
   "outputs": []
  },
  {
   "cell_type": "markdown",
   "metadata": {
    "id": "9J-s9nUlYhuw",
    "colab_type": "text"
   },
   "source": [
    "## Introduction to sklearn`s **RandomForestClassifier** and **RandomForestRegressor**\n",
    "First, we will classify, which Titanic passengers survived, using the RandomForestClassifier. Then, RandomForestRegressor will be used for the same task to exemplify that the **splitting metric**, as well as **leaf values** (classes vs. numbers) differs, but in principle the way the tree is grown stays the same."
   ]
  },
  {
   "cell_type": "code",
   "metadata": {
    "id": "hr6oVikmeApL",
    "colab_type": "code",
    "outputId": "86fe9c36-a1de-4cb5-ed25-a09d1a810f7f",
    "colab": {
     "base_uri": "https://localhost:8080/",
     "height": 141
    }
   },
   "source": [
    "# define the RandomForestClassifier and fit the data (build 1 tree with max depth 2 and set the bootstrap parameter to False)\n",
    "# when bootstrap is set to false, all the data are fed to every classifier\n",
    "m = RandomForestClassifier(n_estimators=1, max_depth=2, bootstrap=False)\n",
    "m.fit(x_train, y_train)"
   ],
   "execution_count": 0,
   "outputs": [
    {
     "output_type": "execute_result",
     "data": {
      "text/plain": [
       "RandomForestClassifier(bootstrap=False, class_weight=None, criterion='gini',\n",
       "                       max_depth=2, max_features='auto', max_leaf_nodes=None,\n",
       "                       min_impurity_decrease=0.0, min_impurity_split=None,\n",
       "                       min_samples_leaf=1, min_samples_split=2,\n",
       "                       min_weight_fraction_leaf=0.0, n_estimators=1,\n",
       "                       n_jobs=None, oob_score=False, random_state=None,\n",
       "                       verbose=0, warm_start=False)"
      ]
     },
     "metadata": {
      "tags": []
     },
     "execution_count": 6
    }
   ]
  },
  {
   "cell_type": "code",
   "metadata": {
    "id": "kdSQNWmqeIDH",
    "colab_type": "code",
    "outputId": "e68d89a6-1558-4116-96c9-358f25808b85",
    "colab": {
     "base_uri": "https://localhost:8080/",
     "height": 34
    }
   },
   "source": [
    "# predict the results for your train and test data\n",
    "preds_train = m.predict(x_train)\n",
    "preds_test = m.predict(x_test)\n",
    "\n",
    "# calculate the accuracy\n",
    "acc_train = accuracy(preds_train, y_train)\n",
    "acc_test = accuracy(preds_test, y_test)\n",
    "\n",
    "# print the results\n",
    "print('train_acc: {0:4f}, test_acc: {1:4f}'.format(acc_train, acc_test))"
   ],
   "execution_count": 0,
   "outputs": [
    {
     "output_type": "stream",
     "text": [
      "train_acc: 0.786217, test_acc: 0.786517\n"
     ],
     "name": "stdout"
    }
   ]
  },
  {
   "cell_type": "markdown",
   "metadata": {
    "id": "VKKQP3ST2LCP",
    "colab_type": "text"
   },
   "source": [
    "**Graphviz ** is an open source graph visualization software: \n",
    "https://www.graphviz.org/, \n",
    "https://scikit-learn.org/stable/modules/generated/sklearn.tree.export_graphviz.html"
   ]
  },
  {
   "cell_type": "code",
   "metadata": {
    "id": "XPjHuGHxeSAF",
    "colab_type": "code",
    "outputId": "7ede8256-6cb0-4f3c-f977-417ecb4e510f",
    "colab": {
     "base_uri": "https://localhost:8080/",
     "height": 474
    }
   },
   "source": [
    "# visualize the fitted tree to your train data\n",
    "dot_data = tree.export_graphviz(m.estimators_[0], out_file=None, \n",
    "                         feature_names=x_train.columns,  \n",
    "                         class_names=labels,  \n",
    "                         filled=True, rounded=True,  \n",
    "                         special_characters=True)  \n",
    "graph = graphviz.Source(dot_data) \n",
    "\n",
    "t = m.estimators_[0].tree_\n",
    "\n",
    "n_samples = len(y_train)\n",
    "\n",
    "# the first zero indicates the first node (then the root left ones, and root right ones) \n",
    "# the second can be ignored, the third one is the non-survived/survived value\n",
    "n_samples_ns = t.value[0][0][0] # number of not survived before first split\n",
    "n_samples_s = t.value[0][0][1] # number of survived before first split\n",
    "\n",
    "n_samples_left_ns = t.value[1][0][0]\n",
    "n_samples_left_s = t.value[1][0][1]\n",
    "\n",
    "n_samples_left = n_samples_left_ns + n_samples_left_s\n",
    "\n",
    "# compare the values with the graph below\n",
    "print(n_samples,n_samples_ns,n_samples_s,n_samples_left,n_samples_left_ns,n_samples_left_s)\n",
    "\n",
    "# compute the gini impurity for the root node and its left child\n",
    "gini_root = 1. - (n_samples_ns/n_samples)**2 - (n_samples_s/n_samples)**2\n",
    "gini_left = 1. - (n_samples_left_ns/n_samples_left)**2 - (n_samples_left_s/n_samples_left)**2\n",
    "\n",
    "print('gini_root: {0:2f}, gini_left: {1:3f}'.format(gini_root, gini_left))\n",
    "\n",
    "graph"
   ],
   "execution_count": 0,
   "outputs": [
    {
     "output_type": "stream",
     "text": [
      "711 442.0 269.0 247.0 65.0 182.0\n",
      "gini_root: 0.470398, gini_left: 0.387812\n"
     ],
     "name": "stdout"
    },
    {
     "output_type": "execute_result",
     "data": {
      "text/plain": [
       "<graphviz.files.Source at 0x7f070ff85668>"
      ],
      "image/svg+xml": "<?xml version=\"1.0\" encoding=\"UTF-8\" standalone=\"no\"?>\n<!DOCTYPE svg PUBLIC \"-//W3C//DTD SVG 1.1//EN\"\n \"http://www.w3.org/Graphics/SVG/1.1/DTD/svg11.dtd\">\n<!-- Generated by graphviz version 2.40.1 (20161225.0304)\n -->\n<!-- Title: Tree Pages: 1 -->\n<svg width=\"599pt\" height=\"314pt\"\n viewBox=\"0.00 0.00 598.50 314.00\" xmlns=\"http://www.w3.org/2000/svg\" xmlns:xlink=\"http://www.w3.org/1999/xlink\">\n<g id=\"graph0\" class=\"graph\" transform=\"scale(1 1) rotate(0) translate(4 310)\">\n<title>Tree</title>\n<polygon fill=\"#ffffff\" stroke=\"transparent\" points=\"-4,4 -4,-310 594.5,-310 594.5,4 -4,4\"/>\n<!-- 0 -->\n<g id=\"node1\" class=\"node\">\n<title>0</title>\n<path fill=\"#f5ceb2\" stroke=\"#000000\" d=\"M338.5,-306C338.5,-306 217.5,-306 217.5,-306 211.5,-306 205.5,-300 205.5,-294 205.5,-294 205.5,-235 205.5,-235 205.5,-229 211.5,-223 217.5,-223 217.5,-223 338.5,-223 338.5,-223 344.5,-223 350.5,-229 350.5,-235 350.5,-235 350.5,-294 350.5,-294 350.5,-300 344.5,-306 338.5,-306\"/>\n<text text-anchor=\"start\" x=\"244.5\" y=\"-290.8\" font-family=\"Helvetica,sans-Serif\" font-size=\"14.00\" fill=\"#000000\">male ≤ 0.5</text>\n<text text-anchor=\"start\" x=\"244.5\" y=\"-275.8\" font-family=\"Helvetica,sans-Serif\" font-size=\"14.00\" fill=\"#000000\">gini = 0.47</text>\n<text text-anchor=\"start\" x=\"230\" y=\"-260.8\" font-family=\"Helvetica,sans-Serif\" font-size=\"14.00\" fill=\"#000000\">samples = 711</text>\n<text text-anchor=\"start\" x=\"220\" y=\"-245.8\" font-family=\"Helvetica,sans-Serif\" font-size=\"14.00\" fill=\"#000000\">value = [442, 269]</text>\n<text text-anchor=\"start\" x=\"213.5\" y=\"-230.8\" font-family=\"Helvetica,sans-Serif\" font-size=\"14.00\" fill=\"#000000\">class = not survived</text>\n</g>\n<!-- 1 -->\n<g id=\"node2\" class=\"node\">\n<title>1</title>\n<path fill=\"#80c0ee\" stroke=\"#000000\" d=\"M252,-187C252,-187 152,-187 152,-187 146,-187 140,-181 140,-175 140,-175 140,-116 140,-116 140,-110 146,-104 152,-104 152,-104 252,-104 252,-104 258,-104 264,-110 264,-116 264,-116 264,-175 264,-175 264,-181 258,-187 252,-187\"/>\n<text text-anchor=\"start\" x=\"167.5\" y=\"-171.8\" font-family=\"Helvetica,sans-Serif\" font-size=\"14.00\" fill=\"#000000\">fare ≤ 48.2</text>\n<text text-anchor=\"start\" x=\"164\" y=\"-156.8\" font-family=\"Helvetica,sans-Serif\" font-size=\"14.00\" fill=\"#000000\">gini = 0.388</text>\n<text text-anchor=\"start\" x=\"154\" y=\"-141.8\" font-family=\"Helvetica,sans-Serif\" font-size=\"14.00\" fill=\"#000000\">samples = 247</text>\n<text text-anchor=\"start\" x=\"148\" y=\"-126.8\" font-family=\"Helvetica,sans-Serif\" font-size=\"14.00\" fill=\"#000000\">value = [65, 182]</text>\n<text text-anchor=\"start\" x=\"149.5\" y=\"-111.8\" font-family=\"Helvetica,sans-Serif\" font-size=\"14.00\" fill=\"#000000\">class = survived</text>\n</g>\n<!-- 0&#45;&gt;1 -->\n<g id=\"edge1\" class=\"edge\">\n<title>0&#45;&gt;1</title>\n<path fill=\"none\" stroke=\"#000000\" d=\"M251.4189,-222.8796C245.8395,-214.1434 239.8981,-204.8404 234.1405,-195.8253\"/>\n<polygon fill=\"#000000\" stroke=\"#000000\" points=\"237.0269,-193.8421 228.6946,-187.2981 231.1274,-197.6098 237.0269,-193.8421\"/>\n<text text-anchor=\"middle\" x=\"223.3111\" y=\"-208.0116\" font-family=\"Helvetica,sans-Serif\" font-size=\"14.00\" fill=\"#000000\">True</text>\n</g>\n<!-- 4 -->\n<g id=\"node5\" class=\"node\">\n<title>4</title>\n<path fill=\"#eb9e67\" stroke=\"#000000\" d=\"M415.5,-187C415.5,-187 294.5,-187 294.5,-187 288.5,-187 282.5,-181 282.5,-175 282.5,-175 282.5,-116 282.5,-116 282.5,-110 288.5,-104 294.5,-104 294.5,-104 415.5,-104 415.5,-104 421.5,-104 427.5,-110 427.5,-116 427.5,-116 427.5,-175 427.5,-175 427.5,-181 421.5,-187 415.5,-187\"/>\n<text text-anchor=\"start\" x=\"312.5\" y=\"-171.8\" font-family=\"Helvetica,sans-Serif\" font-size=\"14.00\" fill=\"#000000\">fare ≤ 15.173</text>\n<text text-anchor=\"start\" x=\"317\" y=\"-156.8\" font-family=\"Helvetica,sans-Serif\" font-size=\"14.00\" fill=\"#000000\">gini = 0.305</text>\n<text text-anchor=\"start\" x=\"307\" y=\"-141.8\" font-family=\"Helvetica,sans-Serif\" font-size=\"14.00\" fill=\"#000000\">samples = 464</text>\n<text text-anchor=\"start\" x=\"301\" y=\"-126.8\" font-family=\"Helvetica,sans-Serif\" font-size=\"14.00\" fill=\"#000000\">value = [377, 87]</text>\n<text text-anchor=\"start\" x=\"290.5\" y=\"-111.8\" font-family=\"Helvetica,sans-Serif\" font-size=\"14.00\" fill=\"#000000\">class = not survived</text>\n</g>\n<!-- 0&#45;&gt;4 -->\n<g id=\"edge4\" class=\"edge\">\n<title>0&#45;&gt;4</title>\n<path fill=\"none\" stroke=\"#000000\" d=\"M304.9309,-222.8796C310.5837,-214.1434 316.6033,-204.8404 322.4366,-195.8253\"/>\n<polygon fill=\"#000000\" stroke=\"#000000\" points=\"325.4601,-197.5952 327.9542,-187.2981 319.5831,-193.7924 325.4601,-197.5952\"/>\n<text text-anchor=\"middle\" x=\"333.1924\" y=\"-208.0431\" font-family=\"Helvetica,sans-Serif\" font-size=\"14.00\" fill=\"#000000\">False</text>\n</g>\n<!-- 2 -->\n<g id=\"node3\" class=\"node\">\n<title>2</title>\n<path fill=\"#a0d0f3\" stroke=\"#000000\" d=\"M112,-68C112,-68 12,-68 12,-68 6,-68 0,-62 0,-56 0,-56 0,-12 0,-12 0,-6 6,0 12,0 12,0 112,0 112,0 118,0 124,-6 124,-12 124,-12 124,-56 124,-56 124,-62 118,-68 112,-68\"/>\n<text text-anchor=\"start\" x=\"24\" y=\"-52.8\" font-family=\"Helvetica,sans-Serif\" font-size=\"14.00\" fill=\"#000000\">gini = 0.451</text>\n<text text-anchor=\"start\" x=\"14\" y=\"-37.8\" font-family=\"Helvetica,sans-Serif\" font-size=\"14.00\" fill=\"#000000\">samples = 178</text>\n<text text-anchor=\"start\" x=\"8\" y=\"-22.8\" font-family=\"Helvetica,sans-Serif\" font-size=\"14.00\" fill=\"#000000\">value = [61, 117]</text>\n<text text-anchor=\"start\" x=\"9.5\" y=\"-7.8\" font-family=\"Helvetica,sans-Serif\" font-size=\"14.00\" fill=\"#000000\">class = survived</text>\n</g>\n<!-- 1&#45;&gt;2 -->\n<g id=\"edge2\" class=\"edge\">\n<title>1&#45;&gt;2</title>\n<path fill=\"none\" stroke=\"#000000\" d=\"M149.8692,-103.9815C137.8677,-94.4232 125.1152,-84.2668 113.1557,-74.7419\"/>\n<polygon fill=\"#000000\" stroke=\"#000000\" points=\"115.0244,-71.7558 105.0217,-68.2637 110.6635,-77.2314 115.0244,-71.7558\"/>\n</g>\n<!-- 3 -->\n<g id=\"node4\" class=\"node\">\n<title>3</title>\n<path fill=\"#45a3e7\" stroke=\"#000000\" d=\"M251.5,-68C251.5,-68 154.5,-68 154.5,-68 148.5,-68 142.5,-62 142.5,-56 142.5,-56 142.5,-12 142.5,-12 142.5,-6 148.5,0 154.5,0 154.5,0 251.5,0 251.5,0 257.5,0 263.5,-6 263.5,-12 263.5,-12 263.5,-56 263.5,-56 263.5,-62 257.5,-68 251.5,-68\"/>\n<text text-anchor=\"start\" x=\"165\" y=\"-52.8\" font-family=\"Helvetica,sans-Serif\" font-size=\"14.00\" fill=\"#000000\">gini = 0.109</text>\n<text text-anchor=\"start\" x=\"159\" y=\"-37.8\" font-family=\"Helvetica,sans-Serif\" font-size=\"14.00\" fill=\"#000000\">samples = 69</text>\n<text text-anchor=\"start\" x=\"157.5\" y=\"-22.8\" font-family=\"Helvetica,sans-Serif\" font-size=\"14.00\" fill=\"#000000\">value = [4, 65]</text>\n<text text-anchor=\"start\" x=\"150.5\" y=\"-7.8\" font-family=\"Helvetica,sans-Serif\" font-size=\"14.00\" fill=\"#000000\">class = survived</text>\n</g>\n<!-- 1&#45;&gt;3 -->\n<g id=\"edge3\" class=\"edge\">\n<title>1&#45;&gt;3</title>\n<path fill=\"none\" stroke=\"#000000\" d=\"M202.3724,-103.9815C202.4474,-95.618 202.5265,-86.7965 202.6023,-78.3409\"/>\n<polygon fill=\"#000000\" stroke=\"#000000\" points=\"206.1028,-78.2947 202.6927,-68.2637 199.1031,-78.2318 206.1028,-78.2947\"/>\n</g>\n<!-- 5 -->\n<g id=\"node6\" class=\"node\">\n<title>5</title>\n<path fill=\"#e89151\" stroke=\"#000000\" d=\"M415.5,-68C415.5,-68 294.5,-68 294.5,-68 288.5,-68 282.5,-62 282.5,-56 282.5,-56 282.5,-12 282.5,-12 282.5,-6 288.5,0 294.5,0 294.5,0 415.5,0 415.5,0 421.5,0 427.5,-6 427.5,-12 427.5,-12 427.5,-56 427.5,-56 427.5,-62 421.5,-68 415.5,-68\"/>\n<text text-anchor=\"start\" x=\"317\" y=\"-52.8\" font-family=\"Helvetica,sans-Serif\" font-size=\"14.00\" fill=\"#000000\">gini = 0.196</text>\n<text text-anchor=\"start\" x=\"307\" y=\"-37.8\" font-family=\"Helvetica,sans-Serif\" font-size=\"14.00\" fill=\"#000000\">samples = 282</text>\n<text text-anchor=\"start\" x=\"301\" y=\"-22.8\" font-family=\"Helvetica,sans-Serif\" font-size=\"14.00\" fill=\"#000000\">value = [251, 31]</text>\n<text text-anchor=\"start\" x=\"290.5\" y=\"-7.8\" font-family=\"Helvetica,sans-Serif\" font-size=\"14.00\" fill=\"#000000\">class = not survived</text>\n</g>\n<!-- 4&#45;&gt;5 -->\n<g id=\"edge5\" class=\"edge\">\n<title>4&#45;&gt;5</title>\n<path fill=\"none\" stroke=\"#000000\" d=\"M355,-103.9815C355,-95.618 355,-86.7965 355,-78.3409\"/>\n<polygon fill=\"#000000\" stroke=\"#000000\" points=\"358.5001,-78.2636 355,-68.2637 351.5001,-78.2637 358.5001,-78.2636\"/>\n</g>\n<!-- 6 -->\n<g id=\"node7\" class=\"node\">\n<title>6</title>\n<path fill=\"#f1b991\" stroke=\"#000000\" d=\"M578.5,-68C578.5,-68 457.5,-68 457.5,-68 451.5,-68 445.5,-62 445.5,-56 445.5,-56 445.5,-12 445.5,-12 445.5,-6 451.5,0 457.5,0 457.5,0 578.5,0 578.5,0 584.5,0 590.5,-6 590.5,-12 590.5,-12 590.5,-56 590.5,-56 590.5,-62 584.5,-68 578.5,-68\"/>\n<text text-anchor=\"start\" x=\"480\" y=\"-52.8\" font-family=\"Helvetica,sans-Serif\" font-size=\"14.00\" fill=\"#000000\">gini = 0.426</text>\n<text text-anchor=\"start\" x=\"470\" y=\"-37.8\" font-family=\"Helvetica,sans-Serif\" font-size=\"14.00\" fill=\"#000000\">samples = 182</text>\n<text text-anchor=\"start\" x=\"464\" y=\"-22.8\" font-family=\"Helvetica,sans-Serif\" font-size=\"14.00\" fill=\"#000000\">value = [126, 56]</text>\n<text text-anchor=\"start\" x=\"453.5\" y=\"-7.8\" font-family=\"Helvetica,sans-Serif\" font-size=\"14.00\" fill=\"#000000\">class = not survived</text>\n</g>\n<!-- 4&#45;&gt;6 -->\n<g id=\"edge6\" class=\"edge\">\n<title>4&#45;&gt;6</title>\n<path fill=\"none\" stroke=\"#000000\" d=\"M415.6952,-103.9815C430.147,-94.0957 445.5342,-83.5701 459.868,-73.7651\"/>\n<polygon fill=\"#000000\" stroke=\"#000000\" points=\"461.8932,-76.6204 468.1708,-68.0856 457.941,-70.8428 461.8932,-76.6204\"/>\n</g>\n</g>\n</svg>\n"
     },
     "metadata": {
      "tags": []
     },
     "execution_count": 8
    }
   ]
  },
  {
   "cell_type": "markdown",
   "metadata": {
    "id": "ptYrR3l0haDi",
    "colab_type": "text"
   },
   "source": [
    "Let us change the splitting criterion from **Gini** to **Information Gain**."
   ]
  },
  {
   "cell_type": "code",
   "metadata": {
    "id": "JIKo65KAhXtO",
    "colab_type": "code",
    "outputId": "e1dc9e7f-eb26-4a68-b5d3-5d5c9b7f6626",
    "colab": {
     "base_uri": "https://localhost:8080/",
     "height": 492
    }
   },
   "source": [
    "# define the RandomForestClassifier with entropy as the splitting criterion, 1 tree, max_depth=2 and bootstrap=False\n",
    "# and fit the data\n",
    "m = RandomForestClassifier(n_estimators=1, criterion=\"entropy\", max_depth=2, bootstrap=False)\n",
    "m.fit(x_train, y_train)\n",
    "\n",
    "# predict the results for your train and test data\n",
    "preds_train = m.predict(x_train)\n",
    "preds_test = m.predict(x_test)\n",
    "\n",
    "# calculate the accuracy\n",
    "acc_train = accuracy(preds_train, y_train)\n",
    "acc_test = accuracy(preds_test, y_test)\n",
    "\n",
    "# print the results\n",
    "print('train_acc: {0:4f}, test_acc: {1:4f}'.format(acc_train, acc_test))\n",
    "\n",
    "# prepare the variables for the entropy gain calculation\n",
    "t = m.estimators_[0].tree_\n",
    "n_samples = float(len(y_train))\n",
    "\n",
    "n_samples_ns = t.value[0][0][0] # number of not survived before first split\n",
    "n_samples_s = t.value[0][0][1] # number of survived before first split\n",
    "\n",
    "n_samples_lns = t.value[1][0][0] # number of not survived after first split for the first node\n",
    "n_samples_ls = t.value[1][0][1]\n",
    "\n",
    "n_samples_left = float(n_samples_lns + n_samples_ls)\n",
    "\n",
    "# to get the root right nodes directly, use children_right\n",
    "n_samples_rns = t.value[t.children_right][0][0][0]\n",
    "n_samples_rs = t.value[t.children_right][0][0][1]\n",
    "\n",
    "n_samples_right = float(n_samples_rns + n_samples_rs)\n",
    "\n",
    "# calculate the entropy gain\n",
    "\n",
    "entropy_root = -(n_samples_ns/n_samples)*np.log2(n_samples_ns/n_samples) - (n_samples_s/n_samples)*np.log2(n_samples_s/n_samples)\n",
    "\n",
    "entropy_left = -(n_samples_lns/n_samples_left)*np.log2(n_samples_lns/n_samples_left) - (n_samples_ls/n_samples_left)*np.log2(n_samples_ls/n_samples_left)\n",
    "entropy_right = -(n_samples_rns/n_samples_right)*np.log2(n_samples_rns/n_samples_right) - (n_samples_rs/n_samples_right)*np.log2(n_samples_rs/n_samples_right)\n",
    "\n",
    "print('root_entropy:{0:4f}, left_entropy:{1:4f}, right_entropy:{2:4f}'.format(entropy_root, entropy_left, entropy_right))\n",
    "\n",
    "gain = entropy_root - (n_samples_left/n_samples)*entropy_left - (n_samples_right/n_samples)*entropy_right\n",
    "intrinsic_information = -(n_samples_left/n_samples)*np.log2(n_samples_left/n_samples)-(n_samples_right/n_samples)*np.log2(n_samples_right/n_samples)\n",
    "gain_ratio = gain/intrinsic_information\n",
    "\n",
    "print('gain: {0:2f}, intrinsic_information: {1:3f}, gain_ratio: {2:3f}'.format(gain, intrinsic_information, gain_ratio))\n",
    "\n",
    "# visualize the fitted tree to your train data\n",
    "dot_data = tree.export_graphviz(m.estimators_[0], out_file=None, \n",
    "                         feature_names=x_train.columns,  \n",
    "                         class_names=labels,  \n",
    "                         filled=True, rounded=True,  \n",
    "                         special_characters=True)  \n",
    "graph = graphviz.Source(dot_data) \n",
    "graph"
   ],
   "execution_count": 0,
   "outputs": [
    {
     "output_type": "stream",
     "text": [
      "train_acc: 0.786217, test_acc: 0.786517\n",
      "root_entropy:0.956861, left_entropy:0.994183, right_entropy:0.808285\n",
      "gain: 0.067001, intrinsic_information: 0.989172, gain_ratio: 0.067734\n"
     ],
     "name": "stdout"
    },
    {
     "output_type": "execute_result",
     "data": {
      "text/plain": [
       "<graphviz.files.Source at 0x7f06fbd417b8>"
      ],
      "image/svg+xml": "<?xml version=\"1.0\" encoding=\"UTF-8\" standalone=\"no\"?>\n<!DOCTYPE svg PUBLIC \"-//W3C//DTD SVG 1.1//EN\"\n \"http://www.w3.org/Graphics/SVG/1.1/DTD/svg11.dtd\">\n<!-- Generated by graphviz version 2.40.1 (20161225.0304)\n -->\n<!-- Title: Tree Pages: 1 -->\n<svg width=\"597pt\" height=\"314pt\"\n viewBox=\"0.00 0.00 597.00 314.00\" xmlns=\"http://www.w3.org/2000/svg\" xmlns:xlink=\"http://www.w3.org/1999/xlink\">\n<g id=\"graph0\" class=\"graph\" transform=\"scale(1 1) rotate(0) translate(4 310)\">\n<title>Tree</title>\n<polygon fill=\"#ffffff\" stroke=\"transparent\" points=\"-4,4 -4,-310 593,-310 593,4 -4,4\"/>\n<!-- 0 -->\n<g id=\"node1\" class=\"node\">\n<title>0</title>\n<path fill=\"#f5ceb2\" stroke=\"#000000\" d=\"M348,-306C348,-306 227,-306 227,-306 221,-306 215,-300 215,-294 215,-294 215,-235 215,-235 215,-229 221,-223 227,-223 227,-223 348,-223 348,-223 354,-223 360,-229 360,-235 360,-235 360,-294 360,-294 360,-300 354,-306 348,-306\"/>\n<text text-anchor=\"start\" x=\"248.5\" y=\"-290.8\" font-family=\"Helvetica,sans-Serif\" font-size=\"14.00\" fill=\"#000000\">pclass ≤ 2.5</text>\n<text text-anchor=\"start\" x=\"236.5\" y=\"-275.8\" font-family=\"Helvetica,sans-Serif\" font-size=\"14.00\" fill=\"#000000\">entropy = 0.957</text>\n<text text-anchor=\"start\" x=\"239.5\" y=\"-260.8\" font-family=\"Helvetica,sans-Serif\" font-size=\"14.00\" fill=\"#000000\">samples = 711</text>\n<text text-anchor=\"start\" x=\"229.5\" y=\"-245.8\" font-family=\"Helvetica,sans-Serif\" font-size=\"14.00\" fill=\"#000000\">value = [442, 269]</text>\n<text text-anchor=\"start\" x=\"223\" y=\"-230.8\" font-family=\"Helvetica,sans-Serif\" font-size=\"14.00\" fill=\"#000000\">class = not survived</text>\n</g>\n<!-- 1 -->\n<g id=\"node2\" class=\"node\">\n<title>1</title>\n<path fill=\"#deeffb\" stroke=\"#000000\" d=\"M263.5,-187C263.5,-187 155.5,-187 155.5,-187 149.5,-187 143.5,-181 143.5,-175 143.5,-175 143.5,-116 143.5,-116 143.5,-110 149.5,-104 155.5,-104 155.5,-104 263.5,-104 263.5,-104 269.5,-104 275.5,-110 275.5,-116 275.5,-116 275.5,-175 275.5,-175 275.5,-181 269.5,-187 263.5,-187\"/>\n<text text-anchor=\"start\" x=\"176\" y=\"-171.8\" font-family=\"Helvetica,sans-Serif\" font-size=\"14.00\" fill=\"#000000\">male ≤ 0.5</text>\n<text text-anchor=\"start\" x=\"158.5\" y=\"-156.8\" font-family=\"Helvetica,sans-Serif\" font-size=\"14.00\" fill=\"#000000\">entropy = 0.994</text>\n<text text-anchor=\"start\" x=\"161.5\" y=\"-141.8\" font-family=\"Helvetica,sans-Serif\" font-size=\"14.00\" fill=\"#000000\">samples = 312</text>\n<text text-anchor=\"start\" x=\"151.5\" y=\"-126.8\" font-family=\"Helvetica,sans-Serif\" font-size=\"14.00\" fill=\"#000000\">value = [142, 170]</text>\n<text text-anchor=\"start\" x=\"157\" y=\"-111.8\" font-family=\"Helvetica,sans-Serif\" font-size=\"14.00\" fill=\"#000000\">class = survived</text>\n</g>\n<!-- 0&#45;&gt;1 -->\n<g id=\"edge1\" class=\"edge\">\n<title>0&#45;&gt;1</title>\n<path fill=\"none\" stroke=\"#000000\" d=\"M260.2194,-222.8796C254.4932,-214.1434 248.3954,-204.8404 242.4863,-195.8253\"/>\n<polygon fill=\"#000000\" stroke=\"#000000\" points=\"245.3063,-193.7429 236.8971,-187.2981 239.4518,-197.5803 245.3063,-193.7429\"/>\n<text text-anchor=\"middle\" x=\"231.8032\" y=\"-208.0736\" font-family=\"Helvetica,sans-Serif\" font-size=\"14.00\" fill=\"#000000\">True</text>\n</g>\n<!-- 4 -->\n<g id=\"node5\" class=\"node\">\n<title>4</title>\n<path fill=\"#eeab7a\" stroke=\"#000000\" d=\"M427,-187C427,-187 306,-187 306,-187 300,-187 294,-181 294,-175 294,-175 294,-116 294,-116 294,-110 300,-104 306,-104 306,-104 427,-104 427,-104 433,-104 439,-110 439,-116 439,-116 439,-175 439,-175 439,-181 433,-187 427,-187\"/>\n<text text-anchor=\"start\" x=\"333\" y=\"-171.8\" font-family=\"Helvetica,sans-Serif\" font-size=\"14.00\" fill=\"#000000\">male ≤ 0.5</text>\n<text text-anchor=\"start\" x=\"315.5\" y=\"-156.8\" font-family=\"Helvetica,sans-Serif\" font-size=\"14.00\" fill=\"#000000\">entropy = 0.808</text>\n<text text-anchor=\"start\" x=\"318.5\" y=\"-141.8\" font-family=\"Helvetica,sans-Serif\" font-size=\"14.00\" fill=\"#000000\">samples = 399</text>\n<text text-anchor=\"start\" x=\"312.5\" y=\"-126.8\" font-family=\"Helvetica,sans-Serif\" font-size=\"14.00\" fill=\"#000000\">value = [300, 99]</text>\n<text text-anchor=\"start\" x=\"302\" y=\"-111.8\" font-family=\"Helvetica,sans-Serif\" font-size=\"14.00\" fill=\"#000000\">class = not survived</text>\n</g>\n<!-- 0&#45;&gt;4 -->\n<g id=\"edge4\" class=\"edge\">\n<title>0&#45;&gt;4</title>\n<path fill=\"none\" stroke=\"#000000\" d=\"M315.1304,-222.8796C320.93,-214.1434 327.1059,-204.8404 333.0908,-195.8253\"/>\n<polygon fill=\"#000000\" stroke=\"#000000\" points=\"336.1368,-197.5652 338.7517,-187.2981 330.3049,-193.6935 336.1368,-197.5652\"/>\n<text text-anchor=\"middle\" x=\"343.7022\" y=\"-208.103\" font-family=\"Helvetica,sans-Serif\" font-size=\"14.00\" fill=\"#000000\">False</text>\n</g>\n<!-- 2 -->\n<g id=\"node3\" class=\"node\">\n<title>2</title>\n<path fill=\"#44a3e7\" stroke=\"#000000\" d=\"M109,-68C109,-68 12,-68 12,-68 6,-68 0,-62 0,-56 0,-56 0,-12 0,-12 0,-6 6,0 12,0 12,0 109,0 109,0 115,0 121,-6 121,-12 121,-12 121,-56 121,-56 121,-62 115,-68 109,-68\"/>\n<text text-anchor=\"start\" x=\"9.5\" y=\"-52.8\" font-family=\"Helvetica,sans-Serif\" font-size=\"14.00\" fill=\"#000000\">entropy = 0.306</text>\n<text text-anchor=\"start\" x=\"12.5\" y=\"-37.8\" font-family=\"Helvetica,sans-Serif\" font-size=\"14.00\" fill=\"#000000\">samples = 128</text>\n<text text-anchor=\"start\" x=\"10.5\" y=\"-22.8\" font-family=\"Helvetica,sans-Serif\" font-size=\"14.00\" fill=\"#000000\">value = [7, 121]</text>\n<text text-anchor=\"start\" x=\"8\" y=\"-7.8\" font-family=\"Helvetica,sans-Serif\" font-size=\"14.00\" fill=\"#000000\">class = survived</text>\n</g>\n<!-- 1&#45;&gt;2 -->\n<g id=\"edge2\" class=\"edge\">\n<title>1&#45;&gt;2</title>\n<path fill=\"none\" stroke=\"#000000\" d=\"M154.0179,-103.9815C141.1221,-94.3313 127.4116,-84.0714 114.5773,-74.4673\"/>\n<polygon fill=\"#000000\" stroke=\"#000000\" points=\"116.3908,-71.4528 106.2873,-68.2637 112.1968,-77.0574 116.3908,-71.4528\"/>\n</g>\n<!-- 3 -->\n<g id=\"node4\" class=\"node\">\n<title>3</title>\n<path fill=\"#eeaf81\" stroke=\"#000000\" d=\"M272,-68C272,-68 151,-68 151,-68 145,-68 139,-62 139,-56 139,-56 139,-12 139,-12 139,-6 145,0 151,0 151,0 272,0 272,0 278,0 284,-6 284,-12 284,-12 284,-56 284,-56 284,-62 278,-68 272,-68\"/>\n<text text-anchor=\"start\" x=\"160.5\" y=\"-52.8\" font-family=\"Helvetica,sans-Serif\" font-size=\"14.00\" fill=\"#000000\">entropy = 0.836</text>\n<text text-anchor=\"start\" x=\"163.5\" y=\"-37.8\" font-family=\"Helvetica,sans-Serif\" font-size=\"14.00\" fill=\"#000000\">samples = 184</text>\n<text text-anchor=\"start\" x=\"157.5\" y=\"-22.8\" font-family=\"Helvetica,sans-Serif\" font-size=\"14.00\" fill=\"#000000\">value = [135, 49]</text>\n<text text-anchor=\"start\" x=\"147\" y=\"-7.8\" font-family=\"Helvetica,sans-Serif\" font-size=\"14.00\" fill=\"#000000\">class = not survived</text>\n</g>\n<!-- 1&#45;&gt;3 -->\n<g id=\"edge3\" class=\"edge\">\n<title>1&#45;&gt;3</title>\n<path fill=\"none\" stroke=\"#000000\" d=\"M210.2447,-103.9815C210.3947,-95.618 210.553,-86.7965 210.7046,-78.3409\"/>\n<polygon fill=\"#000000\" stroke=\"#000000\" points=\"214.2054,-78.3249 210.8854,-68.2637 207.2065,-78.1993 214.2054,-78.3249\"/>\n</g>\n<!-- 5 -->\n<g id=\"node6\" class=\"node\">\n<title>5</title>\n<path fill=\"#f5fafe\" stroke=\"#000000\" d=\"M414,-68C414,-68 317,-68 317,-68 311,-68 305,-62 305,-56 305,-56 305,-12 305,-12 305,-6 311,0 317,0 317,0 414,0 414,0 420,0 426,-6 426,-12 426,-12 426,-56 426,-56 426,-62 420,-68 414,-68\"/>\n<text text-anchor=\"start\" x=\"323\" y=\"-52.8\" font-family=\"Helvetica,sans-Serif\" font-size=\"14.00\" fill=\"#000000\">entropy = 1.0</text>\n<text text-anchor=\"start\" x=\"317.5\" y=\"-37.8\" font-family=\"Helvetica,sans-Serif\" font-size=\"14.00\" fill=\"#000000\">samples = 119</text>\n<text text-anchor=\"start\" x=\"315.5\" y=\"-22.8\" font-family=\"Helvetica,sans-Serif\" font-size=\"14.00\" fill=\"#000000\">value = [58, 61]</text>\n<text text-anchor=\"start\" x=\"313\" y=\"-7.8\" font-family=\"Helvetica,sans-Serif\" font-size=\"14.00\" fill=\"#000000\">class = survived</text>\n</g>\n<!-- 4&#45;&gt;5 -->\n<g id=\"edge5\" class=\"edge\">\n<title>4&#45;&gt;5</title>\n<path fill=\"none\" stroke=\"#000000\" d=\"M366.1276,-103.9815C366.0526,-95.618 365.9735,-86.7965 365.8977,-78.3409\"/>\n<polygon fill=\"#000000\" stroke=\"#000000\" points=\"369.3969,-78.2318 365.8073,-68.2637 362.3972,-78.2947 369.3969,-78.2318\"/>\n</g>\n<!-- 6 -->\n<g id=\"node7\" class=\"node\">\n<title>6</title>\n<path fill=\"#e99558\" stroke=\"#000000\" d=\"M577,-68C577,-68 456,-68 456,-68 450,-68 444,-62 444,-56 444,-56 444,-12 444,-12 444,-6 450,0 456,0 456,0 577,0 577,0 583,0 589,-6 589,-12 589,-12 589,-56 589,-56 589,-62 583,-68 577,-68\"/>\n<text text-anchor=\"start\" x=\"465.5\" y=\"-52.8\" font-family=\"Helvetica,sans-Serif\" font-size=\"14.00\" fill=\"#000000\">entropy = 0.573</text>\n<text text-anchor=\"start\" x=\"468.5\" y=\"-37.8\" font-family=\"Helvetica,sans-Serif\" font-size=\"14.00\" fill=\"#000000\">samples = 280</text>\n<text text-anchor=\"start\" x=\"462.5\" y=\"-22.8\" font-family=\"Helvetica,sans-Serif\" font-size=\"14.00\" fill=\"#000000\">value = [242, 38]</text>\n<text text-anchor=\"start\" x=\"452\" y=\"-7.8\" font-family=\"Helvetica,sans-Serif\" font-size=\"14.00\" fill=\"#000000\">class = not survived</text>\n</g>\n<!-- 4&#45;&gt;6 -->\n<g id=\"edge6\" class=\"edge\">\n<title>4&#45;&gt;6</title>\n<path fill=\"none\" stroke=\"#000000\" d=\"M422.3545,-103.9815C435.3368,-94.3313 449.1394,-84.0714 462.0597,-74.4673\"/>\n<polygon fill=\"#000000\" stroke=\"#000000\" points=\"464.4678,-77.0384 470.4054,-68.2637 460.2917,-71.4204 464.4678,-77.0384\"/>\n</g>\n</g>\n</svg>\n"
     },
     "metadata": {
      "tags": []
     },
     "execution_count": 9
    }
   ]
  },
  {
   "cell_type": "markdown",
   "metadata": {
    "id": "WK4i9pUWdVNA",
    "colab_type": "text"
   },
   "source": [
    "Let us repeat the same process we went through for the **RandomForestClassifier**, for the **RandomForestRegressor**: \n",
    "\n",
    "1. define the regressor\n",
    "2. fit the data\n",
    "3. calculate the accuracy\n",
    "4. visualize the tree graph for the first tree\n",
    "\n",
    "\n"
   ]
  },
  {
   "cell_type": "code",
   "metadata": {
    "id": "h6QgWsTER8pV",
    "colab_type": "code",
    "outputId": "d0047aa3-df8e-44f4-f8b9-489b7bd49ced",
    "colab": {
     "base_uri": "https://localhost:8080/",
     "height": 141
    }
   },
   "source": [
    "# define the RandomForestRegressor and fit the data\n",
    "m = RandomForestRegressor(n_estimators=1, max_depth=2, bootstrap=False)\n",
    "m.fit(x_train, y_train)"
   ],
   "execution_count": 0,
   "outputs": [
    {
     "output_type": "execute_result",
     "data": {
      "text/plain": [
       "RandomForestRegressor(bootstrap=False, criterion='mse', max_depth=2,\n",
       "                      max_features='auto', max_leaf_nodes=None,\n",
       "                      min_impurity_decrease=0.0, min_impurity_split=None,\n",
       "                      min_samples_leaf=1, min_samples_split=2,\n",
       "                      min_weight_fraction_leaf=0.0, n_estimators=1, n_jobs=None,\n",
       "                      oob_score=False, random_state=None, verbose=0,\n",
       "                      warm_start=False)"
      ]
     },
     "metadata": {
      "tags": []
     },
     "execution_count": 10
    }
   ]
  },
  {
   "cell_type": "code",
   "metadata": {
    "id": "chQdahl2eNIY",
    "colab_type": "code",
    "outputId": "4e867e24-406b-4e12-ddcd-b2251c1324d3",
    "colab": {
     "base_uri": "https://localhost:8080/",
     "height": 34
    }
   },
   "source": [
    "# predict the results for your train and test data\n",
    "preds_train = m.predict(x_train)\n",
    "preds_test = m.predict(x_test)\n",
    "\n",
    "# calculate the accuracy\n",
    "\n",
    "acc_train = accuracy(preds_train, y_train)\n",
    "acc_test = accuracy(preds_test, y_test)\n",
    "\n",
    "# print the results\n",
    "print('train_acc: {0:4f}, test_acc: {1:4f}'.format(acc_train, acc_test))"
   ],
   "execution_count": 0,
   "outputs": [
    {
     "output_type": "stream",
     "text": [
      "train_acc: 0.786217, test_acc: 0.786517\n"
     ],
     "name": "stdout"
    }
   ]
  },
  {
   "cell_type": "code",
   "metadata": {
    "id": "5F6u1n3AV5vK",
    "colab_type": "code",
    "outputId": "13384460-1d12-4dc5-944d-aebb8164f552",
    "colab": {
     "base_uri": "https://localhost:8080/",
     "height": 379
    }
   },
   "source": [
    "# visualize the fitted tree to your train data\n",
    "dot_data = tree.export_graphviz(m.estimators_[0], out_file=None, \n",
    "                         feature_names=x_train.columns,  \n",
    "                         class_names=labels,  \n",
    "                         filled=True, rounded=True,  \n",
    "                         special_characters=True)  \n",
    "graph = graphviz.Source(dot_data) \n",
    "graph"
   ],
   "execution_count": 0,
   "outputs": [
    {
     "output_type": "execute_result",
     "data": {
      "text/plain": [
       "<graphviz.files.Source at 0x7f070ff85208>"
      ],
      "image/svg+xml": "<?xml version=\"1.0\" encoding=\"UTF-8\" standalone=\"no\"?>\n<!DOCTYPE svg PUBLIC \"-//W3C//DTD SVG 1.1//EN\"\n \"http://www.w3.org/Graphics/SVG/1.1/DTD/svg11.dtd\">\n<!-- Generated by graphviz version 2.40.1 (20161225.0304)\n -->\n<!-- Title: Tree Pages: 1 -->\n<svg width=\"510pt\" height=\"269pt\"\n viewBox=\"0.00 0.00 510.00 269.00\" xmlns=\"http://www.w3.org/2000/svg\" xmlns:xlink=\"http://www.w3.org/1999/xlink\">\n<g id=\"graph0\" class=\"graph\" transform=\"scale(1 1) rotate(0) translate(4 265)\">\n<title>Tree</title>\n<polygon fill=\"#ffffff\" stroke=\"transparent\" points=\"-4,4 -4,-265 506,-265 506,4 -4,4\"/>\n<!-- 0 -->\n<g id=\"node1\" class=\"node\">\n<title>0</title>\n<path fill=\"#f7d7bf\" stroke=\"#000000\" d=\"M295,-261C295,-261 207,-261 207,-261 201,-261 195,-255 195,-249 195,-249 195,-205 195,-205 195,-199 201,-193 207,-193 207,-193 295,-193 295,-193 301,-193 307,-199 307,-205 307,-205 307,-249 307,-249 307,-255 301,-261 295,-261\"/>\n<text text-anchor=\"start\" x=\"217.5\" y=\"-245.8\" font-family=\"Helvetica,sans-Serif\" font-size=\"14.00\" fill=\"#000000\">male ≤ 0.5</text>\n<text text-anchor=\"start\" x=\"210.5\" y=\"-230.8\" font-family=\"Helvetica,sans-Serif\" font-size=\"14.00\" fill=\"#000000\">mse = 0.235</text>\n<text text-anchor=\"start\" x=\"203\" y=\"-215.8\" font-family=\"Helvetica,sans-Serif\" font-size=\"14.00\" fill=\"#000000\">samples = 711</text>\n<text text-anchor=\"start\" x=\"207\" y=\"-200.8\" font-family=\"Helvetica,sans-Serif\" font-size=\"14.00\" fill=\"#000000\">value = 0.378</text>\n</g>\n<!-- 1 -->\n<g id=\"node2\" class=\"node\">\n<title>1</title>\n<path fill=\"#eba06a\" stroke=\"#000000\" d=\"M230,-157C230,-157 142,-157 142,-157 136,-157 130,-151 130,-145 130,-145 130,-101 130,-101 130,-95 136,-89 142,-89 142,-89 230,-89 230,-89 236,-89 242,-95 242,-101 242,-101 242,-145 242,-145 242,-151 236,-157 230,-157\"/>\n<text text-anchor=\"start\" x=\"147\" y=\"-141.8\" font-family=\"Helvetica,sans-Serif\" font-size=\"14.00\" fill=\"#000000\">pclass ≤ 2.5</text>\n<text text-anchor=\"start\" x=\"145.5\" y=\"-126.8\" font-family=\"Helvetica,sans-Serif\" font-size=\"14.00\" fill=\"#000000\">mse = 0.194</text>\n<text text-anchor=\"start\" x=\"138\" y=\"-111.8\" font-family=\"Helvetica,sans-Serif\" font-size=\"14.00\" fill=\"#000000\">samples = 247</text>\n<text text-anchor=\"start\" x=\"142\" y=\"-96.8\" font-family=\"Helvetica,sans-Serif\" font-size=\"14.00\" fill=\"#000000\">value = 0.737</text>\n</g>\n<!-- 0&#45;&gt;1 -->\n<g id=\"edge1\" class=\"edge\">\n<title>0&#45;&gt;1</title>\n<path fill=\"none\" stroke=\"#000000\" d=\"M229.7166,-192.9465C224.2733,-184.2373 218.3516,-174.7626 212.675,-165.6801\"/>\n<polygon fill=\"#000000\" stroke=\"#000000\" points=\"215.5993,-163.755 207.3312,-157.13 209.6633,-167.465 215.5993,-163.755\"/>\n<text text-anchor=\"middle\" x=\"201.7098\" y=\"-177.7898\" font-family=\"Helvetica,sans-Serif\" font-size=\"14.00\" fill=\"#000000\">True</text>\n</g>\n<!-- 4 -->\n<g id=\"node5\" class=\"node\">\n<title>4</title>\n<path fill=\"#fdf3ed\" stroke=\"#000000\" d=\"M360,-157C360,-157 272,-157 272,-157 266,-157 260,-151 260,-145 260,-145 260,-101 260,-101 260,-95 266,-89 272,-89 272,-89 360,-89 360,-89 366,-89 372,-95 372,-101 372,-101 372,-145 372,-145 372,-151 366,-157 360,-157\"/>\n<text text-anchor=\"start\" x=\"273.5\" y=\"-141.8\" font-family=\"Helvetica,sans-Serif\" font-size=\"14.00\" fill=\"#000000\">fare ≤ 15.173</text>\n<text text-anchor=\"start\" x=\"275.5\" y=\"-126.8\" font-family=\"Helvetica,sans-Serif\" font-size=\"14.00\" fill=\"#000000\">mse = 0.152</text>\n<text text-anchor=\"start\" x=\"268\" y=\"-111.8\" font-family=\"Helvetica,sans-Serif\" font-size=\"14.00\" fill=\"#000000\">samples = 464</text>\n<text text-anchor=\"start\" x=\"272\" y=\"-96.8\" font-family=\"Helvetica,sans-Serif\" font-size=\"14.00\" fill=\"#000000\">value = 0.188</text>\n</g>\n<!-- 0&#45;&gt;4 -->\n<g id=\"edge4\" class=\"edge\">\n<title>0&#45;&gt;4</title>\n<path fill=\"none\" stroke=\"#000000\" d=\"M272.2834,-192.9465C277.7267,-184.2373 283.6484,-174.7626 289.325,-165.6801\"/>\n<polygon fill=\"#000000\" stroke=\"#000000\" points=\"292.3367,-167.465 294.6688,-157.13 286.4007,-163.755 292.3367,-167.465\"/>\n<text text-anchor=\"middle\" x=\"300.2902\" y=\"-177.7898\" font-family=\"Helvetica,sans-Serif\" font-size=\"14.00\" fill=\"#000000\">False</text>\n</g>\n<!-- 2 -->\n<g id=\"node3\" class=\"node\">\n<title>2</title>\n<path fill=\"#e58139\" stroke=\"#000000\" d=\"M100,-53C100,-53 12,-53 12,-53 6,-53 0,-47 0,-41 0,-41 0,-12 0,-12 0,-6 6,0 12,0 12,0 100,0 100,0 106,0 112,-6 112,-12 112,-12 112,-41 112,-41 112,-47 106,-53 100,-53\"/>\n<text text-anchor=\"start\" x=\"15.5\" y=\"-37.8\" font-family=\"Helvetica,sans-Serif\" font-size=\"14.00\" fill=\"#000000\">mse = 0.052</text>\n<text text-anchor=\"start\" x=\"8\" y=\"-22.8\" font-family=\"Helvetica,sans-Serif\" font-size=\"14.00\" fill=\"#000000\">samples = 128</text>\n<text text-anchor=\"start\" x=\"12\" y=\"-7.8\" font-family=\"Helvetica,sans-Serif\" font-size=\"14.00\" fill=\"#000000\">value = 0.945</text>\n</g>\n<!-- 1&#45;&gt;2 -->\n<g id=\"edge2\" class=\"edge\">\n<title>1&#45;&gt;2</title>\n<path fill=\"none\" stroke=\"#000000\" d=\"M140.1669,-88.9777C127.2143,-79.3629 113.1465,-68.9203 100.2867,-59.3743\"/>\n<polygon fill=\"#000000\" stroke=\"#000000\" points=\"102.1499,-56.3986 92.0342,-53.2485 97.9776,-62.0193 102.1499,-56.3986\"/>\n</g>\n<!-- 3 -->\n<g id=\"node4\" class=\"node\">\n<title>3</title>\n<path fill=\"#f2c2a0\" stroke=\"#000000\" d=\"M230,-53C230,-53 142,-53 142,-53 136,-53 130,-47 130,-41 130,-41 130,-12 130,-12 130,-6 136,0 142,0 142,0 230,0 230,0 236,0 242,-6 242,-12 242,-12 242,-41 242,-41 242,-47 236,-53 230,-53\"/>\n<text text-anchor=\"start\" x=\"149.5\" y=\"-37.8\" font-family=\"Helvetica,sans-Serif\" font-size=\"14.00\" fill=\"#000000\">mse = 0.25</text>\n<text text-anchor=\"start\" x=\"138\" y=\"-22.8\" font-family=\"Helvetica,sans-Serif\" font-size=\"14.00\" fill=\"#000000\">samples = 119</text>\n<text text-anchor=\"start\" x=\"142\" y=\"-7.8\" font-family=\"Helvetica,sans-Serif\" font-size=\"14.00\" fill=\"#000000\">value = 0.513</text>\n</g>\n<!-- 1&#45;&gt;3 -->\n<g id=\"edge3\" class=\"edge\">\n<title>1&#45;&gt;3</title>\n<path fill=\"none\" stroke=\"#000000\" d=\"M186,-88.9777C186,-80.7364 186,-71.887 186,-63.5153\"/>\n<polygon fill=\"#000000\" stroke=\"#000000\" points=\"189.5001,-63.2484 186,-53.2485 182.5001,-63.2485 189.5001,-63.2484\"/>\n</g>\n<!-- 5 -->\n<g id=\"node6\" class=\"node\">\n<title>5</title>\n<path fill=\"#ffffff\" stroke=\"#000000\" d=\"M360,-53C360,-53 272,-53 272,-53 266,-53 260,-47 260,-41 260,-41 260,-12 260,-12 260,-6 266,0 272,0 272,0 360,0 360,0 366,0 372,-6 372,-12 372,-12 372,-41 372,-41 372,-47 366,-53 360,-53\"/>\n<text text-anchor=\"start\" x=\"275.5\" y=\"-37.8\" font-family=\"Helvetica,sans-Serif\" font-size=\"14.00\" fill=\"#000000\">mse = 0.098</text>\n<text text-anchor=\"start\" x=\"268\" y=\"-22.8\" font-family=\"Helvetica,sans-Serif\" font-size=\"14.00\" fill=\"#000000\">samples = 282</text>\n<text text-anchor=\"start\" x=\"276\" y=\"-7.8\" font-family=\"Helvetica,sans-Serif\" font-size=\"14.00\" fill=\"#000000\">value = 0.11</text>\n</g>\n<!-- 4&#45;&gt;5 -->\n<g id=\"edge5\" class=\"edge\">\n<title>4&#45;&gt;5</title>\n<path fill=\"none\" stroke=\"#000000\" d=\"M316,-88.9777C316,-80.7364 316,-71.887 316,-63.5153\"/>\n<polygon fill=\"#000000\" stroke=\"#000000\" points=\"319.5001,-63.2484 316,-53.2485 312.5001,-63.2485 319.5001,-63.2484\"/>\n</g>\n<!-- 6 -->\n<g id=\"node7\" class=\"node\">\n<title>6</title>\n<path fill=\"#f9e1d0\" stroke=\"#000000\" d=\"M490,-53C490,-53 402,-53 402,-53 396,-53 390,-47 390,-41 390,-41 390,-12 390,-12 390,-6 396,0 402,0 402,0 490,0 490,0 496,0 502,-6 502,-12 502,-12 502,-41 502,-41 502,-47 496,-53 490,-53\"/>\n<text text-anchor=\"start\" x=\"405.5\" y=\"-37.8\" font-family=\"Helvetica,sans-Serif\" font-size=\"14.00\" fill=\"#000000\">mse = 0.213</text>\n<text text-anchor=\"start\" x=\"398\" y=\"-22.8\" font-family=\"Helvetica,sans-Serif\" font-size=\"14.00\" fill=\"#000000\">samples = 182</text>\n<text text-anchor=\"start\" x=\"402\" y=\"-7.8\" font-family=\"Helvetica,sans-Serif\" font-size=\"14.00\" fill=\"#000000\">value = 0.308</text>\n</g>\n<!-- 4&#45;&gt;6 -->\n<g id=\"edge6\" class=\"edge\">\n<title>4&#45;&gt;6</title>\n<path fill=\"none\" stroke=\"#000000\" d=\"M361.8331,-88.9777C374.7857,-79.3629 388.8535,-68.9203 401.7133,-59.3743\"/>\n<polygon fill=\"#000000\" stroke=\"#000000\" points=\"404.0224,-62.0193 409.9658,-53.2485 399.8501,-56.3986 404.0224,-62.0193\"/>\n</g>\n</g>\n</svg>\n"
     },
     "metadata": {
      "tags": []
     },
     "execution_count": 12
    }
   ]
  },
  {
   "cell_type": "markdown",
   "metadata": {
    "id": "Ouqt16nBAglK",
    "colab_type": "text"
   },
   "source": [
    "## RandomForest from scratch. \n",
    "\n",
    "What we need are 2 classes:\n",
    "\n",
    "1. TreeEnsemble class which combines trees.\n",
    "2. DecisionTree class which grows single trees given subsets of data."
   ]
  },
  {
   "cell_type": "code",
   "metadata": {
    "id": "yed8qqcyXslT",
    "colab_type": "code",
    "colab": {}
   },
   "source": [
    "# the TreeEnsemble class is adapted from fastai (the seed has been taken out, comments added, \n",
    "# sample_sz, min_leaf variable name changed, added max_depth parameter\n",
    "class TreeEnsemble():\n",
    "    \"\"\"\n",
    "    A class that builds n estimators (decision trees) and averages their prediction.\n",
    "    \"\"\"\n",
    "    \n",
    "    def __init__(self, x, y, n_trees, n_samples, min_sample_leaf=5, max_depth=2):\n",
    "        \"\"\"\n",
    "        Initialize the TreeEnsemble\n",
    "        \n",
    "        Args:\n",
    "          x (pandas DataFrame): input data of dimensions (num_instances, num_features)\n",
    "          y (array of targets): numbers for regression or categories for classification\n",
    "          n_trees (int): number of decision trees to create\n",
    "          n_samples (int): number of data samples to use for each tree\n",
    "          min_sample_leaf (int): minimal number of data instances, in order to split the node\n",
    "        \"\"\"\n",
    "        \n",
    "        self.x = x\n",
    "        self.y = y\n",
    "        self.n_samples = n_samples \n",
    "        self.min_sample_leaf = min_sample_leaf\n",
    "        self.max_depth = max_depth\n",
    "        \n",
    "        # create n_trees amout of trees and save them in a list\n",
    "        self.trees = [self.create_tree() for i in range(n_trees)]\n",
    "\n",
    "    def create_tree(self):\n",
    "        # create the indices of data instances to take: 1. permute data indices, 2. take first n_samples\n",
    "        idxs = np.random.permutation(len(self.y))[:self.n_samples]\n",
    "        \n",
    "        return DecisionTree(self.x.iloc[idxs], self.y[idxs], idxs=np.array(range(self.n_samples)), \n",
    "                            min_sample_leaf=self.min_sample_leaf, max_depth=self.max_depth)\n",
    "    \n",
    "    def predict(self, x):\n",
    "        \"\"\"\n",
    "        This function calculates the mean prediction over the list of decision trees\n",
    "\n",
    "        Args:\n",
    "          x (pandas DataFrame): input data of dimensions (num_instances, num_features)\n",
    "\n",
    "        Returns:\n",
    "          array of floats of length num_instances: the mean prediction over decision trees for each data instance\n",
    "        \"\"\"\n",
    "        \n",
    "        # given that DecisionTree class also has a predict(x) function, calculate the mean prediction for all trees\n",
    "        # hint:the mean has to be calculated over a specific axis\n",
    "        return np.mean([t.predict(x) for t in self.trees], axis=0)"
   ],
   "execution_count": 0,
   "outputs": []
  },
  {
   "cell_type": "markdown",
   "metadata": {
    "id": "avvK31wZRusc",
    "colab_type": "text"
   },
   "source": [
    "Test the TreeEnsemble class with dummy data (only a basic test that the class does not throw errors upon definition)"
   ]
  },
  {
   "cell_type": "code",
   "metadata": {
    "id": "Q0ht8HJJPb-r",
    "colab_type": "code",
    "colab": {}
   },
   "source": [
    "# create a dummy DecisionTree class\n",
    "class DecisionTree():\n",
    "    def __init__(self, x, y, idxs, min_sample_leaf=5, max_depth=2):\n",
    "        pass\n",
    "    \n",
    "    def predict(self, x):\n",
    "      # dummy output\n",
    "      return [1., 2., 3.]"
   ],
   "execution_count": 0,
   "outputs": []
  },
  {
   "cell_type": "code",
   "metadata": {
    "id": "ItimOK1tR0kE",
    "colab_type": "code",
    "colab": {}
   },
   "source": [
    "# test the TreeEnsemble class: the dummy output of DecisionTree suggests 3 data instances, \n",
    "# thus, ens.predict should return the same (think why - how do you calculate the mean?)\n",
    "ens = TreeEnsemble(x_train, y_train, n_trees=5, n_samples=int(0.5*len(x_train)))\n",
    "\n",
    "if not sum(ens.predict(x_train)) == 6:\n",
    "    raise ValueError(\"The tree ensemble implementation does not seem to be correct\")"
   ],
   "execution_count": 0,
   "outputs": []
  },
  {
   "cell_type": "markdown",
   "metadata": {
    "id": "6OoHp82tezlL",
    "colab_type": "text"
   },
   "source": [
    "Let us now create the **DecisionTree** class."
   ]
  },
  {
   "cell_type": "code",
   "metadata": {
    "id": "_D9GK8c2iNC9",
    "colab_type": "code",
    "colab": {}
   },
   "source": [
    "# the DecisionTree class is adapted from fastai \n",
    "# (comments added, variable name (min_leaf) changed, find_varsplit and find_better_split changed)\n",
    "class DecisionTree():\n",
    "    def __init__(self, x, y, idxs, min_sample_leaf=5, max_depth=5, curr_depth=0):\n",
    "        \"\"\"\n",
    "        Initialize the DecisionTree\n",
    "        \n",
    "        Args:\n",
    "          x (pandas DataFrame): input data of dimensions (num_instances, num_features)\n",
    "          y (array of targets): numbers for regression or categories for classification\n",
    "          indxs (array): indices of data instances which belong to this node of the decision tree\n",
    "          min_sample_leaf (int): minimal number of data instances, in order to split the node\n",
    "          max_depth (int): maximum depth of the tree\n",
    "          curr_depth (int): depth of the given node (0 for root, 1 for its children etc.)\n",
    "        \"\"\"\n",
    "        \n",
    "        self.x = x\n",
    "        self.y = y\n",
    "        self.idxs = idxs\n",
    "        self.min_sample_leaf = min_sample_leaf\n",
    "        \n",
    "        # n - number of data instances in the tree/node, c - number of features\n",
    "        self.n,self.c = len(idxs), x.shape[1]\n",
    "        \n",
    "        # the predicted class or regressed value for the leaf\n",
    "        self.val = float(np.mean(y[idxs]))\n",
    "        # the criterion (entropy, mse) value at this node\n",
    "        # it is not identical to the score, \n",
    "        # as the score is the weighting of the criterions of node and children\n",
    "        self.criterion_val = self.split_criterion(y[idxs])\n",
    "        \n",
    "        # the splitting score given the splitting criterion\n",
    "        self.score = float('inf')\n",
    "        self.var_idx = None # index of the feature/variable to split on\n",
    "        self.split = None # the split value\n",
    "        \n",
    "        self.max_depth = max_depth\n",
    "        self.depth = curr_depth\n",
    "                \n",
    "        if self.depth < self.max_depth: self.find_varsplit()\n",
    "        \n",
    "    def find_varsplit(self):\n",
    "        # for each feature, check whether it provides the best split\n",
    "        # set the var_idx, score and split value\n",
    "        for i in range(self.c): \n",
    "            self.binary_split(i)\n",
    "            \n",
    "        # the criteria for splitting the node are not met - it will be a leaf\n",
    "        if self.score == float('inf'): return\n",
    "        \n",
    "        # get the values of the column along which the split is about to be done\n",
    "        x = self.x.values[self.idxs,self.var_idx]\n",
    "        # get the indices of the data instances to the left and right\n",
    "        # nonzero returns a tuple of arrays, one for each dimension, row-major, C-style\n",
    "        lhs = np.nonzero(x<=self.split)[0]\n",
    "        rhs = np.nonzero(x>self.split)[0]\n",
    "        \n",
    "        # create the left and right decision trees, pay attentio to select from self.idxs only the correct one\n",
    "        # hint: use lhs and rhs above\n",
    "        self.lhs = DecisionTree(self.x, self.y, self.idxs[lhs], max_depth=self.max_depth, curr_depth=self.depth+1)\n",
    "        self.rhs = DecisionTree(self.x, self.y, self.idxs[rhs], max_depth=self.max_depth, curr_depth=self.depth+1)\n",
    "\n",
    "    def binary_split(self, var_idx):\n",
    "        # get the column of all x values for a certain feature\n",
    "        x,y = self.x.values[self.idxs,var_idx], self.y[self.idxs]\n",
    "\n",
    "        # go through all data instances and check whether to split on that value\n",
    "        for i in range(self.n):\n",
    "            # calculate boolean masks which split the feature along a certain value\n",
    "            lhs = x<=x[i]\n",
    "            rhs = x>x[i]\n",
    "            \n",
    "            # check that both right and left node children have at least min_samples_leaf data instances\n",
    "            # if not - the score will stay infinity, so the node will remain unsplitted\n",
    "            if rhs.sum()<self.min_sample_leaf or lhs.sum()<self.min_sample_leaf: continue\n",
    "            curr_score = self.split_score(lhs, rhs, y)\n",
    "            if curr_score<self.score: \n",
    "                self.var_idx,self.score,self.split = var_idx,curr_score,x[i]\n",
    "\n",
    "    def split_score(self, lhs, rhs, y):\n",
    "        '''\n",
    "        This function calculates the weighted score for the split.\n",
    "        \n",
    "        Args:\n",
    "          lhs (array of booleans): the mask for which instances would split to the left\n",
    "          rhs (array of booleans): the mask for which instances would split to the right\n",
    "          y (array of numbers): the class or value to predict\n",
    "        \n",
    "        '''\n",
    "        \n",
    "        lhs_var = self.split_criterion(y[lhs])\n",
    "        rhs_var = self.split_criterion(y[rhs])\n",
    "        \n",
    "        # weighted (by the number of examples right and left) variance\n",
    "        curr_score = lhs_var*lhs.sum() + rhs_var*rhs.sum()\n",
    "        return curr_score\n",
    "      \n",
    "    def split_criterion(self, y):\n",
    "        return y.var()\n",
    "    \n",
    "    # a property decorator means that you can omit brackets when you call this function\n",
    "    # for example in __repr__ self.split_name\n",
    "    @property\n",
    "    def split_name(self): return self.x.columns[self.var_idx]\n",
    "    \n",
    "    @property\n",
    "    def split_col(self): return self.x.values[self.idxs,self.var_idx]\n",
    "\n",
    "    @property\n",
    "    def is_leaf(self): return self.score == float('inf')\n",
    "    \n",
    "    def __repr__(self):\n",
    "        s = \"n: {0}; val:{1:4f}; mse/entropy/gini:{2:4f}; depth:{3}\".format(self.n, self.val, self.criterion_val, self.depth) \n",
    "        \n",
    "        if not self.is_leaf:\n",
    "            s += \"; score:{0:4f}; split:{1}; var:{2}\".format(self.score,self.split,self.split_name)\n",
    "        return s\n",
    "\n",
    "    def predict(self, x):\n",
    "        # for each data instance (a row of features), make a prediction \n",
    "        return np.array([self.predict_row(xi) for xi in x])\n",
    "\n",
    "    def predict_row(self, xi):\n",
    "        if self.is_leaf: return self.val\n",
    "        # if the value of the feature for xi is <= self.split (the splitting value), then t = self.lhs else self.rhs\n",
    "        t = self.lhs if xi[self.var_idx]<=self.split else self.rhs\n",
    "        return t.predict_row(xi)"
   ],
   "execution_count": 0,
   "outputs": []
  },
  {
   "cell_type": "code",
   "metadata": {
    "id": "mySLsiC7j7k0",
    "colab_type": "code",
    "outputId": "e74ebb79-27a5-4c87-a26c-e64fb5c1372d",
    "colab": {
     "base_uri": "https://localhost:8080/",
     "height": 105
    }
   },
   "source": [
    "ens = TreeEnsemble(x_train, y_train, 1, len(y_train), max_depth=2)\n",
    "print(ens.trees[0])\n",
    "print(ens.trees[0].lhs)\n",
    "print(ens.trees[0].lhs.lhs)\n",
    "print(ens.trees[0].lhs.rhs)\n",
    "print(ens.trees[0].rhs)"
   ],
   "execution_count": 0,
   "outputs": [
    {
     "output_type": "stream",
     "text": [
      "n: 711; val:0.378340; mse/entropy/gini:0.235199; depth:0; score:118.582237; split:0.0; var:male\n",
      "n: 247; val:0.736842; mse/entropy/gini:0.193906; depth:1; score:36.348280; split:2.0; var:pclass\n",
      "n: 128; val:0.945312; mse/entropy/gini:0.051697; depth:2\n",
      "n: 119; val:0.512605; mse/entropy/gini:0.249841; depth:2\n",
      "n: 464; val:0.187500; mse/entropy/gini:0.152344; depth:1; score:66.361429; split:15.1; var:fare\n"
     ],
     "name": "stdout"
    }
   ]
  },
  {
   "cell_type": "code",
   "metadata": {
    "id": "5w0Y_mm3y4Du",
    "colab_type": "code",
    "outputId": "6d6ce495-1d74-4975-819f-5b28a1788e2b",
    "colab": {
     "base_uri": "https://localhost:8080/",
     "height": 379
    }
   },
   "source": [
    "# compare the calculated regressed values to the random forest\n",
    "\n",
    "m = RandomForestRegressor(n_estimators=1, max_depth=2, bootstrap=False)\n",
    "m.fit(x_train, y_train)\n",
    "\n",
    "# visualize the fitted tree to your train data\n",
    "dot_data = tree.export_graphviz(m.estimators_[0], out_file=None, \n",
    "                         feature_names=x_train.columns,  \n",
    "                         class_names=labels,  \n",
    "                         filled=True, rounded=True,  \n",
    "                         special_characters=True)  \n",
    "graph = graphviz.Source(dot_data) \n",
    "graph"
   ],
   "execution_count": 0,
   "outputs": [
    {
     "output_type": "execute_result",
     "data": {
      "text/plain": [
       "<graphviz.files.Source at 0x7f06fc1ed128>"
      ],
      "image/svg+xml": "<?xml version=\"1.0\" encoding=\"UTF-8\" standalone=\"no\"?>\n<!DOCTYPE svg PUBLIC \"-//W3C//DTD SVG 1.1//EN\"\n \"http://www.w3.org/Graphics/SVG/1.1/DTD/svg11.dtd\">\n<!-- Generated by graphviz version 2.40.1 (20161225.0304)\n -->\n<!-- Title: Tree Pages: 1 -->\n<svg width=\"510pt\" height=\"269pt\"\n viewBox=\"0.00 0.00 510.00 269.00\" xmlns=\"http://www.w3.org/2000/svg\" xmlns:xlink=\"http://www.w3.org/1999/xlink\">\n<g id=\"graph0\" class=\"graph\" transform=\"scale(1 1) rotate(0) translate(4 265)\">\n<title>Tree</title>\n<polygon fill=\"#ffffff\" stroke=\"transparent\" points=\"-4,4 -4,-265 506,-265 506,4 -4,4\"/>\n<!-- 0 -->\n<g id=\"node1\" class=\"node\">\n<title>0</title>\n<path fill=\"#f7d7bf\" stroke=\"#000000\" d=\"M295,-261C295,-261 207,-261 207,-261 201,-261 195,-255 195,-249 195,-249 195,-205 195,-205 195,-199 201,-193 207,-193 207,-193 295,-193 295,-193 301,-193 307,-199 307,-205 307,-205 307,-249 307,-249 307,-255 301,-261 295,-261\"/>\n<text text-anchor=\"start\" x=\"217.5\" y=\"-245.8\" font-family=\"Helvetica,sans-Serif\" font-size=\"14.00\" fill=\"#000000\">male ≤ 0.5</text>\n<text text-anchor=\"start\" x=\"210.5\" y=\"-230.8\" font-family=\"Helvetica,sans-Serif\" font-size=\"14.00\" fill=\"#000000\">mse = 0.235</text>\n<text text-anchor=\"start\" x=\"203\" y=\"-215.8\" font-family=\"Helvetica,sans-Serif\" font-size=\"14.00\" fill=\"#000000\">samples = 711</text>\n<text text-anchor=\"start\" x=\"207\" y=\"-200.8\" font-family=\"Helvetica,sans-Serif\" font-size=\"14.00\" fill=\"#000000\">value = 0.378</text>\n</g>\n<!-- 1 -->\n<g id=\"node2\" class=\"node\">\n<title>1</title>\n<path fill=\"#eba06a\" stroke=\"#000000\" d=\"M230,-157C230,-157 142,-157 142,-157 136,-157 130,-151 130,-145 130,-145 130,-101 130,-101 130,-95 136,-89 142,-89 142,-89 230,-89 230,-89 236,-89 242,-95 242,-101 242,-101 242,-145 242,-145 242,-151 236,-157 230,-157\"/>\n<text text-anchor=\"start\" x=\"147\" y=\"-141.8\" font-family=\"Helvetica,sans-Serif\" font-size=\"14.00\" fill=\"#000000\">pclass ≤ 2.5</text>\n<text text-anchor=\"start\" x=\"145.5\" y=\"-126.8\" font-family=\"Helvetica,sans-Serif\" font-size=\"14.00\" fill=\"#000000\">mse = 0.194</text>\n<text text-anchor=\"start\" x=\"138\" y=\"-111.8\" font-family=\"Helvetica,sans-Serif\" font-size=\"14.00\" fill=\"#000000\">samples = 247</text>\n<text text-anchor=\"start\" x=\"142\" y=\"-96.8\" font-family=\"Helvetica,sans-Serif\" font-size=\"14.00\" fill=\"#000000\">value = 0.737</text>\n</g>\n<!-- 0&#45;&gt;1 -->\n<g id=\"edge1\" class=\"edge\">\n<title>0&#45;&gt;1</title>\n<path fill=\"none\" stroke=\"#000000\" d=\"M229.7166,-192.9465C224.2733,-184.2373 218.3516,-174.7626 212.675,-165.6801\"/>\n<polygon fill=\"#000000\" stroke=\"#000000\" points=\"215.5993,-163.755 207.3312,-157.13 209.6633,-167.465 215.5993,-163.755\"/>\n<text text-anchor=\"middle\" x=\"201.7098\" y=\"-177.7898\" font-family=\"Helvetica,sans-Serif\" font-size=\"14.00\" fill=\"#000000\">True</text>\n</g>\n<!-- 4 -->\n<g id=\"node5\" class=\"node\">\n<title>4</title>\n<path fill=\"#fdf3ed\" stroke=\"#000000\" d=\"M360,-157C360,-157 272,-157 272,-157 266,-157 260,-151 260,-145 260,-145 260,-101 260,-101 260,-95 266,-89 272,-89 272,-89 360,-89 360,-89 366,-89 372,-95 372,-101 372,-101 372,-145 372,-145 372,-151 366,-157 360,-157\"/>\n<text text-anchor=\"start\" x=\"273.5\" y=\"-141.8\" font-family=\"Helvetica,sans-Serif\" font-size=\"14.00\" fill=\"#000000\">fare ≤ 15.173</text>\n<text text-anchor=\"start\" x=\"275.5\" y=\"-126.8\" font-family=\"Helvetica,sans-Serif\" font-size=\"14.00\" fill=\"#000000\">mse = 0.152</text>\n<text text-anchor=\"start\" x=\"268\" y=\"-111.8\" font-family=\"Helvetica,sans-Serif\" font-size=\"14.00\" fill=\"#000000\">samples = 464</text>\n<text text-anchor=\"start\" x=\"272\" y=\"-96.8\" font-family=\"Helvetica,sans-Serif\" font-size=\"14.00\" fill=\"#000000\">value = 0.188</text>\n</g>\n<!-- 0&#45;&gt;4 -->\n<g id=\"edge4\" class=\"edge\">\n<title>0&#45;&gt;4</title>\n<path fill=\"none\" stroke=\"#000000\" d=\"M272.2834,-192.9465C277.7267,-184.2373 283.6484,-174.7626 289.325,-165.6801\"/>\n<polygon fill=\"#000000\" stroke=\"#000000\" points=\"292.3367,-167.465 294.6688,-157.13 286.4007,-163.755 292.3367,-167.465\"/>\n<text text-anchor=\"middle\" x=\"300.2902\" y=\"-177.7898\" font-family=\"Helvetica,sans-Serif\" font-size=\"14.00\" fill=\"#000000\">False</text>\n</g>\n<!-- 2 -->\n<g id=\"node3\" class=\"node\">\n<title>2</title>\n<path fill=\"#e58139\" stroke=\"#000000\" d=\"M100,-53C100,-53 12,-53 12,-53 6,-53 0,-47 0,-41 0,-41 0,-12 0,-12 0,-6 6,0 12,0 12,0 100,0 100,0 106,0 112,-6 112,-12 112,-12 112,-41 112,-41 112,-47 106,-53 100,-53\"/>\n<text text-anchor=\"start\" x=\"15.5\" y=\"-37.8\" font-family=\"Helvetica,sans-Serif\" font-size=\"14.00\" fill=\"#000000\">mse = 0.052</text>\n<text text-anchor=\"start\" x=\"8\" y=\"-22.8\" font-family=\"Helvetica,sans-Serif\" font-size=\"14.00\" fill=\"#000000\">samples = 128</text>\n<text text-anchor=\"start\" x=\"12\" y=\"-7.8\" font-family=\"Helvetica,sans-Serif\" font-size=\"14.00\" fill=\"#000000\">value = 0.945</text>\n</g>\n<!-- 1&#45;&gt;2 -->\n<g id=\"edge2\" class=\"edge\">\n<title>1&#45;&gt;2</title>\n<path fill=\"none\" stroke=\"#000000\" d=\"M140.1669,-88.9777C127.2143,-79.3629 113.1465,-68.9203 100.2867,-59.3743\"/>\n<polygon fill=\"#000000\" stroke=\"#000000\" points=\"102.1499,-56.3986 92.0342,-53.2485 97.9776,-62.0193 102.1499,-56.3986\"/>\n</g>\n<!-- 3 -->\n<g id=\"node4\" class=\"node\">\n<title>3</title>\n<path fill=\"#f2c2a0\" stroke=\"#000000\" d=\"M230,-53C230,-53 142,-53 142,-53 136,-53 130,-47 130,-41 130,-41 130,-12 130,-12 130,-6 136,0 142,0 142,0 230,0 230,0 236,0 242,-6 242,-12 242,-12 242,-41 242,-41 242,-47 236,-53 230,-53\"/>\n<text text-anchor=\"start\" x=\"149.5\" y=\"-37.8\" font-family=\"Helvetica,sans-Serif\" font-size=\"14.00\" fill=\"#000000\">mse = 0.25</text>\n<text text-anchor=\"start\" x=\"138\" y=\"-22.8\" font-family=\"Helvetica,sans-Serif\" font-size=\"14.00\" fill=\"#000000\">samples = 119</text>\n<text text-anchor=\"start\" x=\"142\" y=\"-7.8\" font-family=\"Helvetica,sans-Serif\" font-size=\"14.00\" fill=\"#000000\">value = 0.513</text>\n</g>\n<!-- 1&#45;&gt;3 -->\n<g id=\"edge3\" class=\"edge\">\n<title>1&#45;&gt;3</title>\n<path fill=\"none\" stroke=\"#000000\" d=\"M186,-88.9777C186,-80.7364 186,-71.887 186,-63.5153\"/>\n<polygon fill=\"#000000\" stroke=\"#000000\" points=\"189.5001,-63.2484 186,-53.2485 182.5001,-63.2485 189.5001,-63.2484\"/>\n</g>\n<!-- 5 -->\n<g id=\"node6\" class=\"node\">\n<title>5</title>\n<path fill=\"#ffffff\" stroke=\"#000000\" d=\"M360,-53C360,-53 272,-53 272,-53 266,-53 260,-47 260,-41 260,-41 260,-12 260,-12 260,-6 266,0 272,0 272,0 360,0 360,0 366,0 372,-6 372,-12 372,-12 372,-41 372,-41 372,-47 366,-53 360,-53\"/>\n<text text-anchor=\"start\" x=\"275.5\" y=\"-37.8\" font-family=\"Helvetica,sans-Serif\" font-size=\"14.00\" fill=\"#000000\">mse = 0.098</text>\n<text text-anchor=\"start\" x=\"268\" y=\"-22.8\" font-family=\"Helvetica,sans-Serif\" font-size=\"14.00\" fill=\"#000000\">samples = 282</text>\n<text text-anchor=\"start\" x=\"276\" y=\"-7.8\" font-family=\"Helvetica,sans-Serif\" font-size=\"14.00\" fill=\"#000000\">value = 0.11</text>\n</g>\n<!-- 4&#45;&gt;5 -->\n<g id=\"edge5\" class=\"edge\">\n<title>4&#45;&gt;5</title>\n<path fill=\"none\" stroke=\"#000000\" d=\"M316,-88.9777C316,-80.7364 316,-71.887 316,-63.5153\"/>\n<polygon fill=\"#000000\" stroke=\"#000000\" points=\"319.5001,-63.2484 316,-53.2485 312.5001,-63.2485 319.5001,-63.2484\"/>\n</g>\n<!-- 6 -->\n<g id=\"node7\" class=\"node\">\n<title>6</title>\n<path fill=\"#f9e1d0\" stroke=\"#000000\" d=\"M490,-53C490,-53 402,-53 402,-53 396,-53 390,-47 390,-41 390,-41 390,-12 390,-12 390,-6 396,0 402,0 402,0 490,0 490,0 496,0 502,-6 502,-12 502,-12 502,-41 502,-41 502,-47 496,-53 490,-53\"/>\n<text text-anchor=\"start\" x=\"405.5\" y=\"-37.8\" font-family=\"Helvetica,sans-Serif\" font-size=\"14.00\" fill=\"#000000\">mse = 0.213</text>\n<text text-anchor=\"start\" x=\"398\" y=\"-22.8\" font-family=\"Helvetica,sans-Serif\" font-size=\"14.00\" fill=\"#000000\">samples = 182</text>\n<text text-anchor=\"start\" x=\"402\" y=\"-7.8\" font-family=\"Helvetica,sans-Serif\" font-size=\"14.00\" fill=\"#000000\">value = 0.308</text>\n</g>\n<!-- 4&#45;&gt;6 -->\n<g id=\"edge6\" class=\"edge\">\n<title>4&#45;&gt;6</title>\n<path fill=\"none\" stroke=\"#000000\" d=\"M361.8331,-88.9777C374.7857,-79.3629 388.8535,-68.9203 401.7133,-59.3743\"/>\n<polygon fill=\"#000000\" stroke=\"#000000\" points=\"404.0224,-62.0193 409.9658,-53.2485 399.8501,-56.3986 404.0224,-62.0193\"/>\n</g>\n</g>\n</svg>\n"
     },
     "metadata": {
      "tags": []
     },
     "execution_count": 19
    }
   ]
  },
  {
   "cell_type": "markdown",
   "metadata": {
    "id": "4767omlEExQ0",
    "colab_type": "text"
   },
   "source": [
    "Exchange the splitting criterion of the DecisionTree from **mse** to** entropy**, create sklearn's **RandomForestClassifier** and compare the entropies"
   ]
  },
  {
   "cell_type": "code",
   "metadata": {
    "id": "jaKBFoS11RhY",
    "colab_type": "code",
    "colab": {}
   },
   "source": [
    "def split_criterion(self, y):\n",
    "    entropy = 0\n",
    "    eps = 1e-15\n",
    "    # yi is the class value, e.g. 0,1,2 if there are 3 classes, 0, 1 in our case\n",
    "    for yi in np.unique(y):\n",
    "        mask = y==yi\n",
    "        pi = mask.sum()/len(y)\n",
    "        entropy += -pi*np.log2(pi+eps)\n",
    "    return entropy"
   ],
   "execution_count": 0,
   "outputs": []
  },
  {
   "cell_type": "code",
   "metadata": {
    "id": "wJicDwrl3hL5",
    "colab_type": "code",
    "colab": {}
   },
   "source": [
    "# exchange the earlier split_criterion function (mse) with the one above\n",
    "DecisionTree.split_criterion=split_criterion"
   ],
   "execution_count": 0,
   "outputs": []
  },
  {
   "cell_type": "code",
   "metadata": {
    "id": "10Ja2KEB0VsS",
    "colab_type": "code",
    "outputId": "3cbb9277-cf2b-4c02-e6c6-dc9a6ac9be83",
    "colab": {
     "base_uri": "https://localhost:8080/",
     "height": 105
    }
   },
   "source": [
    "ens = TreeEnsemble(x_train, y_train, 1, len(y_train), max_depth=2)\n",
    "print(ens.trees[0])\n",
    "print(ens.trees[0].lhs)\n",
    "print(ens.trees[0].lhs.lhs)\n",
    "print(ens.trees[0].lhs.rhs)\n",
    "print(ens.trees[0].rhs)"
   ],
   "execution_count": 0,
   "outputs": [
    {
     "output_type": "stream",
     "text": [
      "n: 711; val:0.378340; mse/entropy/gini:0.956861; depth:0; score:528.416663; split:0.0; var:male\n",
      "n: 247; val:0.736842; mse/entropy/gini:0.831474; depth:1; score:158.111502; split:2.0; var:pclass\n",
      "n: 128; val:0.945312; mse/entropy/gini:0.305985; depth:2\n",
      "n: 119; val:0.512605; mse/entropy/gini:0.999542; depth:2\n",
      "n: 464; val:0.187500; mse/entropy/gini:0.696212; depth:1; score:302.985442; split:15.1; var:fare\n"
     ],
     "name": "stdout"
    }
   ]
  },
  {
   "cell_type": "code",
   "metadata": {
    "id": "2uf3AN5a01TF",
    "colab_type": "code",
    "outputId": "0eae9f6a-e386-49a8-fb0f-7dce55ceebb8",
    "colab": {
     "base_uri": "https://localhost:8080/",
     "height": 439
    }
   },
   "source": [
    "# since RandomForestClassifier selects randomly m best features to split on, we fix the seed\n",
    "# the random split on a subset of features serves the aim of reducing overfitting (variance) of the model\n",
    "# for more on bias-variance trade-off check ou:\n",
    "# https://towardsdatascience.com/understanding-the-bias-variance-tradeoff-165e6942b229\n",
    "# if the split is still long different variables than above, then comment the next line out and run the cell a couple of times...\n",
    "np.random.seed(1936483610)\n",
    "\n",
    "m = RandomForestClassifier(n_estimators=1, criterion='entropy', max_depth=2, bootstrap=False)\n",
    "m.fit(x_train, y_train)\n",
    "\n",
    "# visualize the fitted tree to your train data\n",
    "dot_data = tree.export_graphviz(m.estimators_[0], out_file=None, \n",
    "                         feature_names=x_train.columns,  \n",
    "                         class_names=labels,  \n",
    "                         filled=True, rounded=True,  \n",
    "                         special_characters=True)  \n",
    "graph = graphviz.Source(dot_data) \n",
    "\n",
    "graph"
   ],
   "execution_count": 0,
   "outputs": [
    {
     "output_type": "execute_result",
     "data": {
      "text/plain": [
       "<graphviz.files.Source at 0x7f06fbd1d278>"
      ],
      "image/svg+xml": "<?xml version=\"1.0\" encoding=\"UTF-8\" standalone=\"no\"?>\n<!DOCTYPE svg PUBLIC \"-//W3C//DTD SVG 1.1//EN\"\n \"http://www.w3.org/Graphics/SVG/1.1/DTD/svg11.dtd\">\n<!-- Generated by graphviz version 2.40.1 (20161225.0304)\n -->\n<!-- Title: Tree Pages: 1 -->\n<svg width=\"595pt\" height=\"314pt\"\n viewBox=\"0.00 0.00 595.00 314.00\" xmlns=\"http://www.w3.org/2000/svg\" xmlns:xlink=\"http://www.w3.org/1999/xlink\">\n<g id=\"graph0\" class=\"graph\" transform=\"scale(1 1) rotate(0) translate(4 310)\">\n<title>Tree</title>\n<polygon fill=\"#ffffff\" stroke=\"transparent\" points=\"-4,4 -4,-310 591,-310 591,4 -4,4\"/>\n<!-- 0 -->\n<g id=\"node1\" class=\"node\">\n<title>0</title>\n<path fill=\"#f5ceb2\" stroke=\"#000000\" d=\"M335,-306C335,-306 214,-306 214,-306 208,-306 202,-300 202,-294 202,-294 202,-235 202,-235 202,-229 208,-223 214,-223 214,-223 335,-223 335,-223 341,-223 347,-229 347,-235 347,-235 347,-294 347,-294 347,-300 341,-306 335,-306\"/>\n<text text-anchor=\"start\" x=\"241\" y=\"-290.8\" font-family=\"Helvetica,sans-Serif\" font-size=\"14.00\" fill=\"#000000\">male ≤ 0.5</text>\n<text text-anchor=\"start\" x=\"223.5\" y=\"-275.8\" font-family=\"Helvetica,sans-Serif\" font-size=\"14.00\" fill=\"#000000\">entropy = 0.957</text>\n<text text-anchor=\"start\" x=\"226.5\" y=\"-260.8\" font-family=\"Helvetica,sans-Serif\" font-size=\"14.00\" fill=\"#000000\">samples = 711</text>\n<text text-anchor=\"start\" x=\"216.5\" y=\"-245.8\" font-family=\"Helvetica,sans-Serif\" font-size=\"14.00\" fill=\"#000000\">value = [442, 269]</text>\n<text text-anchor=\"start\" x=\"210\" y=\"-230.8\" font-family=\"Helvetica,sans-Serif\" font-size=\"14.00\" fill=\"#000000\">class = not survived</text>\n</g>\n<!-- 1 -->\n<g id=\"node2\" class=\"node\">\n<title>1</title>\n<path fill=\"#80c0ee\" stroke=\"#000000\" d=\"M248.5,-187C248.5,-187 148.5,-187 148.5,-187 142.5,-187 136.5,-181 136.5,-175 136.5,-175 136.5,-116 136.5,-116 136.5,-110 142.5,-104 148.5,-104 148.5,-104 248.5,-104 248.5,-104 254.5,-104 260.5,-110 260.5,-116 260.5,-116 260.5,-175 260.5,-175 260.5,-181 254.5,-187 248.5,-187\"/>\n<text text-anchor=\"start\" x=\"159.5\" y=\"-171.8\" font-family=\"Helvetica,sans-Serif\" font-size=\"14.00\" fill=\"#000000\">pclass ≤ 2.5</text>\n<text text-anchor=\"start\" x=\"147.5\" y=\"-156.8\" font-family=\"Helvetica,sans-Serif\" font-size=\"14.00\" fill=\"#000000\">entropy = 0.831</text>\n<text text-anchor=\"start\" x=\"150.5\" y=\"-141.8\" font-family=\"Helvetica,sans-Serif\" font-size=\"14.00\" fill=\"#000000\">samples = 247</text>\n<text text-anchor=\"start\" x=\"144.5\" y=\"-126.8\" font-family=\"Helvetica,sans-Serif\" font-size=\"14.00\" fill=\"#000000\">value = [65, 182]</text>\n<text text-anchor=\"start\" x=\"146\" y=\"-111.8\" font-family=\"Helvetica,sans-Serif\" font-size=\"14.00\" fill=\"#000000\">class = survived</text>\n</g>\n<!-- 0&#45;&gt;1 -->\n<g id=\"edge1\" class=\"edge\">\n<title>0&#45;&gt;1</title>\n<path fill=\"none\" stroke=\"#000000\" d=\"M247.9189,-222.8796C242.3395,-214.1434 236.3981,-204.8404 230.6405,-195.8253\"/>\n<polygon fill=\"#000000\" stroke=\"#000000\" points=\"233.5269,-193.8421 225.1946,-187.2981 227.6274,-197.6098 233.5269,-193.8421\"/>\n<text text-anchor=\"middle\" x=\"219.8111\" y=\"-208.0116\" font-family=\"Helvetica,sans-Serif\" font-size=\"14.00\" fill=\"#000000\">True</text>\n</g>\n<!-- 4 -->\n<g id=\"node5\" class=\"node\">\n<title>4</title>\n<path fill=\"#eb9e67\" stroke=\"#000000\" d=\"M412,-187C412,-187 291,-187 291,-187 285,-187 279,-181 279,-175 279,-175 279,-116 279,-116 279,-110 285,-104 291,-104 291,-104 412,-104 412,-104 418,-104 424,-110 424,-116 424,-116 424,-175 424,-175 424,-181 418,-187 412,-187\"/>\n<text text-anchor=\"start\" x=\"309\" y=\"-171.8\" font-family=\"Helvetica,sans-Serif\" font-size=\"14.00\" fill=\"#000000\">fare ≤ 15.173</text>\n<text text-anchor=\"start\" x=\"300.5\" y=\"-156.8\" font-family=\"Helvetica,sans-Serif\" font-size=\"14.00\" fill=\"#000000\">entropy = 0.696</text>\n<text text-anchor=\"start\" x=\"303.5\" y=\"-141.8\" font-family=\"Helvetica,sans-Serif\" font-size=\"14.00\" fill=\"#000000\">samples = 464</text>\n<text text-anchor=\"start\" x=\"297.5\" y=\"-126.8\" font-family=\"Helvetica,sans-Serif\" font-size=\"14.00\" fill=\"#000000\">value = [377, 87]</text>\n<text text-anchor=\"start\" x=\"287\" y=\"-111.8\" font-family=\"Helvetica,sans-Serif\" font-size=\"14.00\" fill=\"#000000\">class = not survived</text>\n</g>\n<!-- 0&#45;&gt;4 -->\n<g id=\"edge4\" class=\"edge\">\n<title>0&#45;&gt;4</title>\n<path fill=\"none\" stroke=\"#000000\" d=\"M301.4309,-222.8796C307.0837,-214.1434 313.1033,-204.8404 318.9366,-195.8253\"/>\n<polygon fill=\"#000000\" stroke=\"#000000\" points=\"321.9601,-197.5952 324.4542,-187.2981 316.0831,-193.7924 321.9601,-197.5952\"/>\n<text text-anchor=\"middle\" x=\"329.6924\" y=\"-208.0431\" font-family=\"Helvetica,sans-Serif\" font-size=\"14.00\" fill=\"#000000\">False</text>\n</g>\n<!-- 2 -->\n<g id=\"node3\" class=\"node\">\n<title>2</title>\n<path fill=\"#44a3e7\" stroke=\"#000000\" d=\"M109,-68C109,-68 12,-68 12,-68 6,-68 0,-62 0,-56 0,-56 0,-12 0,-12 0,-6 6,0 12,0 12,0 109,0 109,0 115,0 121,-6 121,-12 121,-12 121,-56 121,-56 121,-62 115,-68 109,-68\"/>\n<text text-anchor=\"start\" x=\"9.5\" y=\"-52.8\" font-family=\"Helvetica,sans-Serif\" font-size=\"14.00\" fill=\"#000000\">entropy = 0.306</text>\n<text text-anchor=\"start\" x=\"12.5\" y=\"-37.8\" font-family=\"Helvetica,sans-Serif\" font-size=\"14.00\" fill=\"#000000\">samples = 128</text>\n<text text-anchor=\"start\" x=\"10.5\" y=\"-22.8\" font-family=\"Helvetica,sans-Serif\" font-size=\"14.00\" fill=\"#000000\">value = [7, 121]</text>\n<text text-anchor=\"start\" x=\"8\" y=\"-7.8\" font-family=\"Helvetica,sans-Serif\" font-size=\"14.00\" fill=\"#000000\">class = survived</text>\n</g>\n<!-- 1&#45;&gt;2 -->\n<g id=\"edge2\" class=\"edge\">\n<title>1&#45;&gt;2</title>\n<path fill=\"none\" stroke=\"#000000\" d=\"M147.1139,-103.9815C135.2839,-94.4232 122.7136,-84.2668 110.9249,-74.7419\"/>\n<polygon fill=\"#000000\" stroke=\"#000000\" points=\"112.8851,-71.826 102.9071,-68.2637 108.4858,-77.2708 112.8851,-71.826\"/>\n</g>\n<!-- 3 -->\n<g id=\"node4\" class=\"node\">\n<title>3</title>\n<path fill=\"#f5fafe\" stroke=\"#000000\" d=\"M248,-68C248,-68 151,-68 151,-68 145,-68 139,-62 139,-56 139,-56 139,-12 139,-12 139,-6 145,0 151,0 151,0 248,0 248,0 254,0 260,-6 260,-12 260,-12 260,-56 260,-56 260,-62 254,-68 248,-68\"/>\n<text text-anchor=\"start\" x=\"157\" y=\"-52.8\" font-family=\"Helvetica,sans-Serif\" font-size=\"14.00\" fill=\"#000000\">entropy = 1.0</text>\n<text text-anchor=\"start\" x=\"151.5\" y=\"-37.8\" font-family=\"Helvetica,sans-Serif\" font-size=\"14.00\" fill=\"#000000\">samples = 119</text>\n<text text-anchor=\"start\" x=\"149.5\" y=\"-22.8\" font-family=\"Helvetica,sans-Serif\" font-size=\"14.00\" fill=\"#000000\">value = [58, 61]</text>\n<text text-anchor=\"start\" x=\"147\" y=\"-7.8\" font-family=\"Helvetica,sans-Serif\" font-size=\"14.00\" fill=\"#000000\">class = survived</text>\n</g>\n<!-- 1&#45;&gt;3 -->\n<g id=\"edge3\" class=\"edge\">\n<title>1&#45;&gt;3</title>\n<path fill=\"none\" stroke=\"#000000\" d=\"M198.8724,-103.9815C198.9474,-95.618 199.0265,-86.7965 199.1023,-78.3409\"/>\n<polygon fill=\"#000000\" stroke=\"#000000\" points=\"202.6028,-78.2947 199.1927,-68.2637 195.6031,-78.2318 202.6028,-78.2947\"/>\n</g>\n<!-- 5 -->\n<g id=\"node6\" class=\"node\">\n<title>5</title>\n<path fill=\"#e89151\" stroke=\"#000000\" d=\"M412,-68C412,-68 291,-68 291,-68 285,-68 279,-62 279,-56 279,-56 279,-12 279,-12 279,-6 285,0 291,0 291,0 412,0 412,0 418,0 424,-6 424,-12 424,-12 424,-56 424,-56 424,-62 418,-68 412,-68\"/>\n<text text-anchor=\"start\" x=\"309\" y=\"-52.8\" font-family=\"Helvetica,sans-Serif\" font-size=\"14.00\" fill=\"#000000\">entropy = 0.5</text>\n<text text-anchor=\"start\" x=\"303.5\" y=\"-37.8\" font-family=\"Helvetica,sans-Serif\" font-size=\"14.00\" fill=\"#000000\">samples = 282</text>\n<text text-anchor=\"start\" x=\"297.5\" y=\"-22.8\" font-family=\"Helvetica,sans-Serif\" font-size=\"14.00\" fill=\"#000000\">value = [251, 31]</text>\n<text text-anchor=\"start\" x=\"287\" y=\"-7.8\" font-family=\"Helvetica,sans-Serif\" font-size=\"14.00\" fill=\"#000000\">class = not survived</text>\n</g>\n<!-- 4&#45;&gt;5 -->\n<g id=\"edge5\" class=\"edge\">\n<title>4&#45;&gt;5</title>\n<path fill=\"none\" stroke=\"#000000\" d=\"M351.5,-103.9815C351.5,-95.618 351.5,-86.7965 351.5,-78.3409\"/>\n<polygon fill=\"#000000\" stroke=\"#000000\" points=\"355.0001,-78.2636 351.5,-68.2637 348.0001,-78.2637 355.0001,-78.2636\"/>\n</g>\n<!-- 6 -->\n<g id=\"node7\" class=\"node\">\n<title>6</title>\n<path fill=\"#f1b991\" stroke=\"#000000\" d=\"M575,-68C575,-68 454,-68 454,-68 448,-68 442,-62 442,-56 442,-56 442,-12 442,-12 442,-6 448,0 454,0 454,0 575,0 575,0 581,0 587,-6 587,-12 587,-12 587,-56 587,-56 587,-62 581,-68 575,-68\"/>\n<text text-anchor=\"start\" x=\"467.5\" y=\"-52.8\" font-family=\"Helvetica,sans-Serif\" font-size=\"14.00\" fill=\"#000000\">entropy = 0.89</text>\n<text text-anchor=\"start\" x=\"466.5\" y=\"-37.8\" font-family=\"Helvetica,sans-Serif\" font-size=\"14.00\" fill=\"#000000\">samples = 182</text>\n<text text-anchor=\"start\" x=\"460.5\" y=\"-22.8\" font-family=\"Helvetica,sans-Serif\" font-size=\"14.00\" fill=\"#000000\">value = [126, 56]</text>\n<text text-anchor=\"start\" x=\"450\" y=\"-7.8\" font-family=\"Helvetica,sans-Serif\" font-size=\"14.00\" fill=\"#000000\">class = not survived</text>\n</g>\n<!-- 4&#45;&gt;6 -->\n<g id=\"edge6\" class=\"edge\">\n<title>4&#45;&gt;6</title>\n<path fill=\"none\" stroke=\"#000000\" d=\"M412.1952,-103.9815C426.647,-94.0957 442.0342,-83.5701 456.368,-73.7651\"/>\n<polygon fill=\"#000000\" stroke=\"#000000\" points=\"458.3932,-76.6204 464.6708,-68.0856 454.441,-70.8428 458.3932,-76.6204\"/>\n</g>\n</g>\n</svg>\n"
     },
     "metadata": {
      "tags": []
     },
     "execution_count": 23
    }
   ]
  },
  {
   "cell_type": "code",
   "metadata": {
    "id": "HV8XZ4YghlIG",
    "colab_type": "code",
    "colab": {}
   },
   "source": [],
   "execution_count": 0,
   "outputs": []
  }
 ]
}
